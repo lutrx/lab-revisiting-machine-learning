{
 "cells": [
  {
   "cell_type": "code",
   "execution_count": 183,
   "id": "8920609c",
   "metadata": {},
   "outputs": [],
   "source": [
    "import pandas as pd\n",
    "import numpy as np\n",
    "import matplotlib.pyplot as plt\n",
    "import seaborn as sns \n",
    "from sklearn.model_selection import train_test_split\n",
    "from sklearn.preprocessing import MinMaxScaler\n",
    "from sklearn.preprocessing import OneHotEncoder\n",
    "from sklearn.linear_model import LogisticRegression\n",
    "from sklearn.metrics import precision_score\n",
    "from sklearn.metrics import recall_score\n",
    "from sklearn.metrics import f1_score\n",
    "from imblearn.over_sampling import SMOTE"
   ]
  },
  {
   "cell_type": "markdown",
   "id": "fc67976c",
   "metadata": {},
   "source": [
    "#### Read data"
   ]
  },
  {
   "cell_type": "code",
   "execution_count": 2,
   "id": "bbd546b4",
   "metadata": {},
   "outputs": [
    {
     "name": "stderr",
     "output_type": "stream",
     "text": [
      "C:\\Users\\lisab\\AppData\\Local\\Temp\\ipykernel_3292\\911819598.py:1: DtypeWarning: Columns (8) have mixed types. Specify dtype option on import or set low_memory=False.\n",
      "  data = pd.read_csv('C:/Users/lisab/OneDrive/Desktop/DA_labs/Week_7/Lesson/learningSet.csv')\n"
     ]
    }
   ],
   "source": [
    "data = pd.read_csv('C:/Users/lisab/OneDrive/Desktop/DA_labs/Week_7/Lesson/learningSet.csv')"
   ]
  },
  {
   "cell_type": "code",
   "execution_count": 3,
   "id": "a54d7c47",
   "metadata": {},
   "outputs": [
    {
     "name": "stdout",
     "output_type": "stream",
     "text": [
      "(95412, 481)\n"
     ]
    }
   ],
   "source": [
    "print(data.shape)\n",
    "#data.head(10)"
   ]
  },
  {
   "cell_type": "markdown",
   "id": "c2f549ba",
   "metadata": {},
   "source": [
    "#### Get all categorical columns"
   ]
  },
  {
   "cell_type": "code",
   "execution_count": 4,
   "id": "609bb652",
   "metadata": {},
   "outputs": [
    {
     "data": {
      "text/html": [
       "<div>\n",
       "<style scoped>\n",
       "    .dataframe tbody tr th:only-of-type {\n",
       "        vertical-align: middle;\n",
       "    }\n",
       "\n",
       "    .dataframe tbody tr th {\n",
       "        vertical-align: top;\n",
       "    }\n",
       "\n",
       "    .dataframe thead th {\n",
       "        text-align: right;\n",
       "    }\n",
       "</style>\n",
       "<table border=\"1\" class=\"dataframe\">\n",
       "  <thead>\n",
       "    <tr style=\"text-align: right;\">\n",
       "      <th></th>\n",
       "      <th>OSOURCE</th>\n",
       "      <th>STATE</th>\n",
       "      <th>ZIP</th>\n",
       "      <th>MAILCODE</th>\n",
       "      <th>PVASTATE</th>\n",
       "      <th>NOEXCH</th>\n",
       "      <th>RECINHSE</th>\n",
       "      <th>RECP3</th>\n",
       "      <th>RECPGVG</th>\n",
       "      <th>RECSWEEP</th>\n",
       "      <th>...</th>\n",
       "      <th>RFA_21</th>\n",
       "      <th>RFA_22</th>\n",
       "      <th>RFA_23</th>\n",
       "      <th>RFA_24</th>\n",
       "      <th>RFA_2R</th>\n",
       "      <th>RFA_2A</th>\n",
       "      <th>MDMAUD_R</th>\n",
       "      <th>MDMAUD_F</th>\n",
       "      <th>MDMAUD_A</th>\n",
       "      <th>GEOCODE2</th>\n",
       "    </tr>\n",
       "  </thead>\n",
       "  <tbody>\n",
       "    <tr>\n",
       "      <th>0</th>\n",
       "      <td>GRI</td>\n",
       "      <td>IL</td>\n",
       "      <td>61081</td>\n",
       "      <td></td>\n",
       "      <td></td>\n",
       "      <td>0</td>\n",
       "      <td></td>\n",
       "      <td></td>\n",
       "      <td></td>\n",
       "      <td></td>\n",
       "      <td>...</td>\n",
       "      <td>S4E</td>\n",
       "      <td>S4E</td>\n",
       "      <td>S4E</td>\n",
       "      <td>S4E</td>\n",
       "      <td>L</td>\n",
       "      <td>E</td>\n",
       "      <td>X</td>\n",
       "      <td>X</td>\n",
       "      <td>X</td>\n",
       "      <td>C</td>\n",
       "    </tr>\n",
       "    <tr>\n",
       "      <th>1</th>\n",
       "      <td>BOA</td>\n",
       "      <td>CA</td>\n",
       "      <td>91326</td>\n",
       "      <td></td>\n",
       "      <td></td>\n",
       "      <td>0</td>\n",
       "      <td></td>\n",
       "      <td></td>\n",
       "      <td></td>\n",
       "      <td></td>\n",
       "      <td>...</td>\n",
       "      <td>N1E</td>\n",
       "      <td>N1E</td>\n",
       "      <td></td>\n",
       "      <td>F1E</td>\n",
       "      <td>L</td>\n",
       "      <td>G</td>\n",
       "      <td>X</td>\n",
       "      <td>X</td>\n",
       "      <td>X</td>\n",
       "      <td>A</td>\n",
       "    </tr>\n",
       "    <tr>\n",
       "      <th>2</th>\n",
       "      <td>AMH</td>\n",
       "      <td>NC</td>\n",
       "      <td>27017</td>\n",
       "      <td></td>\n",
       "      <td></td>\n",
       "      <td>0</td>\n",
       "      <td></td>\n",
       "      <td></td>\n",
       "      <td></td>\n",
       "      <td></td>\n",
       "      <td>...</td>\n",
       "      <td></td>\n",
       "      <td>S4D</td>\n",
       "      <td>S4D</td>\n",
       "      <td>S3D</td>\n",
       "      <td>L</td>\n",
       "      <td>E</td>\n",
       "      <td>X</td>\n",
       "      <td>X</td>\n",
       "      <td>X</td>\n",
       "      <td>C</td>\n",
       "    </tr>\n",
       "    <tr>\n",
       "      <th>3</th>\n",
       "      <td>BRY</td>\n",
       "      <td>CA</td>\n",
       "      <td>95953</td>\n",
       "      <td></td>\n",
       "      <td></td>\n",
       "      <td>0</td>\n",
       "      <td></td>\n",
       "      <td></td>\n",
       "      <td></td>\n",
       "      <td></td>\n",
       "      <td>...</td>\n",
       "      <td>A1D</td>\n",
       "      <td>A1D</td>\n",
       "      <td></td>\n",
       "      <td></td>\n",
       "      <td>L</td>\n",
       "      <td>E</td>\n",
       "      <td>X</td>\n",
       "      <td>X</td>\n",
       "      <td>X</td>\n",
       "      <td>C</td>\n",
       "    </tr>\n",
       "    <tr>\n",
       "      <th>4</th>\n",
       "      <td></td>\n",
       "      <td>FL</td>\n",
       "      <td>33176</td>\n",
       "      <td></td>\n",
       "      <td></td>\n",
       "      <td>0</td>\n",
       "      <td>X</td>\n",
       "      <td>X</td>\n",
       "      <td></td>\n",
       "      <td></td>\n",
       "      <td>...</td>\n",
       "      <td>A3D</td>\n",
       "      <td>I4E</td>\n",
       "      <td>A3D</td>\n",
       "      <td>A3D</td>\n",
       "      <td>L</td>\n",
       "      <td>F</td>\n",
       "      <td>X</td>\n",
       "      <td>X</td>\n",
       "      <td>X</td>\n",
       "      <td>A</td>\n",
       "    </tr>\n",
       "  </tbody>\n",
       "</table>\n",
       "<p>5 rows × 74 columns</p>\n",
       "</div>"
      ],
      "text/plain": [
       "  OSOURCE STATE    ZIP MAILCODE PVASTATE NOEXCH RECINHSE RECP3 RECPGVG  \\\n",
       "0     GRI    IL  61081                        0                          \n",
       "1     BOA    CA  91326                        0                          \n",
       "2     AMH    NC  27017                        0                          \n",
       "3     BRY    CA  95953                        0                          \n",
       "4            FL  33176                        0        X     X           \n",
       "\n",
       "  RECSWEEP  ... RFA_21 RFA_22 RFA_23 RFA_24 RFA_2R RFA_2A MDMAUD_R MDMAUD_F  \\\n",
       "0           ...    S4E    S4E    S4E    S4E      L      E        X        X   \n",
       "1           ...    N1E    N1E           F1E      L      G        X        X   \n",
       "2           ...           S4D    S4D    S3D      L      E        X        X   \n",
       "3           ...    A1D    A1D                    L      E        X        X   \n",
       "4           ...    A3D    I4E    A3D    A3D      L      F        X        X   \n",
       "\n",
       "  MDMAUD_A GEOCODE2  \n",
       "0        X        C  \n",
       "1        X        A  \n",
       "2        X        C  \n",
       "3        X        C  \n",
       "4        X        A  \n",
       "\n",
       "[5 rows x 74 columns]"
      ]
     },
     "execution_count": 4,
     "metadata": {},
     "output_type": "execute_result"
    }
   ],
   "source": [
    "categorical = data.select_dtypes(object)\n",
    "categorical.head()"
   ]
  },
  {
   "cell_type": "markdown",
   "id": "ff65ff74",
   "metadata": {},
   "source": [
    "#### Check for null values"
   ]
  },
  {
   "cell_type": "code",
   "execution_count": 5,
   "id": "40672729",
   "metadata": {},
   "outputs": [
    {
     "data": {
      "text/plain": [
       "OSOURCE     0.000000\n",
       "STATE       0.000000\n",
       "ZIP         0.000000\n",
       "MAILCODE    0.000000\n",
       "PVASTATE    0.000000\n",
       "NOEXCH      0.000000\n",
       "RECINHSE    0.000000\n",
       "RECP3       0.000000\n",
       "RECPGVG     0.000000\n",
       "RECSWEEP    0.000000\n",
       "MDMAUD      0.000000\n",
       "DOMAIN      0.000000\n",
       "CLUSTER     0.000000\n",
       "AGEFLAG     0.000000\n",
       "HOMEOWNR    0.000000\n",
       "CHILD03     0.000000\n",
       "CHILD07     0.000000\n",
       "CHILD12     0.000000\n",
       "CHILD18     0.000000\n",
       "GENDER      0.000000\n",
       "DATASRCE    0.000000\n",
       "SOLP3       0.000000\n",
       "SOLIH       0.000000\n",
       "MAJOR       0.000000\n",
       "GEOCODE     0.000000\n",
       "COLLECT1    0.000000\n",
       "VETERANS    0.000000\n",
       "BIBLE       0.000000\n",
       "CATLG       0.000000\n",
       "HOMEE       0.000000\n",
       "PETS        0.000000\n",
       "CDPLAY      0.000000\n",
       "STEREO      0.000000\n",
       "PCOWNERS    0.000000\n",
       "PHOTO       0.000000\n",
       "CRAFTS      0.000000\n",
       "FISHER      0.000000\n",
       "GARDENIN    0.000000\n",
       "BOATS       0.000000\n",
       "WALKER      0.000000\n",
       "KIDSTUFF    0.000000\n",
       "CARDS       0.000000\n",
       "PLATES      0.000000\n",
       "LIFESRC     0.000000\n",
       "PEPSTRFL    0.000000\n",
       "RFA_2       0.000000\n",
       "RFA_3       0.000000\n",
       "RFA_4       0.000000\n",
       "RFA_5       0.000000\n",
       "RFA_6       0.000000\n",
       "RFA_7       0.000000\n",
       "RFA_8       0.000000\n",
       "RFA_9       0.000000\n",
       "RFA_10      0.000000\n",
       "RFA_11      0.000000\n",
       "RFA_12      0.000000\n",
       "RFA_13      0.000000\n",
       "RFA_14      0.000000\n",
       "RFA_15      0.000000\n",
       "RFA_16      0.000000\n",
       "RFA_17      0.000000\n",
       "RFA_18      0.000000\n",
       "RFA_19      0.000000\n",
       "RFA_20      0.000000\n",
       "RFA_21      0.000000\n",
       "RFA_22      0.000000\n",
       "RFA_23      0.000000\n",
       "RFA_24      0.000000\n",
       "RFA_2R      0.000000\n",
       "RFA_2A      0.000000\n",
       "MDMAUD_R    0.000000\n",
       "MDMAUD_F    0.000000\n",
       "MDMAUD_A    0.000000\n",
       "GEOCODE2    0.138347\n",
       "dtype: float64"
      ]
     },
     "execution_count": 5,
     "metadata": {},
     "output_type": "execute_result"
    }
   ],
   "source": [
    "pd.set_option('display.max_rows', None)\n",
    "categorical.isna().sum()*100/len(categorical)"
   ]
  },
  {
   "cell_type": "markdown",
   "id": "c7dd4063",
   "metadata": {},
   "source": [
    "##### Just the column GEOCODE2 has null values, but is under the treshold of 85% and will be kept. In the next step all columns will be checked for \" \" values and replaced by NaN."
   ]
  },
  {
   "cell_type": "code",
   "execution_count": 6,
   "id": "4af93ac4",
   "metadata": {},
   "outputs": [
    {
     "data": {
      "text/plain": [
       "     94013\n",
       "B     1399\n",
       "Name: MAILCODE, dtype: int64"
      ]
     },
     "execution_count": 6,
     "metadata": {},
     "output_type": "execute_result"
    }
   ],
   "source": [
    "categorical['MAILCODE'].value_counts()"
   ]
  },
  {
   "cell_type": "code",
   "execution_count": 7,
   "id": "e22bf6a6",
   "metadata": {},
   "outputs": [
    {
     "data": {
      "text/plain": [
       "F    51277\n",
       "M    39094\n",
       "      2957\n",
       "U     1715\n",
       "J      365\n",
       "C        2\n",
       "A        2\n",
       "Name: GENDER, dtype: int64"
      ]
     },
     "execution_count": 7,
     "metadata": {},
     "output_type": "execute_result"
    }
   ],
   "source": [
    "categorical['GENDER'].value_counts()"
   ]
  },
  {
   "cell_type": "code",
   "execution_count": 8,
   "id": "611fcf77",
   "metadata": {},
   "outputs": [],
   "source": [
    "categorical['MAILCODE'] = categorical['MAILCODE'].apply(lambda x: x.replace(\" \", \"A\"))"
   ]
  },
  {
   "cell_type": "code",
   "execution_count": 9,
   "id": "55cb5a22",
   "metadata": {},
   "outputs": [],
   "source": [
    "#categorical.head(10)"
   ]
  },
  {
   "cell_type": "markdown",
   "id": "4cf7dc26",
   "metadata": {},
   "source": [
    "#### Replace all \" \" values with NaN"
   ]
  },
  {
   "cell_type": "code",
   "execution_count": 10,
   "id": "c252e35f",
   "metadata": {},
   "outputs": [],
   "source": [
    "categorical = categorical.apply(lambda x: x.replace(\" \", np.NaN))"
   ]
  },
  {
   "cell_type": "code",
   "execution_count": 11,
   "id": "18771d8c",
   "metadata": {},
   "outputs": [
    {
     "data": {
      "text/html": [
       "<div>\n",
       "<style scoped>\n",
       "    .dataframe tbody tr th:only-of-type {\n",
       "        vertical-align: middle;\n",
       "    }\n",
       "\n",
       "    .dataframe tbody tr th {\n",
       "        vertical-align: top;\n",
       "    }\n",
       "\n",
       "    .dataframe thead th {\n",
       "        text-align: right;\n",
       "    }\n",
       "</style>\n",
       "<table border=\"1\" class=\"dataframe\">\n",
       "  <thead>\n",
       "    <tr style=\"text-align: right;\">\n",
       "      <th></th>\n",
       "      <th>OSOURCE</th>\n",
       "      <th>STATE</th>\n",
       "      <th>ZIP</th>\n",
       "      <th>MAILCODE</th>\n",
       "      <th>PVASTATE</th>\n",
       "      <th>NOEXCH</th>\n",
       "      <th>RECINHSE</th>\n",
       "      <th>RECP3</th>\n",
       "      <th>RECPGVG</th>\n",
       "      <th>RECSWEEP</th>\n",
       "      <th>...</th>\n",
       "      <th>RFA_21</th>\n",
       "      <th>RFA_22</th>\n",
       "      <th>RFA_23</th>\n",
       "      <th>RFA_24</th>\n",
       "      <th>RFA_2R</th>\n",
       "      <th>RFA_2A</th>\n",
       "      <th>MDMAUD_R</th>\n",
       "      <th>MDMAUD_F</th>\n",
       "      <th>MDMAUD_A</th>\n",
       "      <th>GEOCODE2</th>\n",
       "    </tr>\n",
       "  </thead>\n",
       "  <tbody>\n",
       "    <tr>\n",
       "      <th>0</th>\n",
       "      <td>GRI</td>\n",
       "      <td>IL</td>\n",
       "      <td>61081</td>\n",
       "      <td>A</td>\n",
       "      <td>NaN</td>\n",
       "      <td>0</td>\n",
       "      <td>NaN</td>\n",
       "      <td>NaN</td>\n",
       "      <td>NaN</td>\n",
       "      <td>NaN</td>\n",
       "      <td>...</td>\n",
       "      <td>S4E</td>\n",
       "      <td>S4E</td>\n",
       "      <td>S4E</td>\n",
       "      <td>S4E</td>\n",
       "      <td>L</td>\n",
       "      <td>E</td>\n",
       "      <td>X</td>\n",
       "      <td>X</td>\n",
       "      <td>X</td>\n",
       "      <td>C</td>\n",
       "    </tr>\n",
       "    <tr>\n",
       "      <th>1</th>\n",
       "      <td>BOA</td>\n",
       "      <td>CA</td>\n",
       "      <td>91326</td>\n",
       "      <td>A</td>\n",
       "      <td>NaN</td>\n",
       "      <td>0</td>\n",
       "      <td>NaN</td>\n",
       "      <td>NaN</td>\n",
       "      <td>NaN</td>\n",
       "      <td>NaN</td>\n",
       "      <td>...</td>\n",
       "      <td>N1E</td>\n",
       "      <td>N1E</td>\n",
       "      <td>NaN</td>\n",
       "      <td>F1E</td>\n",
       "      <td>L</td>\n",
       "      <td>G</td>\n",
       "      <td>X</td>\n",
       "      <td>X</td>\n",
       "      <td>X</td>\n",
       "      <td>A</td>\n",
       "    </tr>\n",
       "    <tr>\n",
       "      <th>2</th>\n",
       "      <td>AMH</td>\n",
       "      <td>NC</td>\n",
       "      <td>27017</td>\n",
       "      <td>A</td>\n",
       "      <td>NaN</td>\n",
       "      <td>0</td>\n",
       "      <td>NaN</td>\n",
       "      <td>NaN</td>\n",
       "      <td>NaN</td>\n",
       "      <td>NaN</td>\n",
       "      <td>...</td>\n",
       "      <td>NaN</td>\n",
       "      <td>S4D</td>\n",
       "      <td>S4D</td>\n",
       "      <td>S3D</td>\n",
       "      <td>L</td>\n",
       "      <td>E</td>\n",
       "      <td>X</td>\n",
       "      <td>X</td>\n",
       "      <td>X</td>\n",
       "      <td>C</td>\n",
       "    </tr>\n",
       "    <tr>\n",
       "      <th>3</th>\n",
       "      <td>BRY</td>\n",
       "      <td>CA</td>\n",
       "      <td>95953</td>\n",
       "      <td>A</td>\n",
       "      <td>NaN</td>\n",
       "      <td>0</td>\n",
       "      <td>NaN</td>\n",
       "      <td>NaN</td>\n",
       "      <td>NaN</td>\n",
       "      <td>NaN</td>\n",
       "      <td>...</td>\n",
       "      <td>A1D</td>\n",
       "      <td>A1D</td>\n",
       "      <td>NaN</td>\n",
       "      <td>NaN</td>\n",
       "      <td>L</td>\n",
       "      <td>E</td>\n",
       "      <td>X</td>\n",
       "      <td>X</td>\n",
       "      <td>X</td>\n",
       "      <td>C</td>\n",
       "    </tr>\n",
       "    <tr>\n",
       "      <th>4</th>\n",
       "      <td>NaN</td>\n",
       "      <td>FL</td>\n",
       "      <td>33176</td>\n",
       "      <td>A</td>\n",
       "      <td>NaN</td>\n",
       "      <td>0</td>\n",
       "      <td>X</td>\n",
       "      <td>X</td>\n",
       "      <td>NaN</td>\n",
       "      <td>NaN</td>\n",
       "      <td>...</td>\n",
       "      <td>A3D</td>\n",
       "      <td>I4E</td>\n",
       "      <td>A3D</td>\n",
       "      <td>A3D</td>\n",
       "      <td>L</td>\n",
       "      <td>F</td>\n",
       "      <td>X</td>\n",
       "      <td>X</td>\n",
       "      <td>X</td>\n",
       "      <td>A</td>\n",
       "    </tr>\n",
       "    <tr>\n",
       "      <th>5</th>\n",
       "      <td>CWR</td>\n",
       "      <td>AL</td>\n",
       "      <td>35603</td>\n",
       "      <td>A</td>\n",
       "      <td>NaN</td>\n",
       "      <td>0</td>\n",
       "      <td>NaN</td>\n",
       "      <td>NaN</td>\n",
       "      <td>NaN</td>\n",
       "      <td>NaN</td>\n",
       "      <td>...</td>\n",
       "      <td>N2E</td>\n",
       "      <td>N2E</td>\n",
       "      <td>NaN</td>\n",
       "      <td>F1E</td>\n",
       "      <td>L</td>\n",
       "      <td>F</td>\n",
       "      <td>X</td>\n",
       "      <td>X</td>\n",
       "      <td>X</td>\n",
       "      <td>C</td>\n",
       "    </tr>\n",
       "    <tr>\n",
       "      <th>6</th>\n",
       "      <td>DRK</td>\n",
       "      <td>IN</td>\n",
       "      <td>46755</td>\n",
       "      <td>A</td>\n",
       "      <td>NaN</td>\n",
       "      <td>0</td>\n",
       "      <td>NaN</td>\n",
       "      <td>NaN</td>\n",
       "      <td>NaN</td>\n",
       "      <td>NaN</td>\n",
       "      <td>...</td>\n",
       "      <td>A2E</td>\n",
       "      <td>A2E</td>\n",
       "      <td>A3E</td>\n",
       "      <td>A3E</td>\n",
       "      <td>L</td>\n",
       "      <td>E</td>\n",
       "      <td>X</td>\n",
       "      <td>X</td>\n",
       "      <td>X</td>\n",
       "      <td>D</td>\n",
       "    </tr>\n",
       "    <tr>\n",
       "      <th>7</th>\n",
       "      <td>NWN</td>\n",
       "      <td>LA</td>\n",
       "      <td>70611</td>\n",
       "      <td>A</td>\n",
       "      <td>NaN</td>\n",
       "      <td>0</td>\n",
       "      <td>NaN</td>\n",
       "      <td>NaN</td>\n",
       "      <td>NaN</td>\n",
       "      <td>NaN</td>\n",
       "      <td>...</td>\n",
       "      <td>N2D</td>\n",
       "      <td>N2D</td>\n",
       "      <td>NaN</td>\n",
       "      <td>F1D</td>\n",
       "      <td>L</td>\n",
       "      <td>E</td>\n",
       "      <td>X</td>\n",
       "      <td>X</td>\n",
       "      <td>X</td>\n",
       "      <td>C</td>\n",
       "    </tr>\n",
       "    <tr>\n",
       "      <th>8</th>\n",
       "      <td>LIS</td>\n",
       "      <td>IA</td>\n",
       "      <td>51033</td>\n",
       "      <td>A</td>\n",
       "      <td>NaN</td>\n",
       "      <td>0</td>\n",
       "      <td>NaN</td>\n",
       "      <td>NaN</td>\n",
       "      <td>NaN</td>\n",
       "      <td>NaN</td>\n",
       "      <td>...</td>\n",
       "      <td>A1F</td>\n",
       "      <td>A1F</td>\n",
       "      <td>A1F</td>\n",
       "      <td>A1F</td>\n",
       "      <td>L</td>\n",
       "      <td>F</td>\n",
       "      <td>X</td>\n",
       "      <td>X</td>\n",
       "      <td>X</td>\n",
       "      <td>D</td>\n",
       "    </tr>\n",
       "    <tr>\n",
       "      <th>9</th>\n",
       "      <td>MSD</td>\n",
       "      <td>TN</td>\n",
       "      <td>37127-</td>\n",
       "      <td>A</td>\n",
       "      <td>NaN</td>\n",
       "      <td>0</td>\n",
       "      <td>NaN</td>\n",
       "      <td>NaN</td>\n",
       "      <td>NaN</td>\n",
       "      <td>NaN</td>\n",
       "      <td>...</td>\n",
       "      <td>N2E</td>\n",
       "      <td>N2E</td>\n",
       "      <td>NaN</td>\n",
       "      <td>NaN</td>\n",
       "      <td>L</td>\n",
       "      <td>F</td>\n",
       "      <td>X</td>\n",
       "      <td>X</td>\n",
       "      <td>X</td>\n",
       "      <td>B</td>\n",
       "    </tr>\n",
       "  </tbody>\n",
       "</table>\n",
       "<p>10 rows × 74 columns</p>\n",
       "</div>"
      ],
      "text/plain": [
       "  OSOURCE STATE     ZIP MAILCODE PVASTATE NOEXCH RECINHSE RECP3 RECPGVG  \\\n",
       "0     GRI    IL   61081        A      NaN      0      NaN   NaN     NaN   \n",
       "1     BOA    CA   91326        A      NaN      0      NaN   NaN     NaN   \n",
       "2     AMH    NC   27017        A      NaN      0      NaN   NaN     NaN   \n",
       "3     BRY    CA   95953        A      NaN      0      NaN   NaN     NaN   \n",
       "4     NaN    FL   33176        A      NaN      0        X     X     NaN   \n",
       "5     CWR    AL   35603        A      NaN      0      NaN   NaN     NaN   \n",
       "6     DRK    IN   46755        A      NaN      0      NaN   NaN     NaN   \n",
       "7     NWN    LA   70611        A      NaN      0      NaN   NaN     NaN   \n",
       "8     LIS    IA   51033        A      NaN      0      NaN   NaN     NaN   \n",
       "9     MSD    TN  37127-        A      NaN      0      NaN   NaN     NaN   \n",
       "\n",
       "  RECSWEEP  ... RFA_21 RFA_22 RFA_23 RFA_24 RFA_2R RFA_2A MDMAUD_R MDMAUD_F  \\\n",
       "0      NaN  ...    S4E    S4E    S4E    S4E      L      E        X        X   \n",
       "1      NaN  ...    N1E    N1E    NaN    F1E      L      G        X        X   \n",
       "2      NaN  ...    NaN    S4D    S4D    S3D      L      E        X        X   \n",
       "3      NaN  ...    A1D    A1D    NaN    NaN      L      E        X        X   \n",
       "4      NaN  ...    A3D    I4E    A3D    A3D      L      F        X        X   \n",
       "5      NaN  ...    N2E    N2E    NaN    F1E      L      F        X        X   \n",
       "6      NaN  ...    A2E    A2E    A3E    A3E      L      E        X        X   \n",
       "7      NaN  ...    N2D    N2D    NaN    F1D      L      E        X        X   \n",
       "8      NaN  ...    A1F    A1F    A1F    A1F      L      F        X        X   \n",
       "9      NaN  ...    N2E    N2E    NaN    NaN      L      F        X        X   \n",
       "\n",
       "  MDMAUD_A GEOCODE2  \n",
       "0        X        C  \n",
       "1        X        A  \n",
       "2        X        C  \n",
       "3        X        C  \n",
       "4        X        A  \n",
       "5        X        C  \n",
       "6        X        D  \n",
       "7        X        C  \n",
       "8        X        D  \n",
       "9        X        B  \n",
       "\n",
       "[10 rows x 74 columns]"
      ]
     },
     "execution_count": 11,
     "metadata": {},
     "output_type": "execute_result"
    }
   ],
   "source": [
    "categorical.head(10)"
   ]
  },
  {
   "cell_type": "markdown",
   "id": "7fe98110",
   "metadata": {},
   "source": [
    "#### Get a DataFrame with the percentage of NaN values for each column"
   ]
  },
  {
   "cell_type": "code",
   "execution_count": 12,
   "id": "b19e4e2e",
   "metadata": {},
   "outputs": [],
   "source": [
    "nulls_percent_df = pd.DataFrame(categorical.isna().sum()*100/len(categorical)).reset_index()\n",
    "nulls_percent_df.columns = ['column_name', 'nulls_percentage']"
   ]
  },
  {
   "cell_type": "code",
   "execution_count": 13,
   "id": "94af58ce",
   "metadata": {},
   "outputs": [],
   "source": [
    "#nulls_percent_df"
   ]
  },
  {
   "cell_type": "markdown",
   "id": "5d57af5f",
   "metadata": {},
   "source": [
    "#### Get just the column with have a percentage of NaN values above 85%"
   ]
  },
  {
   "cell_type": "code",
   "execution_count": 14,
   "id": "4fb77d0a",
   "metadata": {},
   "outputs": [
    {
     "data": {
      "text/plain": [
       "4     PVASTATE\n",
       "6     RECINHSE\n",
       "7        RECP3\n",
       "8      RECPGVG\n",
       "9     RECSWEEP\n",
       "15     CHILD03\n",
       "16     CHILD07\n",
       "17     CHILD12\n",
       "18     CHILD18\n",
       "21       SOLP3\n",
       "22       SOLIH\n",
       "23       MAJOR\n",
       "25    COLLECT1\n",
       "26    VETERANS\n",
       "27       BIBLE\n",
       "28       CATLG\n",
       "29       HOMEE\n",
       "31      CDPLAY\n",
       "32      STEREO\n",
       "33    PCOWNERS\n",
       "34       PHOTO\n",
       "35      CRAFTS\n",
       "36      FISHER\n",
       "37    GARDENIN\n",
       "38       BOATS\n",
       "39      WALKER\n",
       "40    KIDSTUFF\n",
       "41       CARDS\n",
       "42      PLATES\n",
       "Name: column_name, dtype: object"
      ]
     },
     "execution_count": 14,
     "metadata": {},
     "output_type": "execute_result"
    }
   ],
   "source": [
    "columns_above_threshold = nulls_percent_df[nulls_percent_df['nulls_percentage']>85]\n",
    "columns_above_threshold['column_name']"
   ]
  },
  {
   "cell_type": "markdown",
   "id": "cec2ea21",
   "metadata": {},
   "source": [
    "#### Get a list with a columns to be dropped"
   ]
  },
  {
   "cell_type": "code",
   "execution_count": 15,
   "id": "e7775dd1",
   "metadata": {},
   "outputs": [
    {
     "name": "stdout",
     "output_type": "stream",
     "text": [
      "['PVASTATE', 'RECINHSE', 'RECP3', 'RECPGVG', 'RECSWEEP', 'CHILD03', 'CHILD07', 'CHILD12', 'CHILD18', 'SOLP3', 'SOLIH', 'MAJOR', 'COLLECT1', 'VETERANS', 'BIBLE', 'CATLG', 'HOMEE', 'CDPLAY', 'STEREO', 'PCOWNERS', 'PHOTO', 'CRAFTS', 'FISHER', 'GARDENIN', 'BOATS', 'WALKER', 'KIDSTUFF', 'CARDS', 'PLATES']\n"
     ]
    }
   ],
   "source": [
    "drop_columns_list = list(columns_above_threshold['column_name'])\n",
    "print(drop_columns_list)"
   ]
  },
  {
   "cell_type": "markdown",
   "id": "4eaeff75",
   "metadata": {},
   "source": [
    "#### Append columns OSOURCE and ZIP, because they should also be dropped although being under the treshold for NaN values"
   ]
  },
  {
   "cell_type": "code",
   "execution_count": 16,
   "id": "b160de85",
   "metadata": {},
   "outputs": [],
   "source": [
    "drop_columns_list.append('OSOURCE')\n",
    "drop_columns_list.append('ZIP')"
   ]
  },
  {
   "cell_type": "code",
   "execution_count": 17,
   "id": "de89d093",
   "metadata": {},
   "outputs": [
    {
     "name": "stdout",
     "output_type": "stream",
     "text": [
      "['PVASTATE', 'RECINHSE', 'RECP3', 'RECPGVG', 'RECSWEEP', 'CHILD03', 'CHILD07', 'CHILD12', 'CHILD18', 'SOLP3', 'SOLIH', 'MAJOR', 'COLLECT1', 'VETERANS', 'BIBLE', 'CATLG', 'HOMEE', 'CDPLAY', 'STEREO', 'PCOWNERS', 'PHOTO', 'CRAFTS', 'FISHER', 'GARDENIN', 'BOATS', 'WALKER', 'KIDSTUFF', 'CARDS', 'PLATES', 'OSOURCE', 'ZIP']\n"
     ]
    }
   ],
   "source": [
    "print(drop_columns_list)"
   ]
  },
  {
   "cell_type": "markdown",
   "id": "b525834f",
   "metadata": {},
   "source": [
    "#### Drop all columns in drop_columns_list from the categorical dataset"
   ]
  },
  {
   "cell_type": "code",
   "execution_count": 18,
   "id": "a1653e82",
   "metadata": {},
   "outputs": [],
   "source": [
    "categorical = categorical.drop(drop_columns_list, axis=1)"
   ]
  },
  {
   "cell_type": "code",
   "execution_count": 19,
   "id": "7bdc008e",
   "metadata": {},
   "outputs": [
    {
     "data": {
      "text/html": [
       "<div>\n",
       "<style scoped>\n",
       "    .dataframe tbody tr th:only-of-type {\n",
       "        vertical-align: middle;\n",
       "    }\n",
       "\n",
       "    .dataframe tbody tr th {\n",
       "        vertical-align: top;\n",
       "    }\n",
       "\n",
       "    .dataframe thead th {\n",
       "        text-align: right;\n",
       "    }\n",
       "</style>\n",
       "<table border=\"1\" class=\"dataframe\">\n",
       "  <thead>\n",
       "    <tr style=\"text-align: right;\">\n",
       "      <th></th>\n",
       "      <th>STATE</th>\n",
       "      <th>MAILCODE</th>\n",
       "      <th>NOEXCH</th>\n",
       "      <th>MDMAUD</th>\n",
       "      <th>DOMAIN</th>\n",
       "      <th>CLUSTER</th>\n",
       "      <th>AGEFLAG</th>\n",
       "      <th>HOMEOWNR</th>\n",
       "      <th>GENDER</th>\n",
       "      <th>DATASRCE</th>\n",
       "      <th>...</th>\n",
       "      <th>RFA_21</th>\n",
       "      <th>RFA_22</th>\n",
       "      <th>RFA_23</th>\n",
       "      <th>RFA_24</th>\n",
       "      <th>RFA_2R</th>\n",
       "      <th>RFA_2A</th>\n",
       "      <th>MDMAUD_R</th>\n",
       "      <th>MDMAUD_F</th>\n",
       "      <th>MDMAUD_A</th>\n",
       "      <th>GEOCODE2</th>\n",
       "    </tr>\n",
       "  </thead>\n",
       "  <tbody>\n",
       "    <tr>\n",
       "      <th>0</th>\n",
       "      <td>IL</td>\n",
       "      <td>A</td>\n",
       "      <td>0</td>\n",
       "      <td>XXXX</td>\n",
       "      <td>T2</td>\n",
       "      <td>36</td>\n",
       "      <td>NaN</td>\n",
       "      <td>NaN</td>\n",
       "      <td>F</td>\n",
       "      <td>NaN</td>\n",
       "      <td>...</td>\n",
       "      <td>S4E</td>\n",
       "      <td>S4E</td>\n",
       "      <td>S4E</td>\n",
       "      <td>S4E</td>\n",
       "      <td>L</td>\n",
       "      <td>E</td>\n",
       "      <td>X</td>\n",
       "      <td>X</td>\n",
       "      <td>X</td>\n",
       "      <td>C</td>\n",
       "    </tr>\n",
       "    <tr>\n",
       "      <th>1</th>\n",
       "      <td>CA</td>\n",
       "      <td>A</td>\n",
       "      <td>0</td>\n",
       "      <td>XXXX</td>\n",
       "      <td>S1</td>\n",
       "      <td>14</td>\n",
       "      <td>E</td>\n",
       "      <td>H</td>\n",
       "      <td>M</td>\n",
       "      <td>3</td>\n",
       "      <td>...</td>\n",
       "      <td>N1E</td>\n",
       "      <td>N1E</td>\n",
       "      <td>NaN</td>\n",
       "      <td>F1E</td>\n",
       "      <td>L</td>\n",
       "      <td>G</td>\n",
       "      <td>X</td>\n",
       "      <td>X</td>\n",
       "      <td>X</td>\n",
       "      <td>A</td>\n",
       "    </tr>\n",
       "    <tr>\n",
       "      <th>2</th>\n",
       "      <td>NC</td>\n",
       "      <td>A</td>\n",
       "      <td>0</td>\n",
       "      <td>XXXX</td>\n",
       "      <td>R2</td>\n",
       "      <td>43</td>\n",
       "      <td>NaN</td>\n",
       "      <td>U</td>\n",
       "      <td>M</td>\n",
       "      <td>3</td>\n",
       "      <td>...</td>\n",
       "      <td>NaN</td>\n",
       "      <td>S4D</td>\n",
       "      <td>S4D</td>\n",
       "      <td>S3D</td>\n",
       "      <td>L</td>\n",
       "      <td>E</td>\n",
       "      <td>X</td>\n",
       "      <td>X</td>\n",
       "      <td>X</td>\n",
       "      <td>C</td>\n",
       "    </tr>\n",
       "    <tr>\n",
       "      <th>3</th>\n",
       "      <td>CA</td>\n",
       "      <td>A</td>\n",
       "      <td>0</td>\n",
       "      <td>XXXX</td>\n",
       "      <td>R2</td>\n",
       "      <td>44</td>\n",
       "      <td>E</td>\n",
       "      <td>U</td>\n",
       "      <td>F</td>\n",
       "      <td>3</td>\n",
       "      <td>...</td>\n",
       "      <td>A1D</td>\n",
       "      <td>A1D</td>\n",
       "      <td>NaN</td>\n",
       "      <td>NaN</td>\n",
       "      <td>L</td>\n",
       "      <td>E</td>\n",
       "      <td>X</td>\n",
       "      <td>X</td>\n",
       "      <td>X</td>\n",
       "      <td>C</td>\n",
       "    </tr>\n",
       "    <tr>\n",
       "      <th>4</th>\n",
       "      <td>FL</td>\n",
       "      <td>A</td>\n",
       "      <td>0</td>\n",
       "      <td>XXXX</td>\n",
       "      <td>S2</td>\n",
       "      <td>16</td>\n",
       "      <td>E</td>\n",
       "      <td>H</td>\n",
       "      <td>F</td>\n",
       "      <td>3</td>\n",
       "      <td>...</td>\n",
       "      <td>A3D</td>\n",
       "      <td>I4E</td>\n",
       "      <td>A3D</td>\n",
       "      <td>A3D</td>\n",
       "      <td>L</td>\n",
       "      <td>F</td>\n",
       "      <td>X</td>\n",
       "      <td>X</td>\n",
       "      <td>X</td>\n",
       "      <td>A</td>\n",
       "    </tr>\n",
       "    <tr>\n",
       "      <th>5</th>\n",
       "      <td>AL</td>\n",
       "      <td>A</td>\n",
       "      <td>0</td>\n",
       "      <td>XXXX</td>\n",
       "      <td>T2</td>\n",
       "      <td>40</td>\n",
       "      <td>NaN</td>\n",
       "      <td>NaN</td>\n",
       "      <td>NaN</td>\n",
       "      <td>NaN</td>\n",
       "      <td>...</td>\n",
       "      <td>N2E</td>\n",
       "      <td>N2E</td>\n",
       "      <td>NaN</td>\n",
       "      <td>F1E</td>\n",
       "      <td>L</td>\n",
       "      <td>F</td>\n",
       "      <td>X</td>\n",
       "      <td>X</td>\n",
       "      <td>X</td>\n",
       "      <td>C</td>\n",
       "    </tr>\n",
       "    <tr>\n",
       "      <th>6</th>\n",
       "      <td>IN</td>\n",
       "      <td>A</td>\n",
       "      <td>0</td>\n",
       "      <td>XXXX</td>\n",
       "      <td>T2</td>\n",
       "      <td>40</td>\n",
       "      <td>E</td>\n",
       "      <td>H</td>\n",
       "      <td>F</td>\n",
       "      <td>3</td>\n",
       "      <td>...</td>\n",
       "      <td>A2E</td>\n",
       "      <td>A2E</td>\n",
       "      <td>A3E</td>\n",
       "      <td>A3E</td>\n",
       "      <td>L</td>\n",
       "      <td>E</td>\n",
       "      <td>X</td>\n",
       "      <td>X</td>\n",
       "      <td>X</td>\n",
       "      <td>D</td>\n",
       "    </tr>\n",
       "    <tr>\n",
       "      <th>7</th>\n",
       "      <td>LA</td>\n",
       "      <td>A</td>\n",
       "      <td>0</td>\n",
       "      <td>XXXX</td>\n",
       "      <td>T2</td>\n",
       "      <td>39</td>\n",
       "      <td>NaN</td>\n",
       "      <td>U</td>\n",
       "      <td>F</td>\n",
       "      <td>1</td>\n",
       "      <td>...</td>\n",
       "      <td>N2D</td>\n",
       "      <td>N2D</td>\n",
       "      <td>NaN</td>\n",
       "      <td>F1D</td>\n",
       "      <td>L</td>\n",
       "      <td>E</td>\n",
       "      <td>X</td>\n",
       "      <td>X</td>\n",
       "      <td>X</td>\n",
       "      <td>C</td>\n",
       "    </tr>\n",
       "    <tr>\n",
       "      <th>8</th>\n",
       "      <td>IA</td>\n",
       "      <td>A</td>\n",
       "      <td>0</td>\n",
       "      <td>XXXX</td>\n",
       "      <td>R2</td>\n",
       "      <td>45</td>\n",
       "      <td>NaN</td>\n",
       "      <td>U</td>\n",
       "      <td>M</td>\n",
       "      <td>3</td>\n",
       "      <td>...</td>\n",
       "      <td>A1F</td>\n",
       "      <td>A1F</td>\n",
       "      <td>A1F</td>\n",
       "      <td>A1F</td>\n",
       "      <td>L</td>\n",
       "      <td>F</td>\n",
       "      <td>X</td>\n",
       "      <td>X</td>\n",
       "      <td>X</td>\n",
       "      <td>D</td>\n",
       "    </tr>\n",
       "    <tr>\n",
       "      <th>9</th>\n",
       "      <td>TN</td>\n",
       "      <td>A</td>\n",
       "      <td>0</td>\n",
       "      <td>XXXX</td>\n",
       "      <td>T1</td>\n",
       "      <td>35</td>\n",
       "      <td>I</td>\n",
       "      <td>NaN</td>\n",
       "      <td>M</td>\n",
       "      <td>NaN</td>\n",
       "      <td>...</td>\n",
       "      <td>N2E</td>\n",
       "      <td>N2E</td>\n",
       "      <td>NaN</td>\n",
       "      <td>NaN</td>\n",
       "      <td>L</td>\n",
       "      <td>F</td>\n",
       "      <td>X</td>\n",
       "      <td>X</td>\n",
       "      <td>X</td>\n",
       "      <td>B</td>\n",
       "    </tr>\n",
       "  </tbody>\n",
       "</table>\n",
       "<p>10 rows × 43 columns</p>\n",
       "</div>"
      ],
      "text/plain": [
       "  STATE MAILCODE NOEXCH MDMAUD DOMAIN CLUSTER AGEFLAG HOMEOWNR GENDER  \\\n",
       "0    IL        A      0   XXXX     T2      36     NaN      NaN      F   \n",
       "1    CA        A      0   XXXX     S1      14       E        H      M   \n",
       "2    NC        A      0   XXXX     R2      43     NaN        U      M   \n",
       "3    CA        A      0   XXXX     R2      44       E        U      F   \n",
       "4    FL        A      0   XXXX     S2      16       E        H      F   \n",
       "5    AL        A      0   XXXX     T2      40     NaN      NaN    NaN   \n",
       "6    IN        A      0   XXXX     T2      40       E        H      F   \n",
       "7    LA        A      0   XXXX     T2      39     NaN        U      F   \n",
       "8    IA        A      0   XXXX     R2      45     NaN        U      M   \n",
       "9    TN        A      0   XXXX     T1      35       I      NaN      M   \n",
       "\n",
       "  DATASRCE  ... RFA_21 RFA_22 RFA_23 RFA_24 RFA_2R RFA_2A MDMAUD_R MDMAUD_F  \\\n",
       "0      NaN  ...    S4E    S4E    S4E    S4E      L      E        X        X   \n",
       "1        3  ...    N1E    N1E    NaN    F1E      L      G        X        X   \n",
       "2        3  ...    NaN    S4D    S4D    S3D      L      E        X        X   \n",
       "3        3  ...    A1D    A1D    NaN    NaN      L      E        X        X   \n",
       "4        3  ...    A3D    I4E    A3D    A3D      L      F        X        X   \n",
       "5      NaN  ...    N2E    N2E    NaN    F1E      L      F        X        X   \n",
       "6        3  ...    A2E    A2E    A3E    A3E      L      E        X        X   \n",
       "7        1  ...    N2D    N2D    NaN    F1D      L      E        X        X   \n",
       "8        3  ...    A1F    A1F    A1F    A1F      L      F        X        X   \n",
       "9      NaN  ...    N2E    N2E    NaN    NaN      L      F        X        X   \n",
       "\n",
       "  MDMAUD_A GEOCODE2  \n",
       "0        X        C  \n",
       "1        X        A  \n",
       "2        X        C  \n",
       "3        X        C  \n",
       "4        X        A  \n",
       "5        X        C  \n",
       "6        X        D  \n",
       "7        X        C  \n",
       "8        X        D  \n",
       "9        X        B  \n",
       "\n",
       "[10 rows x 43 columns]"
      ]
     },
     "execution_count": 19,
     "metadata": {},
     "output_type": "execute_result"
    }
   ],
   "source": [
    "categorical.head(10)"
   ]
  },
  {
   "cell_type": "code",
   "execution_count": 20,
   "id": "97eefbf0",
   "metadata": {},
   "outputs": [
    {
     "data": {
      "text/plain": [
       "(95412, 43)"
      ]
     },
     "execution_count": 20,
     "metadata": {},
     "output_type": "execute_result"
    }
   ],
   "source": [
    "categorical.shape"
   ]
  },
  {
   "cell_type": "markdown",
   "id": "ade9da84",
   "metadata": {},
   "source": [
    "#### Working on gender column"
   ]
  },
  {
   "cell_type": "markdown",
   "id": "a9987fd8",
   "metadata": {},
   "source": [
    "##### Replace NaN values first"
   ]
  },
  {
   "cell_type": "code",
   "execution_count": 21,
   "id": "79847c2a",
   "metadata": {},
   "outputs": [
    {
     "name": "stdout",
     "output_type": "stream",
     "text": [
      "F    51277\n",
      "M    39094\n",
      "U     1715\n",
      "J      365\n",
      "C        2\n",
      "A        2\n",
      "Name: GENDER, dtype: int64\n"
     ]
    }
   ],
   "source": [
    "print(categorical['GENDER'].value_counts())\n",
    "categorical['GENDER'] = categorical['GENDER'].fillna('F')"
   ]
  },
  {
   "cell_type": "markdown",
   "id": "8b02ac00",
   "metadata": {},
   "source": [
    "##### Reducing number of categories to 'M', 'F' and 'other'"
   ]
  },
  {
   "cell_type": "code",
   "execution_count": 22,
   "id": "972a5201",
   "metadata": {},
   "outputs": [],
   "source": [
    "df = pd.DataFrame(categorical['GENDER'].value_counts()).reset_index()\n",
    "\n",
    "df.columns = ['gender', 'count']\n",
    "other_genders = list(df[df['count']<2500]['gender'])\n",
    "def clean_gender(x):\n",
    "    if x in other_genders:\n",
    "        return 'other'\n",
    "    else:\n",
    "        return x\n",
    "    \n",
    "categorical['GENDER'] = list(map(clean_gender, categorical['GENDER']))"
   ]
  },
  {
   "cell_type": "code",
   "execution_count": 23,
   "id": "f3f378a6",
   "metadata": {},
   "outputs": [
    {
     "name": "stdout",
     "output_type": "stream",
     "text": [
      "F        54234\n",
      "M        39094\n",
      "other     2084\n",
      "Name: GENDER, dtype: int64\n"
     ]
    }
   ],
   "source": [
    "print(categorical['GENDER'].value_counts())"
   ]
  },
  {
   "cell_type": "markdown",
   "id": "b1d7313d",
   "metadata": {},
   "source": []
  },
  {
   "cell_type": "markdown",
   "id": "ab2ad984",
   "metadata": {},
   "source": [
    "## Start of Lab Feature engineering"
   ]
  },
  {
   "cell_type": "markdown",
   "id": "bbdea207",
   "metadata": {},
   "source": [
    "#### Get all numerical columns"
   ]
  },
  {
   "cell_type": "code",
   "execution_count": 24,
   "id": "72677689",
   "metadata": {},
   "outputs": [],
   "source": [
    "numerical = data.select_dtypes(np.number)"
   ]
  },
  {
   "cell_type": "code",
   "execution_count": 25,
   "id": "3d49dd7a",
   "metadata": {},
   "outputs": [
    {
     "data": {
      "text/html": [
       "<div>\n",
       "<style scoped>\n",
       "    .dataframe tbody tr th:only-of-type {\n",
       "        vertical-align: middle;\n",
       "    }\n",
       "\n",
       "    .dataframe tbody tr th {\n",
       "        vertical-align: top;\n",
       "    }\n",
       "\n",
       "    .dataframe thead th {\n",
       "        text-align: right;\n",
       "    }\n",
       "</style>\n",
       "<table border=\"1\" class=\"dataframe\">\n",
       "  <thead>\n",
       "    <tr style=\"text-align: right;\">\n",
       "      <th></th>\n",
       "      <th>ODATEDW</th>\n",
       "      <th>TCODE</th>\n",
       "      <th>DOB</th>\n",
       "      <th>AGE</th>\n",
       "      <th>NUMCHLD</th>\n",
       "      <th>INCOME</th>\n",
       "      <th>WEALTH1</th>\n",
       "      <th>HIT</th>\n",
       "      <th>MBCRAFT</th>\n",
       "      <th>MBGARDEN</th>\n",
       "      <th>...</th>\n",
       "      <th>FISTDATE</th>\n",
       "      <th>NEXTDATE</th>\n",
       "      <th>TIMELAG</th>\n",
       "      <th>AVGGIFT</th>\n",
       "      <th>CONTROLN</th>\n",
       "      <th>TARGET_B</th>\n",
       "      <th>TARGET_D</th>\n",
       "      <th>HPHONE_D</th>\n",
       "      <th>RFA_2F</th>\n",
       "      <th>CLUSTER2</th>\n",
       "    </tr>\n",
       "  </thead>\n",
       "  <tbody>\n",
       "    <tr>\n",
       "      <th>0</th>\n",
       "      <td>8901</td>\n",
       "      <td>0</td>\n",
       "      <td>3712</td>\n",
       "      <td>60.0</td>\n",
       "      <td>NaN</td>\n",
       "      <td>NaN</td>\n",
       "      <td>NaN</td>\n",
       "      <td>0</td>\n",
       "      <td>NaN</td>\n",
       "      <td>NaN</td>\n",
       "      <td>...</td>\n",
       "      <td>8911</td>\n",
       "      <td>9003.0</td>\n",
       "      <td>4.0</td>\n",
       "      <td>7.741935</td>\n",
       "      <td>95515</td>\n",
       "      <td>0</td>\n",
       "      <td>0.0</td>\n",
       "      <td>0</td>\n",
       "      <td>4</td>\n",
       "      <td>39.0</td>\n",
       "    </tr>\n",
       "    <tr>\n",
       "      <th>1</th>\n",
       "      <td>9401</td>\n",
       "      <td>1</td>\n",
       "      <td>5202</td>\n",
       "      <td>46.0</td>\n",
       "      <td>1.0</td>\n",
       "      <td>6.0</td>\n",
       "      <td>9.0</td>\n",
       "      <td>16</td>\n",
       "      <td>0.0</td>\n",
       "      <td>0.0</td>\n",
       "      <td>...</td>\n",
       "      <td>9310</td>\n",
       "      <td>9504.0</td>\n",
       "      <td>18.0</td>\n",
       "      <td>15.666667</td>\n",
       "      <td>148535</td>\n",
       "      <td>0</td>\n",
       "      <td>0.0</td>\n",
       "      <td>0</td>\n",
       "      <td>2</td>\n",
       "      <td>1.0</td>\n",
       "    </tr>\n",
       "    <tr>\n",
       "      <th>2</th>\n",
       "      <td>9001</td>\n",
       "      <td>1</td>\n",
       "      <td>0</td>\n",
       "      <td>NaN</td>\n",
       "      <td>NaN</td>\n",
       "      <td>3.0</td>\n",
       "      <td>1.0</td>\n",
       "      <td>2</td>\n",
       "      <td>0.0</td>\n",
       "      <td>0.0</td>\n",
       "      <td>...</td>\n",
       "      <td>9001</td>\n",
       "      <td>9101.0</td>\n",
       "      <td>12.0</td>\n",
       "      <td>7.481481</td>\n",
       "      <td>15078</td>\n",
       "      <td>0</td>\n",
       "      <td>0.0</td>\n",
       "      <td>1</td>\n",
       "      <td>4</td>\n",
       "      <td>60.0</td>\n",
       "    </tr>\n",
       "    <tr>\n",
       "      <th>3</th>\n",
       "      <td>8701</td>\n",
       "      <td>0</td>\n",
       "      <td>2801</td>\n",
       "      <td>70.0</td>\n",
       "      <td>NaN</td>\n",
       "      <td>1.0</td>\n",
       "      <td>4.0</td>\n",
       "      <td>2</td>\n",
       "      <td>0.0</td>\n",
       "      <td>0.0</td>\n",
       "      <td>...</td>\n",
       "      <td>8702</td>\n",
       "      <td>8711.0</td>\n",
       "      <td>9.0</td>\n",
       "      <td>6.812500</td>\n",
       "      <td>172556</td>\n",
       "      <td>0</td>\n",
       "      <td>0.0</td>\n",
       "      <td>1</td>\n",
       "      <td>4</td>\n",
       "      <td>41.0</td>\n",
       "    </tr>\n",
       "    <tr>\n",
       "      <th>4</th>\n",
       "      <td>8601</td>\n",
       "      <td>0</td>\n",
       "      <td>2001</td>\n",
       "      <td>78.0</td>\n",
       "      <td>1.0</td>\n",
       "      <td>3.0</td>\n",
       "      <td>2.0</td>\n",
       "      <td>60</td>\n",
       "      <td>1.0</td>\n",
       "      <td>0.0</td>\n",
       "      <td>...</td>\n",
       "      <td>7903</td>\n",
       "      <td>8005.0</td>\n",
       "      <td>14.0</td>\n",
       "      <td>6.864865</td>\n",
       "      <td>7112</td>\n",
       "      <td>0</td>\n",
       "      <td>0.0</td>\n",
       "      <td>1</td>\n",
       "      <td>2</td>\n",
       "      <td>26.0</td>\n",
       "    </tr>\n",
       "    <tr>\n",
       "      <th>5</th>\n",
       "      <td>9401</td>\n",
       "      <td>0</td>\n",
       "      <td>0</td>\n",
       "      <td>NaN</td>\n",
       "      <td>NaN</td>\n",
       "      <td>NaN</td>\n",
       "      <td>NaN</td>\n",
       "      <td>0</td>\n",
       "      <td>NaN</td>\n",
       "      <td>NaN</td>\n",
       "      <td>...</td>\n",
       "      <td>9401</td>\n",
       "      <td>9407.0</td>\n",
       "      <td>6.0</td>\n",
       "      <td>12.750000</td>\n",
       "      <td>47784</td>\n",
       "      <td>0</td>\n",
       "      <td>0.0</td>\n",
       "      <td>0</td>\n",
       "      <td>1</td>\n",
       "      <td>16.0</td>\n",
       "    </tr>\n",
       "    <tr>\n",
       "      <th>6</th>\n",
       "      <td>8701</td>\n",
       "      <td>0</td>\n",
       "      <td>6001</td>\n",
       "      <td>38.0</td>\n",
       "      <td>1.0</td>\n",
       "      <td>4.0</td>\n",
       "      <td>6.0</td>\n",
       "      <td>0</td>\n",
       "      <td>NaN</td>\n",
       "      <td>NaN</td>\n",
       "      <td>...</td>\n",
       "      <td>8701</td>\n",
       "      <td>8705.0</td>\n",
       "      <td>4.0</td>\n",
       "      <td>7.642857</td>\n",
       "      <td>62117</td>\n",
       "      <td>0</td>\n",
       "      <td>0.0</td>\n",
       "      <td>1</td>\n",
       "      <td>1</td>\n",
       "      <td>53.0</td>\n",
       "    </tr>\n",
       "    <tr>\n",
       "      <th>7</th>\n",
       "      <td>9401</td>\n",
       "      <td>0</td>\n",
       "      <td>0</td>\n",
       "      <td>NaN</td>\n",
       "      <td>NaN</td>\n",
       "      <td>2.0</td>\n",
       "      <td>9.0</td>\n",
       "      <td>1</td>\n",
       "      <td>0.0</td>\n",
       "      <td>0.0</td>\n",
       "      <td>...</td>\n",
       "      <td>9401</td>\n",
       "      <td>9407.0</td>\n",
       "      <td>6.0</td>\n",
       "      <td>6.200000</td>\n",
       "      <td>109359</td>\n",
       "      <td>0</td>\n",
       "      <td>0.0</td>\n",
       "      <td>1</td>\n",
       "      <td>3</td>\n",
       "      <td>38.0</td>\n",
       "    </tr>\n",
       "    <tr>\n",
       "      <th>8</th>\n",
       "      <td>8801</td>\n",
       "      <td>1</td>\n",
       "      <td>0</td>\n",
       "      <td>NaN</td>\n",
       "      <td>NaN</td>\n",
       "      <td>3.0</td>\n",
       "      <td>2.0</td>\n",
       "      <td>0</td>\n",
       "      <td>NaN</td>\n",
       "      <td>NaN</td>\n",
       "      <td>...</td>\n",
       "      <td>8801</td>\n",
       "      <td>8809.0</td>\n",
       "      <td>8.0</td>\n",
       "      <td>18.090909</td>\n",
       "      <td>75768</td>\n",
       "      <td>0</td>\n",
       "      <td>0.0</td>\n",
       "      <td>1</td>\n",
       "      <td>1</td>\n",
       "      <td>57.0</td>\n",
       "    </tr>\n",
       "    <tr>\n",
       "      <th>9</th>\n",
       "      <td>9401</td>\n",
       "      <td>1</td>\n",
       "      <td>3211</td>\n",
       "      <td>65.0</td>\n",
       "      <td>NaN</td>\n",
       "      <td>NaN</td>\n",
       "      <td>NaN</td>\n",
       "      <td>0</td>\n",
       "      <td>NaN</td>\n",
       "      <td>NaN</td>\n",
       "      <td>...</td>\n",
       "      <td>9309</td>\n",
       "      <td>9404.0</td>\n",
       "      <td>7.0</td>\n",
       "      <td>9.333333</td>\n",
       "      <td>49909</td>\n",
       "      <td>0</td>\n",
       "      <td>0.0</td>\n",
       "      <td>0</td>\n",
       "      <td>1</td>\n",
       "      <td>34.0</td>\n",
       "    </tr>\n",
       "  </tbody>\n",
       "</table>\n",
       "<p>10 rows × 407 columns</p>\n",
       "</div>"
      ],
      "text/plain": [
       "   ODATEDW  TCODE   DOB   AGE  NUMCHLD  INCOME  WEALTH1  HIT  MBCRAFT  \\\n",
       "0     8901      0  3712  60.0      NaN     NaN      NaN    0      NaN   \n",
       "1     9401      1  5202  46.0      1.0     6.0      9.0   16      0.0   \n",
       "2     9001      1     0   NaN      NaN     3.0      1.0    2      0.0   \n",
       "3     8701      0  2801  70.0      NaN     1.0      4.0    2      0.0   \n",
       "4     8601      0  2001  78.0      1.0     3.0      2.0   60      1.0   \n",
       "5     9401      0     0   NaN      NaN     NaN      NaN    0      NaN   \n",
       "6     8701      0  6001  38.0      1.0     4.0      6.0    0      NaN   \n",
       "7     9401      0     0   NaN      NaN     2.0      9.0    1      0.0   \n",
       "8     8801      1     0   NaN      NaN     3.0      2.0    0      NaN   \n",
       "9     9401      1  3211  65.0      NaN     NaN      NaN    0      NaN   \n",
       "\n",
       "   MBGARDEN  ...  FISTDATE  NEXTDATE  TIMELAG    AVGGIFT  CONTROLN  TARGET_B  \\\n",
       "0       NaN  ...      8911    9003.0      4.0   7.741935     95515         0   \n",
       "1       0.0  ...      9310    9504.0     18.0  15.666667    148535         0   \n",
       "2       0.0  ...      9001    9101.0     12.0   7.481481     15078         0   \n",
       "3       0.0  ...      8702    8711.0      9.0   6.812500    172556         0   \n",
       "4       0.0  ...      7903    8005.0     14.0   6.864865      7112         0   \n",
       "5       NaN  ...      9401    9407.0      6.0  12.750000     47784         0   \n",
       "6       NaN  ...      8701    8705.0      4.0   7.642857     62117         0   \n",
       "7       0.0  ...      9401    9407.0      6.0   6.200000    109359         0   \n",
       "8       NaN  ...      8801    8809.0      8.0  18.090909     75768         0   \n",
       "9       NaN  ...      9309    9404.0      7.0   9.333333     49909         0   \n",
       "\n",
       "   TARGET_D  HPHONE_D  RFA_2F  CLUSTER2  \n",
       "0       0.0         0       4      39.0  \n",
       "1       0.0         0       2       1.0  \n",
       "2       0.0         1       4      60.0  \n",
       "3       0.0         1       4      41.0  \n",
       "4       0.0         1       2      26.0  \n",
       "5       0.0         0       1      16.0  \n",
       "6       0.0         1       1      53.0  \n",
       "7       0.0         1       3      38.0  \n",
       "8       0.0         1       1      57.0  \n",
       "9       0.0         0       1      34.0  \n",
       "\n",
       "[10 rows x 407 columns]"
      ]
     },
     "execution_count": 25,
     "metadata": {},
     "output_type": "execute_result"
    }
   ],
   "source": [
    "numerical.head(10)"
   ]
  },
  {
   "cell_type": "markdown",
   "id": "6d8d61ba",
   "metadata": {},
   "source": [
    "#### Check for null values in the numerical columns"
   ]
  },
  {
   "cell_type": "code",
   "execution_count": 26,
   "id": "e2be9cf1",
   "metadata": {},
   "outputs": [],
   "source": [
    "#numerical.isna().sum()*100/len(numerical)"
   ]
  },
  {
   "cell_type": "markdown",
   "id": "c3595f33",
   "metadata": {},
   "source": [
    "#### Use appropriate methods to clean the columns GEOCODE2, WEALTH1, ADI, DMA,and MSA"
   ]
  },
  {
   "cell_type": "markdown",
   "id": "ac1ae05b",
   "metadata": {},
   "source": [
    "##### GEOCODE2"
   ]
  },
  {
   "cell_type": "code",
   "execution_count": 27,
   "id": "2c7adbef",
   "metadata": {},
   "outputs": [
    {
     "data": {
      "text/plain": [
       "A      34484\n",
       "B      28505\n",
       "D      16580\n",
       "C      15524\n",
       "NaN      319\n",
       "Name: GEOCODE2, dtype: int64"
      ]
     },
     "execution_count": 27,
     "metadata": {},
     "output_type": "execute_result"
    }
   ],
   "source": [
    "categorical['GEOCODE2'].value_counts(dropna=False)"
   ]
  },
  {
   "cell_type": "code",
   "execution_count": 28,
   "id": "4ab39e7b",
   "metadata": {},
   "outputs": [],
   "source": [
    "#replace NaN values by the most common value A\n",
    "categorical['GEOCODE2'] = categorical['GEOCODE2'].fillna('A')"
   ]
  },
  {
   "cell_type": "code",
   "execution_count": 29,
   "id": "a2da1585",
   "metadata": {},
   "outputs": [
    {
     "data": {
      "text/plain": [
       "A    34803\n",
       "B    28505\n",
       "D    16580\n",
       "C    15524\n",
       "Name: GEOCODE2, dtype: int64"
      ]
     },
     "execution_count": 29,
     "metadata": {},
     "output_type": "execute_result"
    }
   ],
   "source": [
    "categorical['GEOCODE2'].value_counts(dropna=False)"
   ]
  },
  {
   "cell_type": "markdown",
   "id": "6219d030",
   "metadata": {},
   "source": [
    "##### WEALTH1"
   ]
  },
  {
   "cell_type": "code",
   "execution_count": 30,
   "id": "eecf4510",
   "metadata": {},
   "outputs": [
    {
     "data": {
      "text/plain": [
       "NaN    44732\n",
       "9.0     7585\n",
       "8.0     6793\n",
       "7.0     6198\n",
       "6.0     5825\n",
       "5.0     5280\n",
       "4.0     4810\n",
       "3.0     4237\n",
       "2.0     4085\n",
       "1.0     3454\n",
       "0.0     2413\n",
       "Name: WEALTH1, dtype: int64"
      ]
     },
     "execution_count": 30,
     "metadata": {},
     "output_type": "execute_result"
    }
   ],
   "source": [
    "numerical['WEALTH1'].value_counts(dropna=False)"
   ]
  },
  {
   "cell_type": "code",
   "execution_count": 31,
   "id": "84e5bf19",
   "metadata": {},
   "outputs": [
    {
     "name": "stderr",
     "output_type": "stream",
     "text": [
      "C:\\Users\\lisab\\anaconda3\\lib\\site-packages\\seaborn\\distributions.py:2619: FutureWarning: `distplot` is a deprecated function and will be removed in a future version. Please adapt your code to use either `displot` (a figure-level function with similar flexibility) or `histplot` (an axes-level function for histograms).\n",
      "  warnings.warn(msg, FutureWarning)\n"
     ]
    },
    {
     "data": {
      "image/png": "[encoded data removed]",
      "text/plain": [
       "<Figure size 640x480 with 1 Axes>"
      ]
     },
     "metadata": {},
     "output_type": "display_data"
    }
   ],
   "source": [
    "sns.distplot(numerical['WEALTH1'])\n",
    "plt.show()"
   ]
  },
  {
   "cell_type": "code",
   "execution_count": 32,
   "id": "7d1bdf41",
   "metadata": {},
   "outputs": [
    {
     "data": {
      "text/plain": [
       "6.0"
      ]
     },
     "execution_count": 32,
     "metadata": {},
     "output_type": "execute_result"
    }
   ],
   "source": [
    "numerical['WEALTH1'].median()"
   ]
  },
  {
   "cell_type": "code",
   "execution_count": 33,
   "id": "c4d6128e",
   "metadata": {},
   "outputs": [
    {
     "data": {
      "text/plain": [
       "5.345698500394633"
      ]
     },
     "execution_count": 33,
     "metadata": {},
     "output_type": "execute_result"
    }
   ],
   "source": [
    "numerical['WEALTH1'].mean()"
   ]
  },
  {
   "cell_type": "code",
   "execution_count": 34,
   "id": "817a098f",
   "metadata": {},
   "outputs": [],
   "source": [
    "#Replace NaN values by median value for WEALTH1 column\n",
    "numerical['WEALTH1'] = numerical['WEALTH1'].fillna(6.0)"
   ]
  },
  {
   "cell_type": "markdown",
   "id": "60d147fe",
   "metadata": {},
   "source": [
    "##### ADI"
   ]
  },
  {
   "cell_type": "code",
   "execution_count": 35,
   "id": "6294a122",
   "metadata": {},
   "outputs": [],
   "source": [
    "#numerical['ADI'].value_counts(dropna=False)"
   ]
  },
  {
   "cell_type": "code",
   "execution_count": 36,
   "id": "2cac97f1",
   "metadata": {},
   "outputs": [
    {
     "data": {
      "text/plain": [
       "7296"
      ]
     },
     "execution_count": 36,
     "metadata": {},
     "output_type": "execute_result"
    }
   ],
   "source": [
    "numerical['ADI'].value_counts(dropna=False).max()"
   ]
  },
  {
   "cell_type": "code",
   "execution_count": 37,
   "id": "30f724f0",
   "metadata": {},
   "outputs": [
    {
     "data": {
      "text/plain": [
       "132"
      ]
     },
     "execution_count": 37,
     "metadata": {},
     "output_type": "execute_result"
    }
   ],
   "source": [
    "numerical['ADI'].isna().sum()"
   ]
  },
  {
   "cell_type": "code",
   "execution_count": 38,
   "id": "fdb362bb",
   "metadata": {},
   "outputs": [
    {
     "name": "stderr",
     "output_type": "stream",
     "text": [
      "C:\\Users\\lisab\\anaconda3\\lib\\site-packages\\seaborn\\distributions.py:2619: FutureWarning: `distplot` is a deprecated function and will be removed in a future version. Please adapt your code to use either `displot` (a figure-level function with similar flexibility) or `histplot` (an axes-level function for histograms).\n",
      "  warnings.warn(msg, FutureWarning)\n"
     ]
    },
    {
     "data": {
      "image/png": "[encoded data removed]",
      "text/plain": [
       "<Figure size 640x480 with 1 Axes>"
      ]
     },
     "metadata": {},
     "output_type": "display_data"
    }
   ],
   "source": [
    "sns.distplot(numerical['ADI'])\n",
    "plt.show()"
   ]
  },
  {
   "cell_type": "code",
   "execution_count": 39,
   "id": "6c12e828",
   "metadata": {},
   "outputs": [
    {
     "data": {
      "text/plain": [
       "187.35640218303945"
      ]
     },
     "execution_count": 39,
     "metadata": {},
     "output_type": "execute_result"
    }
   ],
   "source": [
    "numerical['ADI'].mean()"
   ]
  },
  {
   "cell_type": "code",
   "execution_count": 40,
   "id": "a9b0bf87",
   "metadata": {},
   "outputs": [
    {
     "data": {
      "text/plain": [
       "175.0"
      ]
     },
     "execution_count": 40,
     "metadata": {},
     "output_type": "execute_result"
    }
   ],
   "source": [
    "numerical['ADI'].median()"
   ]
  },
  {
   "cell_type": "code",
   "execution_count": 41,
   "id": "487004c4",
   "metadata": {},
   "outputs": [],
   "source": [
    "#Replace NaN values by the most frequent one, which is 13\n",
    "numerical['ADI'] = numerical['ADI'].fillna(13.0)"
   ]
  },
  {
   "cell_type": "markdown",
   "id": "72eb6130",
   "metadata": {},
   "source": [
    "##### DMA "
   ]
  },
  {
   "cell_type": "code",
   "execution_count": 42,
   "id": "b5967d15",
   "metadata": {},
   "outputs": [],
   "source": [
    "#numerical['DMA'].value_counts(dropna=False)"
   ]
  },
  {
   "cell_type": "code",
   "execution_count": 43,
   "id": "05420867",
   "metadata": {},
   "outputs": [
    {
     "data": {
      "text/plain": [
       "7296"
      ]
     },
     "execution_count": 43,
     "metadata": {},
     "output_type": "execute_result"
    }
   ],
   "source": [
    "numerical['DMA'].value_counts(dropna=False).max()"
   ]
  },
  {
   "cell_type": "code",
   "execution_count": 44,
   "id": "a5e3bf6f",
   "metadata": {},
   "outputs": [
    {
     "data": {
      "text/plain": [
       "132"
      ]
     },
     "execution_count": 44,
     "metadata": {},
     "output_type": "execute_result"
    }
   ],
   "source": [
    "numerical['DMA'].isna().sum()"
   ]
  },
  {
   "cell_type": "code",
   "execution_count": 45,
   "id": "1c624c64",
   "metadata": {},
   "outputs": [
    {
     "name": "stderr",
     "output_type": "stream",
     "text": [
      "C:\\Users\\lisab\\anaconda3\\lib\\site-packages\\seaborn\\distributions.py:2619: FutureWarning: `distplot` is a deprecated function and will be removed in a future version. Please adapt your code to use either `displot` (a figure-level function with similar flexibility) or `histplot` (an axes-level function for histograms).\n",
      "  warnings.warn(msg, FutureWarning)\n"
     ]
    },
    {
     "data": {
      "image/png": "[encoded data removed]",
      "text/plain": [
       "<Figure size 640x480 with 1 Axes>"
      ]
     },
     "metadata": {},
     "output_type": "display_data"
    }
   ],
   "source": [
    "sns.distplot(numerical['DMA'])\n",
    "plt.show()"
   ]
  },
  {
   "cell_type": "code",
   "execution_count": 46,
   "id": "fd86beee",
   "metadata": {},
   "outputs": [
    {
     "data": {
      "text/plain": [
       "664.0040722082284"
      ]
     },
     "execution_count": 46,
     "metadata": {},
     "output_type": "execute_result"
    }
   ],
   "source": [
    "numerical['DMA'].mean()"
   ]
  },
  {
   "cell_type": "code",
   "execution_count": 47,
   "id": "c4284129",
   "metadata": {},
   "outputs": [
    {
     "data": {
      "text/plain": [
       "635.0"
      ]
     },
     "execution_count": 47,
     "metadata": {},
     "output_type": "execute_result"
    }
   ],
   "source": [
    "numerical['DMA'].median()"
   ]
  },
  {
   "cell_type": "code",
   "execution_count": 48,
   "id": "83a18483",
   "metadata": {},
   "outputs": [],
   "source": [
    "#Replace NaN values by the most frequent one, which is 803\n",
    "numerical['DMA'] = numerical['DMA'].fillna(803.0)"
   ]
  },
  {
   "cell_type": "markdown",
   "id": "e70f90eb",
   "metadata": {},
   "source": [
    "##### MSA"
   ]
  },
  {
   "cell_type": "code",
   "execution_count": 49,
   "id": "d99647aa",
   "metadata": {},
   "outputs": [],
   "source": [
    "#numerical['MSA'].value_counts(dropna=False)"
   ]
  },
  {
   "cell_type": "code",
   "execution_count": 50,
   "id": "813b1ae7",
   "metadata": {},
   "outputs": [
    {
     "data": {
      "text/plain": [
       "21333"
      ]
     },
     "execution_count": 50,
     "metadata": {},
     "output_type": "execute_result"
    }
   ],
   "source": [
    "numerical['MSA'].value_counts(dropna=False).max()"
   ]
  },
  {
   "cell_type": "code",
   "execution_count": 51,
   "id": "d1b62e57",
   "metadata": {},
   "outputs": [
    {
     "data": {
      "text/plain": [
       "132"
      ]
     },
     "execution_count": 51,
     "metadata": {},
     "output_type": "execute_result"
    }
   ],
   "source": [
    "numerical['MSA'].isna().sum()"
   ]
  },
  {
   "cell_type": "code",
   "execution_count": 52,
   "id": "ee713368",
   "metadata": {},
   "outputs": [
    {
     "name": "stderr",
     "output_type": "stream",
     "text": [
      "C:\\Users\\lisab\\anaconda3\\lib\\site-packages\\seaborn\\distributions.py:2619: FutureWarning: `distplot` is a deprecated function and will be removed in a future version. Please adapt your code to use either `displot` (a figure-level function with similar flexibility) or `histplot` (an axes-level function for histograms).\n",
      "  warnings.warn(msg, FutureWarning)\n"
     ]
    },
    {
     "data": {
      "image/png": "[encoded data removed]",
      "text/plain": [
       "<Figure size 640x480 with 1 Axes>"
      ]
     },
     "metadata": {},
     "output_type": "display_data"
    }
   ],
   "source": [
    "sns.distplot(numerical['MSA'])\n",
    "plt.show()"
   ]
  },
  {
   "cell_type": "code",
   "execution_count": 53,
   "id": "5b5134fd",
   "metadata": {},
   "outputs": [],
   "source": [
    "#Replace NaN values by the most frequent one, which is 0\n",
    "numerical['MSA'] = numerical['MSA'].fillna(0.0)"
   ]
  },
  {
   "cell_type": "markdown",
   "id": "e5bee6ae",
   "metadata": {},
   "source": [
    "#### Dealing with the rest of the NaN columns in the numerical data"
   ]
  },
  {
   "cell_type": "code",
   "execution_count": 54,
   "id": "6055ae89",
   "metadata": {},
   "outputs": [],
   "source": [
    "numerical = numerical.apply(lambda x: x.replace(\" \", np.NaN))"
   ]
  },
  {
   "cell_type": "code",
   "execution_count": 55,
   "id": "5c09d466",
   "metadata": {},
   "outputs": [
    {
     "data": {
      "text/html": [
       "<div>\n",
       "<style scoped>\n",
       "    .dataframe tbody tr th:only-of-type {\n",
       "        vertical-align: middle;\n",
       "    }\n",
       "\n",
       "    .dataframe tbody tr th {\n",
       "        vertical-align: top;\n",
       "    }\n",
       "\n",
       "    .dataframe thead th {\n",
       "        text-align: right;\n",
       "    }\n",
       "</style>\n",
       "<table border=\"1\" class=\"dataframe\">\n",
       "  <thead>\n",
       "    <tr style=\"text-align: right;\">\n",
       "      <th></th>\n",
       "      <th>ODATEDW</th>\n",
       "      <th>TCODE</th>\n",
       "      <th>DOB</th>\n",
       "      <th>AGE</th>\n",
       "      <th>NUMCHLD</th>\n",
       "      <th>INCOME</th>\n",
       "      <th>WEALTH1</th>\n",
       "      <th>HIT</th>\n",
       "      <th>MBCRAFT</th>\n",
       "      <th>MBGARDEN</th>\n",
       "      <th>...</th>\n",
       "      <th>FISTDATE</th>\n",
       "      <th>NEXTDATE</th>\n",
       "      <th>TIMELAG</th>\n",
       "      <th>AVGGIFT</th>\n",
       "      <th>CONTROLN</th>\n",
       "      <th>TARGET_B</th>\n",
       "      <th>TARGET_D</th>\n",
       "      <th>HPHONE_D</th>\n",
       "      <th>RFA_2F</th>\n",
       "      <th>CLUSTER2</th>\n",
       "    </tr>\n",
       "  </thead>\n",
       "  <tbody>\n",
       "    <tr>\n",
       "      <th>0</th>\n",
       "      <td>8901</td>\n",
       "      <td>0</td>\n",
       "      <td>3712</td>\n",
       "      <td>60.0</td>\n",
       "      <td>NaN</td>\n",
       "      <td>NaN</td>\n",
       "      <td>6.0</td>\n",
       "      <td>0</td>\n",
       "      <td>NaN</td>\n",
       "      <td>NaN</td>\n",
       "      <td>...</td>\n",
       "      <td>8911</td>\n",
       "      <td>9003.0</td>\n",
       "      <td>4.0</td>\n",
       "      <td>7.741935</td>\n",
       "      <td>95515</td>\n",
       "      <td>0</td>\n",
       "      <td>0.0</td>\n",
       "      <td>0</td>\n",
       "      <td>4</td>\n",
       "      <td>39.0</td>\n",
       "    </tr>\n",
       "    <tr>\n",
       "      <th>1</th>\n",
       "      <td>9401</td>\n",
       "      <td>1</td>\n",
       "      <td>5202</td>\n",
       "      <td>46.0</td>\n",
       "      <td>1.0</td>\n",
       "      <td>6.0</td>\n",
       "      <td>9.0</td>\n",
       "      <td>16</td>\n",
       "      <td>0.0</td>\n",
       "      <td>0.0</td>\n",
       "      <td>...</td>\n",
       "      <td>9310</td>\n",
       "      <td>9504.0</td>\n",
       "      <td>18.0</td>\n",
       "      <td>15.666667</td>\n",
       "      <td>148535</td>\n",
       "      <td>0</td>\n",
       "      <td>0.0</td>\n",
       "      <td>0</td>\n",
       "      <td>2</td>\n",
       "      <td>1.0</td>\n",
       "    </tr>\n",
       "    <tr>\n",
       "      <th>2</th>\n",
       "      <td>9001</td>\n",
       "      <td>1</td>\n",
       "      <td>0</td>\n",
       "      <td>NaN</td>\n",
       "      <td>NaN</td>\n",
       "      <td>3.0</td>\n",
       "      <td>1.0</td>\n",
       "      <td>2</td>\n",
       "      <td>0.0</td>\n",
       "      <td>0.0</td>\n",
       "      <td>...</td>\n",
       "      <td>9001</td>\n",
       "      <td>9101.0</td>\n",
       "      <td>12.0</td>\n",
       "      <td>7.481481</td>\n",
       "      <td>15078</td>\n",
       "      <td>0</td>\n",
       "      <td>0.0</td>\n",
       "      <td>1</td>\n",
       "      <td>4</td>\n",
       "      <td>60.0</td>\n",
       "    </tr>\n",
       "    <tr>\n",
       "      <th>3</th>\n",
       "      <td>8701</td>\n",
       "      <td>0</td>\n",
       "      <td>2801</td>\n",
       "      <td>70.0</td>\n",
       "      <td>NaN</td>\n",
       "      <td>1.0</td>\n",
       "      <td>4.0</td>\n",
       "      <td>2</td>\n",
       "      <td>0.0</td>\n",
       "      <td>0.0</td>\n",
       "      <td>...</td>\n",
       "      <td>8702</td>\n",
       "      <td>8711.0</td>\n",
       "      <td>9.0</td>\n",
       "      <td>6.812500</td>\n",
       "      <td>172556</td>\n",
       "      <td>0</td>\n",
       "      <td>0.0</td>\n",
       "      <td>1</td>\n",
       "      <td>4</td>\n",
       "      <td>41.0</td>\n",
       "    </tr>\n",
       "    <tr>\n",
       "      <th>4</th>\n",
       "      <td>8601</td>\n",
       "      <td>0</td>\n",
       "      <td>2001</td>\n",
       "      <td>78.0</td>\n",
       "      <td>1.0</td>\n",
       "      <td>3.0</td>\n",
       "      <td>2.0</td>\n",
       "      <td>60</td>\n",
       "      <td>1.0</td>\n",
       "      <td>0.0</td>\n",
       "      <td>...</td>\n",
       "      <td>7903</td>\n",
       "      <td>8005.0</td>\n",
       "      <td>14.0</td>\n",
       "      <td>6.864865</td>\n",
       "      <td>7112</td>\n",
       "      <td>0</td>\n",
       "      <td>0.0</td>\n",
       "      <td>1</td>\n",
       "      <td>2</td>\n",
       "      <td>26.0</td>\n",
       "    </tr>\n",
       "  </tbody>\n",
       "</table>\n",
       "<p>5 rows × 407 columns</p>\n",
       "</div>"
      ],
      "text/plain": [
       "   ODATEDW  TCODE   DOB   AGE  NUMCHLD  INCOME  WEALTH1  HIT  MBCRAFT  \\\n",
       "0     8901      0  3712  60.0      NaN     NaN      6.0    0      NaN   \n",
       "1     9401      1  5202  46.0      1.0     6.0      9.0   16      0.0   \n",
       "2     9001      1     0   NaN      NaN     3.0      1.0    2      0.0   \n",
       "3     8701      0  2801  70.0      NaN     1.0      4.0    2      0.0   \n",
       "4     8601      0  2001  78.0      1.0     3.0      2.0   60      1.0   \n",
       "\n",
       "   MBGARDEN  ...  FISTDATE  NEXTDATE  TIMELAG    AVGGIFT  CONTROLN  TARGET_B  \\\n",
       "0       NaN  ...      8911    9003.0      4.0   7.741935     95515         0   \n",
       "1       0.0  ...      9310    9504.0     18.0  15.666667    148535         0   \n",
       "2       0.0  ...      9001    9101.0     12.0   7.481481     15078         0   \n",
       "3       0.0  ...      8702    8711.0      9.0   6.812500    172556         0   \n",
       "4       0.0  ...      7903    8005.0     14.0   6.864865      7112         0   \n",
       "\n",
       "   TARGET_D  HPHONE_D  RFA_2F  CLUSTER2  \n",
       "0       0.0         0       4      39.0  \n",
       "1       0.0         0       2       1.0  \n",
       "2       0.0         1       4      60.0  \n",
       "3       0.0         1       4      41.0  \n",
       "4       0.0         1       2      26.0  \n",
       "\n",
       "[5 rows x 407 columns]"
      ]
     },
     "execution_count": 55,
     "metadata": {},
     "output_type": "execute_result"
    }
   ],
   "source": [
    "numerical.head()"
   ]
  },
  {
   "cell_type": "code",
   "execution_count": 56,
   "id": "4846d7b4",
   "metadata": {},
   "outputs": [],
   "source": [
    "nulls_percent_df_num = pd.DataFrame(numerical.isna().sum()*100/len(numerical)).reset_index()\n",
    "nulls_percent_df_num.columns = ['column_name', 'nulls_percentage']"
   ]
  },
  {
   "cell_type": "code",
   "execution_count": 57,
   "id": "5a052019",
   "metadata": {},
   "outputs": [],
   "source": [
    "#nulls_percent_df_num"
   ]
  },
  {
   "cell_type": "markdown",
   "id": "8981598b",
   "metadata": {},
   "source": [
    "#### all numerical columns with a percentage above 85% for NaN values"
   ]
  },
  {
   "cell_type": "code",
   "execution_count": 58,
   "id": "97a156b1",
   "metadata": {},
   "outputs": [
    {
     "data": {
      "text/plain": [
       "4       NUMCHLD\n",
       "344     RDATE_3\n",
       "345     RDATE_4\n",
       "346     RDATE_5\n",
       "347     RDATE_6\n",
       "348     RDATE_7\n",
       "351    RDATE_10\n",
       "354    RDATE_13\n",
       "356    RDATE_15\n",
       "358    RDATE_17\n",
       "361    RDATE_20\n",
       "362    RDATE_21\n",
       "364    RDATE_23\n",
       "366     RAMNT_3\n",
       "367     RAMNT_4\n",
       "368     RAMNT_5\n",
       "369     RAMNT_6\n",
       "370     RAMNT_7\n",
       "373    RAMNT_10\n",
       "376    RAMNT_13\n",
       "378    RAMNT_15\n",
       "380    RAMNT_17\n",
       "383    RAMNT_20\n",
       "384    RAMNT_21\n",
       "386    RAMNT_23\n",
       "Name: column_name, dtype: object"
      ]
     },
     "execution_count": 58,
     "metadata": {},
     "output_type": "execute_result"
    }
   ],
   "source": [
    "columns_above_threshold_num = nulls_percent_df_num[nulls_percent_df_num['nulls_percentage']>85]\n",
    "columns_above_threshold_num['column_name']"
   ]
  },
  {
   "cell_type": "code",
   "execution_count": 59,
   "id": "041a8882",
   "metadata": {},
   "outputs": [
    {
     "name": "stdout",
     "output_type": "stream",
     "text": [
      "['NUMCHLD', 'RDATE_3', 'RDATE_4', 'RDATE_5', 'RDATE_6', 'RDATE_7', 'RDATE_10', 'RDATE_13', 'RDATE_15', 'RDATE_17', 'RDATE_20', 'RDATE_21', 'RDATE_23', 'RAMNT_3', 'RAMNT_4', 'RAMNT_5', 'RAMNT_6', 'RAMNT_7', 'RAMNT_10', 'RAMNT_13', 'RAMNT_15', 'RAMNT_17', 'RAMNT_20', 'RAMNT_21', 'RAMNT_23']\n"
     ]
    }
   ],
   "source": [
    "drop_columns_list_num = list(columns_above_threshold_num['column_name'])\n",
    "print(drop_columns_list_num)"
   ]
  },
  {
   "cell_type": "markdown",
   "id": "f7c89ea0",
   "metadata": {},
   "source": [
    "#### Drop all numerical columns with NaN values above 85%"
   ]
  },
  {
   "cell_type": "code",
   "execution_count": 60,
   "id": "52661f4c",
   "metadata": {},
   "outputs": [],
   "source": [
    "numerical = numerical.drop(drop_columns_list_num, axis=1)"
   ]
  },
  {
   "cell_type": "code",
   "execution_count": 61,
   "id": "bd976748",
   "metadata": {},
   "outputs": [
    {
     "data": {
      "text/html": [
       "<div>\n",
       "<style scoped>\n",
       "    .dataframe tbody tr th:only-of-type {\n",
       "        vertical-align: middle;\n",
       "    }\n",
       "\n",
       "    .dataframe tbody tr th {\n",
       "        vertical-align: top;\n",
       "    }\n",
       "\n",
       "    .dataframe thead th {\n",
       "        text-align: right;\n",
       "    }\n",
       "</style>\n",
       "<table border=\"1\" class=\"dataframe\">\n",
       "  <thead>\n",
       "    <tr style=\"text-align: right;\">\n",
       "      <th></th>\n",
       "      <th>ODATEDW</th>\n",
       "      <th>TCODE</th>\n",
       "      <th>DOB</th>\n",
       "      <th>AGE</th>\n",
       "      <th>INCOME</th>\n",
       "      <th>WEALTH1</th>\n",
       "      <th>HIT</th>\n",
       "      <th>MBCRAFT</th>\n",
       "      <th>MBGARDEN</th>\n",
       "      <th>MBBOOKS</th>\n",
       "      <th>...</th>\n",
       "      <th>FISTDATE</th>\n",
       "      <th>NEXTDATE</th>\n",
       "      <th>TIMELAG</th>\n",
       "      <th>AVGGIFT</th>\n",
       "      <th>CONTROLN</th>\n",
       "      <th>TARGET_B</th>\n",
       "      <th>TARGET_D</th>\n",
       "      <th>HPHONE_D</th>\n",
       "      <th>RFA_2F</th>\n",
       "      <th>CLUSTER2</th>\n",
       "    </tr>\n",
       "  </thead>\n",
       "  <tbody>\n",
       "    <tr>\n",
       "      <th>0</th>\n",
       "      <td>8901</td>\n",
       "      <td>0</td>\n",
       "      <td>3712</td>\n",
       "      <td>60.0</td>\n",
       "      <td>NaN</td>\n",
       "      <td>6.0</td>\n",
       "      <td>0</td>\n",
       "      <td>NaN</td>\n",
       "      <td>NaN</td>\n",
       "      <td>NaN</td>\n",
       "      <td>...</td>\n",
       "      <td>8911</td>\n",
       "      <td>9003.0</td>\n",
       "      <td>4.0</td>\n",
       "      <td>7.741935</td>\n",
       "      <td>95515</td>\n",
       "      <td>0</td>\n",
       "      <td>0.0</td>\n",
       "      <td>0</td>\n",
       "      <td>4</td>\n",
       "      <td>39.0</td>\n",
       "    </tr>\n",
       "    <tr>\n",
       "      <th>1</th>\n",
       "      <td>9401</td>\n",
       "      <td>1</td>\n",
       "      <td>5202</td>\n",
       "      <td>46.0</td>\n",
       "      <td>6.0</td>\n",
       "      <td>9.0</td>\n",
       "      <td>16</td>\n",
       "      <td>0.0</td>\n",
       "      <td>0.0</td>\n",
       "      <td>3.0</td>\n",
       "      <td>...</td>\n",
       "      <td>9310</td>\n",
       "      <td>9504.0</td>\n",
       "      <td>18.0</td>\n",
       "      <td>15.666667</td>\n",
       "      <td>148535</td>\n",
       "      <td>0</td>\n",
       "      <td>0.0</td>\n",
       "      <td>0</td>\n",
       "      <td>2</td>\n",
       "      <td>1.0</td>\n",
       "    </tr>\n",
       "    <tr>\n",
       "      <th>2</th>\n",
       "      <td>9001</td>\n",
       "      <td>1</td>\n",
       "      <td>0</td>\n",
       "      <td>NaN</td>\n",
       "      <td>3.0</td>\n",
       "      <td>1.0</td>\n",
       "      <td>2</td>\n",
       "      <td>0.0</td>\n",
       "      <td>0.0</td>\n",
       "      <td>1.0</td>\n",
       "      <td>...</td>\n",
       "      <td>9001</td>\n",
       "      <td>9101.0</td>\n",
       "      <td>12.0</td>\n",
       "      <td>7.481481</td>\n",
       "      <td>15078</td>\n",
       "      <td>0</td>\n",
       "      <td>0.0</td>\n",
       "      <td>1</td>\n",
       "      <td>4</td>\n",
       "      <td>60.0</td>\n",
       "    </tr>\n",
       "    <tr>\n",
       "      <th>3</th>\n",
       "      <td>8701</td>\n",
       "      <td>0</td>\n",
       "      <td>2801</td>\n",
       "      <td>70.0</td>\n",
       "      <td>1.0</td>\n",
       "      <td>4.0</td>\n",
       "      <td>2</td>\n",
       "      <td>0.0</td>\n",
       "      <td>0.0</td>\n",
       "      <td>0.0</td>\n",
       "      <td>...</td>\n",
       "      <td>8702</td>\n",
       "      <td>8711.0</td>\n",
       "      <td>9.0</td>\n",
       "      <td>6.812500</td>\n",
       "      <td>172556</td>\n",
       "      <td>0</td>\n",
       "      <td>0.0</td>\n",
       "      <td>1</td>\n",
       "      <td>4</td>\n",
       "      <td>41.0</td>\n",
       "    </tr>\n",
       "    <tr>\n",
       "      <th>4</th>\n",
       "      <td>8601</td>\n",
       "      <td>0</td>\n",
       "      <td>2001</td>\n",
       "      <td>78.0</td>\n",
       "      <td>3.0</td>\n",
       "      <td>2.0</td>\n",
       "      <td>60</td>\n",
       "      <td>1.0</td>\n",
       "      <td>0.0</td>\n",
       "      <td>9.0</td>\n",
       "      <td>...</td>\n",
       "      <td>7903</td>\n",
       "      <td>8005.0</td>\n",
       "      <td>14.0</td>\n",
       "      <td>6.864865</td>\n",
       "      <td>7112</td>\n",
       "      <td>0</td>\n",
       "      <td>0.0</td>\n",
       "      <td>1</td>\n",
       "      <td>2</td>\n",
       "      <td>26.0</td>\n",
       "    </tr>\n",
       "  </tbody>\n",
       "</table>\n",
       "<p>5 rows × 382 columns</p>\n",
       "</div>"
      ],
      "text/plain": [
       "   ODATEDW  TCODE   DOB   AGE  INCOME  WEALTH1  HIT  MBCRAFT  MBGARDEN  \\\n",
       "0     8901      0  3712  60.0     NaN      6.0    0      NaN       NaN   \n",
       "1     9401      1  5202  46.0     6.0      9.0   16      0.0       0.0   \n",
       "2     9001      1     0   NaN     3.0      1.0    2      0.0       0.0   \n",
       "3     8701      0  2801  70.0     1.0      4.0    2      0.0       0.0   \n",
       "4     8601      0  2001  78.0     3.0      2.0   60      1.0       0.0   \n",
       "\n",
       "   MBBOOKS  ...  FISTDATE  NEXTDATE  TIMELAG    AVGGIFT  CONTROLN  TARGET_B  \\\n",
       "0      NaN  ...      8911    9003.0      4.0   7.741935     95515         0   \n",
       "1      3.0  ...      9310    9504.0     18.0  15.666667    148535         0   \n",
       "2      1.0  ...      9001    9101.0     12.0   7.481481     15078         0   \n",
       "3      0.0  ...      8702    8711.0      9.0   6.812500    172556         0   \n",
       "4      9.0  ...      7903    8005.0     14.0   6.864865      7112         0   \n",
       "\n",
       "   TARGET_D  HPHONE_D  RFA_2F  CLUSTER2  \n",
       "0       0.0         0       4      39.0  \n",
       "1       0.0         0       2       1.0  \n",
       "2       0.0         1       4      60.0  \n",
       "3       0.0         1       4      41.0  \n",
       "4       0.0         1       2      26.0  \n",
       "\n",
       "[5 rows x 382 columns]"
      ]
     },
     "execution_count": 61,
     "metadata": {},
     "output_type": "execute_result"
    }
   ],
   "source": [
    "numerical.head()"
   ]
  },
  {
   "cell_type": "code",
   "execution_count": 62,
   "id": "4851631a",
   "metadata": {},
   "outputs": [
    {
     "data": {
      "text/plain": [
       "(95412, 382)"
      ]
     },
     "execution_count": 62,
     "metadata": {},
     "output_type": "execute_result"
    }
   ],
   "source": [
    "numerical.shape"
   ]
  },
  {
   "cell_type": "markdown",
   "id": "337da5e6",
   "metadata": {},
   "source": [
    "#### Cleaning all NaNs in categorical and numerical data"
   ]
  },
  {
   "cell_type": "code",
   "execution_count": 63,
   "id": "5fa02b73",
   "metadata": {},
   "outputs": [
    {
     "data": {
      "text/plain": [
       "STATE           0\n",
       "MAILCODE        0\n",
       "NOEXCH          7\n",
       "MDMAUD          0\n",
       "DOMAIN       2316\n",
       "CLUSTER      2316\n",
       "AGEFLAG     29548\n",
       "HOMEOWNR    22228\n",
       "GENDER          0\n",
       "DATASRCE    21280\n",
       "GEOCODE     80168\n",
       "PETS        81086\n",
       "LIFESRC     54032\n",
       "PEPSTRFL    50143\n",
       "RFA_2           0\n",
       "RFA_3        1950\n",
       "RFA_4        2312\n",
       "RFA_5       33590\n",
       "RFA_6        3557\n",
       "RFA_7        8874\n",
       "RFA_8        3511\n",
       "RFA_9       11245\n",
       "RFA_10      32748\n",
       "RFA_11      10422\n",
       "RFA_12       8923\n",
       "RFA_13      40219\n",
       "RFA_14      18867\n",
       "RFA_15      65477\n",
       "RFA_16      20417\n",
       "RFA_17      27650\n",
       "RFA_18      21263\n",
       "RFA_19      24492\n",
       "RFA_20      50200\n",
       "RFA_21      35212\n",
       "RFA_22      25648\n",
       "RFA_23      56274\n",
       "RFA_24      36973\n",
       "RFA_2R          0\n",
       "RFA_2A          0\n",
       "MDMAUD_R        0\n",
       "MDMAUD_F        0\n",
       "MDMAUD_A        0\n",
       "GEOCODE2        0\n",
       "dtype: int64"
      ]
     },
     "execution_count": 63,
     "metadata": {},
     "output_type": "execute_result"
    }
   ],
   "source": [
    "categorical.isna().sum()"
   ]
  },
  {
   "cell_type": "markdown",
   "id": "d3b68f44",
   "metadata": {},
   "source": [
    "##### column NOEXCH"
   ]
  },
  {
   "cell_type": "code",
   "execution_count": 64,
   "id": "3da5fd09",
   "metadata": {},
   "outputs": [
    {
     "data": {
      "text/plain": [
       "0      61203\n",
       "0      33882\n",
       "1        195\n",
       "1         90\n",
       "X         35\n",
       "NaN        7\n",
       "Name: NOEXCH, dtype: int64"
      ]
     },
     "execution_count": 64,
     "metadata": {},
     "output_type": "execute_result"
    }
   ],
   "source": [
    "categorical.NOEXCH.value_counts(dropna=False)"
   ]
  },
  {
   "cell_type": "code",
   "execution_count": 65,
   "id": "a38fcf92",
   "metadata": {},
   "outputs": [
    {
     "data": {
      "text/plain": [
       "Index(['0', 0, '1', 1, 'X', nan], dtype='object')"
      ]
     },
     "execution_count": 65,
     "metadata": {},
     "output_type": "execute_result"
    }
   ],
   "source": [
    "categorical.NOEXCH.value_counts(dropna=False).index"
   ]
  },
  {
   "cell_type": "code",
   "execution_count": 66,
   "id": "d94ffc78",
   "metadata": {},
   "outputs": [],
   "source": [
    "# Fill NaNs with the most frequent value, which is '0'\n",
    "categorical['NOEXCH'] = categorical['NOEXCH'].fillna('0')"
   ]
  },
  {
   "cell_type": "code",
   "execution_count": 67,
   "id": "d24c5a5b",
   "metadata": {},
   "outputs": [
    {
     "data": {
      "text/plain": [
       "0    61210\n",
       "0    33882\n",
       "1      195\n",
       "1       90\n",
       "X       35\n",
       "Name: NOEXCH, dtype: int64"
      ]
     },
     "execution_count": 67,
     "metadata": {},
     "output_type": "execute_result"
    }
   ],
   "source": [
    "categorical.NOEXCH.value_counts(dropna=False)"
   ]
  },
  {
   "cell_type": "markdown",
   "id": "a9fa5ed9",
   "metadata": {},
   "source": [
    "##### column DOMAIN"
   ]
  },
  {
   "cell_type": "code",
   "execution_count": 68,
   "id": "12c0872a",
   "metadata": {},
   "outputs": [
    {
     "data": {
      "text/plain": [
       "R2     13623\n",
       "T2     12369\n",
       "S1     11503\n",
       "S2      8530\n",
       "C2      8264\n",
       "C1      6145\n",
       "C3      5280\n",
       "T1      4982\n",
       "R3      4809\n",
       "U1      4510\n",
       "U2      3254\n",
       "U3      2598\n",
       "NaN     2316\n",
       "T3      2176\n",
       "S3      1891\n",
       "U4      1804\n",
       "R1      1358\n",
       "Name: DOMAIN, dtype: int64"
      ]
     },
     "execution_count": 68,
     "metadata": {},
     "output_type": "execute_result"
    }
   ],
   "source": [
    "categorical.DOMAIN.value_counts(dropna=False)"
   ]
  },
  {
   "cell_type": "code",
   "execution_count": 69,
   "id": "91642e28",
   "metadata": {},
   "outputs": [],
   "source": [
    "# Fill NaNs with the most frequent one\n",
    "categorical['DOMAIN'] = categorical['DOMAIN'].fillna('R2')"
   ]
  },
  {
   "cell_type": "code",
   "execution_count": 70,
   "id": "39e30505",
   "metadata": {},
   "outputs": [],
   "source": [
    "#Split Domain column in DOMAIN A and DOMAIN B and drop original DOMAIN column\n",
    "categorical['DOMAIN_A'] = list(map(lambda x: x[0], categorical['DOMAIN']))\n",
    "categorical['DOMAIN_B'] = list(map(lambda x: x[1], categorical['DOMAIN']))\n",
    "categorical = categorical.drop(columns=['DOMAIN'])"
   ]
  },
  {
   "cell_type": "markdown",
   "id": "39445d75",
   "metadata": {},
   "source": [
    "##### column CLUSTER"
   ]
  },
  {
   "cell_type": "code",
   "execution_count": 71,
   "id": "f7f7d1e3",
   "metadata": {},
   "outputs": [
    {
     "data": {
      "text/plain": [
       "40     3979\n",
       "35     3624\n",
       "36     3617\n",
       "27     3553\n",
       "24     3539\n",
       "49     3315\n",
       "12     3000\n",
       "18     2897\n",
       "13     2706\n",
       "30     2607\n",
       "39     2601\n",
       "45     2515\n",
       "43     2385\n",
       "11     2378\n",
       "51     2322\n",
       "NaN    2316\n",
       "14     2246\n",
       "41     2176\n",
       "44     1953\n",
       "16     1947\n",
       "2      1942\n",
       "21     1891\n",
       "8      1828\n",
       "10     1804\n",
       "46     1800\n",
       "28     1630\n",
       "17     1621\n",
       "20     1568\n",
       "53     1441\n",
       "3      1428\n",
       "34     1358\n",
       "42     1358\n",
       "23     1324\n",
       "31     1285\n",
       "22     1282\n",
       "25     1275\n",
       "38     1200\n",
       "15     1173\n",
       "1      1140\n",
       "7      1076\n",
       "5      1014\n",
       "37      972\n",
       "26      947\n",
       "47      868\n",
       "29      859\n",
       "32      795\n",
       "48      787\n",
       "50      776\n",
       "9       770\n",
       "6       603\n",
       "33      593\n",
       "4       561\n",
       "19      497\n",
       "52      270\n",
       "Name: CLUSTER, dtype: int64"
      ]
     },
     "execution_count": 71,
     "metadata": {},
     "output_type": "execute_result"
    }
   ],
   "source": [
    "categorical.CLUSTER.value_counts(dropna=False)"
   ]
  },
  {
   "cell_type": "code",
   "execution_count": 72,
   "id": "aa898cc2",
   "metadata": {},
   "outputs": [],
   "source": [
    "#fill NaNs with most frequent value\n",
    "categorical['CLUSTER'] = categorical['CLUSTER'].fillna('40')"
   ]
  },
  {
   "cell_type": "code",
   "execution_count": 73,
   "id": "e6c45d96",
   "metadata": {},
   "outputs": [
    {
     "data": {
      "text/plain": [
       "40    6295\n",
       "35    3624\n",
       "36    3617\n",
       "27    3553\n",
       "24    3539\n",
       "49    3315\n",
       "12    3000\n",
       "18    2897\n",
       "13    2706\n",
       "30    2607\n",
       "39    2601\n",
       "45    2515\n",
       "43    2385\n",
       "11    2378\n",
       "51    2322\n",
       "14    2246\n",
       "41    2176\n",
       "44    1953\n",
       "16    1947\n",
       "2     1942\n",
       "21    1891\n",
       "8     1828\n",
       "10    1804\n",
       "46    1800\n",
       "28    1630\n",
       "17    1621\n",
       "20    1568\n",
       "53    1441\n",
       "3     1428\n",
       "34    1358\n",
       "42    1358\n",
       "23    1324\n",
       "31    1285\n",
       "22    1282\n",
       "25    1275\n",
       "38    1200\n",
       "15    1173\n",
       "1     1140\n",
       "7     1076\n",
       "5     1014\n",
       "37     972\n",
       "26     947\n",
       "47     868\n",
       "29     859\n",
       "32     795\n",
       "48     787\n",
       "50     776\n",
       "9      770\n",
       "6      603\n",
       "33     593\n",
       "4      561\n",
       "19     497\n",
       "52     270\n",
       "Name: CLUSTER, dtype: int64"
      ]
     },
     "execution_count": 73,
     "metadata": {},
     "output_type": "execute_result"
    }
   ],
   "source": [
    "categorical.CLUSTER.value_counts(dropna=False)"
   ]
  },
  {
   "cell_type": "markdown",
   "id": "9552cccd",
   "metadata": {},
   "source": [
    "##### column AGEFLAG"
   ]
  },
  {
   "cell_type": "code",
   "execution_count": 74,
   "id": "d4fd6445",
   "metadata": {},
   "outputs": [
    {
     "data": {
      "text/plain": [
       "E      57344\n",
       "NaN    29548\n",
       "I       8520\n",
       "Name: AGEFLAG, dtype: int64"
      ]
     },
     "execution_count": 74,
     "metadata": {},
     "output_type": "execute_result"
    }
   ],
   "source": [
    "categorical.AGEFLAG.value_counts(dropna=False)"
   ]
  },
  {
   "cell_type": "code",
   "execution_count": 75,
   "id": "31b8df7b",
   "metadata": {},
   "outputs": [],
   "source": [
    "#We have already an age column in the numericals, this column does not give as additional information, so will be dropped\n",
    "categorical = categorical.drop(columns=['AGEFLAG'])"
   ]
  },
  {
   "cell_type": "markdown",
   "id": "6879e587",
   "metadata": {},
   "source": [
    "##### column HOMEOWNR"
   ]
  },
  {
   "cell_type": "code",
   "execution_count": 76,
   "id": "1810925a",
   "metadata": {},
   "outputs": [
    {
     "data": {
      "text/plain": [
       "H      52354\n",
       "NaN    22228\n",
       "U      20830\n",
       "Name: HOMEOWNR, dtype: int64"
      ]
     },
     "execution_count": 76,
     "metadata": {},
     "output_type": "execute_result"
    }
   ],
   "source": [
    "categorical.HOMEOWNR.value_counts(dropna=False)"
   ]
  },
  {
   "cell_type": "code",
   "execution_count": 77,
   "id": "df5b4455",
   "metadata": {},
   "outputs": [],
   "source": [
    "#NaNs will be filled with U for Unknown\n",
    "categorical['HOMEOWNR'] = categorical['HOMEOWNR'].fillna('U')"
   ]
  },
  {
   "cell_type": "code",
   "execution_count": 78,
   "id": "6ff5a405",
   "metadata": {},
   "outputs": [
    {
     "data": {
      "text/plain": [
       "H    52354\n",
       "U    43058\n",
       "Name: HOMEOWNR, dtype: int64"
      ]
     },
     "execution_count": 78,
     "metadata": {},
     "output_type": "execute_result"
    }
   ],
   "source": [
    "categorical.HOMEOWNR.value_counts(dropna=False)"
   ]
  },
  {
   "cell_type": "markdown",
   "id": "72259084",
   "metadata": {},
   "source": [
    "##### column DATASRCE"
   ]
  },
  {
   "cell_type": "code",
   "execution_count": 79,
   "id": "d74be917",
   "metadata": {},
   "outputs": [
    {
     "data": {
      "text/plain": [
       "3      43549\n",
       "2      23455\n",
       "NaN    21280\n",
       "1       7128\n",
       "Name: DATASRCE, dtype: int64"
      ]
     },
     "execution_count": 79,
     "metadata": {},
     "output_type": "execute_result"
    }
   ],
   "source": [
    "categorical.DATASRCE.value_counts(dropna=False)"
   ]
  },
  {
   "cell_type": "code",
   "execution_count": 80,
   "id": "b90d5cde",
   "metadata": {},
   "outputs": [],
   "source": [
    "#Fill NaNs with a 0 (meaning does not belong to 1,2 or 3)\n",
    "categorical['DATASRCE'] = categorical['DATASRCE'].fillna('0')"
   ]
  },
  {
   "cell_type": "code",
   "execution_count": 81,
   "id": "e399d00a",
   "metadata": {},
   "outputs": [
    {
     "data": {
      "text/plain": [
       "3    43549\n",
       "2    23455\n",
       "0    21280\n",
       "1     7128\n",
       "Name: DATASRCE, dtype: int64"
      ]
     },
     "execution_count": 81,
     "metadata": {},
     "output_type": "execute_result"
    }
   ],
   "source": [
    "categorical.DATASRCE.value_counts(dropna=False)"
   ]
  },
  {
   "cell_type": "markdown",
   "id": "a57df465",
   "metadata": {},
   "source": [
    "##### column GEOCODE"
   ]
  },
  {
   "cell_type": "code",
   "execution_count": 82,
   "id": "da73c469",
   "metadata": {},
   "outputs": [
    {
     "data": {
      "text/plain": [
       "NaN    80168\n",
       "12      3914\n",
       "3       3327\n",
       "14      2017\n",
       "5       1918\n",
       "4       1622\n",
       "2       1408\n",
       "1       1038\n",
       "Name: GEOCODE, dtype: int64"
      ]
     },
     "execution_count": 82,
     "metadata": {},
     "output_type": "execute_result"
    }
   ],
   "source": [
    "categorical.GEOCODE.value_counts(dropna=False)"
   ]
  },
  {
   "cell_type": "code",
   "execution_count": 83,
   "id": "97fb8cd0",
   "metadata": {},
   "outputs": [],
   "source": [
    "#we have GEOCODE2 already, so GEOCODE will be dropped\n",
    "categorical = categorical.drop(columns=['GEOCODE'])"
   ]
  },
  {
   "cell_type": "markdown",
   "id": "fa1a6792",
   "metadata": {},
   "source": [
    "##### column PETS"
   ]
  },
  {
   "cell_type": "code",
   "execution_count": 84,
   "id": "70b2403f",
   "metadata": {},
   "outputs": [
    {
     "data": {
      "text/plain": [
       "NaN    81086\n",
       "Y      14326\n",
       "Name: PETS, dtype: int64"
      ]
     },
     "execution_count": 84,
     "metadata": {},
     "output_type": "execute_result"
    }
   ],
   "source": [
    "categorical.PETS.value_counts(dropna=False)"
   ]
  },
  {
   "cell_type": "code",
   "execution_count": 85,
   "id": "66f4e610",
   "metadata": {},
   "outputs": [],
   "source": [
    "#would assume that the NaNs are supposed to be a N for No\n",
    "categorical['PETS'] = categorical['PETS'].fillna('N')"
   ]
  },
  {
   "cell_type": "markdown",
   "id": "d109e138",
   "metadata": {},
   "source": [
    "##### column LIFESRC"
   ]
  },
  {
   "cell_type": "code",
   "execution_count": 86,
   "id": "d5903c1b",
   "metadata": {},
   "outputs": [
    {
     "data": {
      "text/plain": [
       "NaN    54032\n",
       "2      20027\n",
       "3      11479\n",
       "1       9874\n",
       "Name: LIFESRC, dtype: int64"
      ]
     },
     "execution_count": 86,
     "metadata": {},
     "output_type": "execute_result"
    }
   ],
   "source": [
    "categorical.LIFESRC.value_counts(dropna=False)"
   ]
  },
  {
   "cell_type": "code",
   "execution_count": 87,
   "id": "31be8f00",
   "metadata": {},
   "outputs": [],
   "source": [
    "#fill NaNs with 0\n",
    "categorical['LIFESRC'] = categorical['LIFESRC'].fillna('0')"
   ]
  },
  {
   "cell_type": "code",
   "execution_count": 88,
   "id": "0be1fd6b",
   "metadata": {},
   "outputs": [
    {
     "data": {
      "text/plain": [
       "0    54032\n",
       "2    20027\n",
       "3    11479\n",
       "1     9874\n",
       "Name: LIFESRC, dtype: int64"
      ]
     },
     "execution_count": 88,
     "metadata": {},
     "output_type": "execute_result"
    }
   ],
   "source": [
    "categorical.LIFESRC.value_counts(dropna=False)"
   ]
  },
  {
   "cell_type": "markdown",
   "id": "d7b5f16c",
   "metadata": {},
   "source": [
    "##### column PEPSTRFL"
   ]
  },
  {
   "cell_type": "code",
   "execution_count": 89,
   "id": "5c595baf",
   "metadata": {},
   "outputs": [
    {
     "data": {
      "text/plain": [
       "NaN    50143\n",
       "X      45269\n",
       "Name: PEPSTRFL, dtype: int64"
      ]
     },
     "execution_count": 89,
     "metadata": {},
     "output_type": "execute_result"
    }
   ],
   "source": [
    "categorical.PEPSTRFL.value_counts(dropna=False)"
   ]
  },
  {
   "cell_type": "code",
   "execution_count": 90,
   "id": "fa81d5a3",
   "metadata": {},
   "outputs": [],
   "source": [
    "#fill NaN with No\n",
    "categorical['PEPSTRFL'] = categorical['PEPSTRFL'].fillna('No')"
   ]
  },
  {
   "cell_type": "markdown",
   "id": "620c6b24",
   "metadata": {},
   "source": [
    "##### RFA columns"
   ]
  },
  {
   "cell_type": "code",
   "execution_count": 91,
   "id": "e6f4fe9e",
   "metadata": {},
   "outputs": [
    {
     "data": {
      "text/plain": [
       "['RFA_2',\n",
       " 'RFA_3',\n",
       " 'RFA_4',\n",
       " 'RFA_5',\n",
       " 'RFA_6',\n",
       " 'RFA_7',\n",
       " 'RFA_8',\n",
       " 'RFA_9',\n",
       " 'RFA_10',\n",
       " 'RFA_11',\n",
       " 'RFA_12',\n",
       " 'RFA_13',\n",
       " 'RFA_14',\n",
       " 'RFA_15',\n",
       " 'RFA_16',\n",
       " 'RFA_17',\n",
       " 'RFA_18',\n",
       " 'RFA_19',\n",
       " 'RFA_20',\n",
       " 'RFA_21',\n",
       " 'RFA_22',\n",
       " 'RFA_23',\n",
       " 'RFA_24']"
      ]
     },
     "execution_count": 91,
     "metadata": {},
     "output_type": "execute_result"
    }
   ],
   "source": [
    "#just keep RFA_2R and RFA_2A, remove all others\n",
    "drop_list = []\n",
    "for col_name in categorical.columns:\n",
    "    if \"RFA\" in col_name:\n",
    "        drop_list.append(col_name)\n",
    "drop_list.remove('RFA_2R')\n",
    "drop_list.remove('RFA_2A')\n",
    "drop_list"
   ]
  },
  {
   "cell_type": "code",
   "execution_count": 92,
   "id": "b13a2cf0",
   "metadata": {},
   "outputs": [],
   "source": [
    "categorical = categorical.drop(columns=drop_list)"
   ]
  },
  {
   "cell_type": "code",
   "execution_count": 93,
   "id": "8e7b2187",
   "metadata": {},
   "outputs": [
    {
     "data": {
      "text/plain": [
       "STATE       0\n",
       "MAILCODE    0\n",
       "NOEXCH      0\n",
       "MDMAUD      0\n",
       "CLUSTER     0\n",
       "HOMEOWNR    0\n",
       "GENDER      0\n",
       "DATASRCE    0\n",
       "PETS        0\n",
       "LIFESRC     0\n",
       "PEPSTRFL    0\n",
       "RFA_2R      0\n",
       "RFA_2A      0\n",
       "MDMAUD_R    0\n",
       "MDMAUD_F    0\n",
       "MDMAUD_A    0\n",
       "GEOCODE2    0\n",
       "DOMAIN_A    0\n",
       "DOMAIN_B    0\n",
       "dtype: int64"
      ]
     },
     "execution_count": 93,
     "metadata": {},
     "output_type": "execute_result"
    }
   ],
   "source": [
    "categorical.isna().sum()"
   ]
  },
  {
   "cell_type": "markdown",
   "id": "17bb8328",
   "metadata": {},
   "source": [
    "##### Before going to numericals, try to reduce number of categories"
   ]
  },
  {
   "cell_type": "code",
   "execution_count": 94,
   "id": "6f70d0dc",
   "metadata": {},
   "outputs": [
    {
     "data": {
      "text/html": [
       "<div>\n",
       "<style scoped>\n",
       "    .dataframe tbody tr th:only-of-type {\n",
       "        vertical-align: middle;\n",
       "    }\n",
       "\n",
       "    .dataframe tbody tr th {\n",
       "        vertical-align: top;\n",
       "    }\n",
       "\n",
       "    .dataframe thead th {\n",
       "        text-align: right;\n",
       "    }\n",
       "</style>\n",
       "<table border=\"1\" class=\"dataframe\">\n",
       "  <thead>\n",
       "    <tr style=\"text-align: right;\">\n",
       "      <th></th>\n",
       "      <th>index</th>\n",
       "      <th>STATE</th>\n",
       "    </tr>\n",
       "  </thead>\n",
       "  <tbody>\n",
       "    <tr>\n",
       "      <th>0</th>\n",
       "      <td>CA</td>\n",
       "      <td>17343</td>\n",
       "    </tr>\n",
       "    <tr>\n",
       "      <th>1</th>\n",
       "      <td>FL</td>\n",
       "      <td>8376</td>\n",
       "    </tr>\n",
       "    <tr>\n",
       "      <th>2</th>\n",
       "      <td>TX</td>\n",
       "      <td>7535</td>\n",
       "    </tr>\n",
       "    <tr>\n",
       "      <th>3</th>\n",
       "      <td>IL</td>\n",
       "      <td>6420</td>\n",
       "    </tr>\n",
       "    <tr>\n",
       "      <th>4</th>\n",
       "      <td>MI</td>\n",
       "      <td>5654</td>\n",
       "    </tr>\n",
       "    <tr>\n",
       "      <th>5</th>\n",
       "      <td>NC</td>\n",
       "      <td>4160</td>\n",
       "    </tr>\n",
       "    <tr>\n",
       "      <th>6</th>\n",
       "      <td>WA</td>\n",
       "      <td>3577</td>\n",
       "    </tr>\n",
       "    <tr>\n",
       "      <th>7</th>\n",
       "      <td>GA</td>\n",
       "      <td>3403</td>\n",
       "    </tr>\n",
       "    <tr>\n",
       "      <th>8</th>\n",
       "      <td>IN</td>\n",
       "      <td>2980</td>\n",
       "    </tr>\n",
       "    <tr>\n",
       "      <th>9</th>\n",
       "      <td>WI</td>\n",
       "      <td>2795</td>\n",
       "    </tr>\n",
       "    <tr>\n",
       "      <th>10</th>\n",
       "      <td>MO</td>\n",
       "      <td>2712</td>\n",
       "    </tr>\n",
       "    <tr>\n",
       "      <th>11</th>\n",
       "      <td>TN</td>\n",
       "      <td>2492</td>\n",
       "    </tr>\n",
       "    <tr>\n",
       "      <th>12</th>\n",
       "      <td>AZ</td>\n",
       "      <td>2407</td>\n",
       "    </tr>\n",
       "    <tr>\n",
       "      <th>13</th>\n",
       "      <td>OR</td>\n",
       "      <td>2183</td>\n",
       "    </tr>\n",
       "    <tr>\n",
       "      <th>14</th>\n",
       "      <td>MN</td>\n",
       "      <td>2175</td>\n",
       "    </tr>\n",
       "    <tr>\n",
       "      <th>15</th>\n",
       "      <td>CO</td>\n",
       "      <td>2032</td>\n",
       "    </tr>\n",
       "    <tr>\n",
       "      <th>16</th>\n",
       "      <td>SC</td>\n",
       "      <td>1759</td>\n",
       "    </tr>\n",
       "    <tr>\n",
       "      <th>17</th>\n",
       "      <td>AL</td>\n",
       "      <td>1705</td>\n",
       "    </tr>\n",
       "    <tr>\n",
       "      <th>18</th>\n",
       "      <td>KY</td>\n",
       "      <td>1620</td>\n",
       "    </tr>\n",
       "    <tr>\n",
       "      <th>19</th>\n",
       "      <td>OK</td>\n",
       "      <td>1617</td>\n",
       "    </tr>\n",
       "    <tr>\n",
       "      <th>20</th>\n",
       "      <td>LA</td>\n",
       "      <td>1594</td>\n",
       "    </tr>\n",
       "    <tr>\n",
       "      <th>21</th>\n",
       "      <td>KS</td>\n",
       "      <td>1294</td>\n",
       "    </tr>\n",
       "    <tr>\n",
       "      <th>22</th>\n",
       "      <td>IA</td>\n",
       "      <td>1271</td>\n",
       "    </tr>\n",
       "    <tr>\n",
       "      <th>23</th>\n",
       "      <td>AR</td>\n",
       "      <td>1020</td>\n",
       "    </tr>\n",
       "    <tr>\n",
       "      <th>24</th>\n",
       "      <td>MS</td>\n",
       "      <td>986</td>\n",
       "    </tr>\n",
       "    <tr>\n",
       "      <th>25</th>\n",
       "      <td>NV</td>\n",
       "      <td>979</td>\n",
       "    </tr>\n",
       "    <tr>\n",
       "      <th>26</th>\n",
       "      <td>NM</td>\n",
       "      <td>877</td>\n",
       "    </tr>\n",
       "    <tr>\n",
       "      <th>27</th>\n",
       "      <td>NE</td>\n",
       "      <td>754</td>\n",
       "    </tr>\n",
       "    <tr>\n",
       "      <th>28</th>\n",
       "      <td>UT</td>\n",
       "      <td>569</td>\n",
       "    </tr>\n",
       "    <tr>\n",
       "      <th>29</th>\n",
       "      <td>ID</td>\n",
       "      <td>533</td>\n",
       "    </tr>\n",
       "    <tr>\n",
       "      <th>30</th>\n",
       "      <td>MT</td>\n",
       "      <td>527</td>\n",
       "    </tr>\n",
       "    <tr>\n",
       "      <th>31</th>\n",
       "      <td>HI</td>\n",
       "      <td>449</td>\n",
       "    </tr>\n",
       "    <tr>\n",
       "      <th>32</th>\n",
       "      <td>SD</td>\n",
       "      <td>301</td>\n",
       "    </tr>\n",
       "    <tr>\n",
       "      <th>33</th>\n",
       "      <td>WY</td>\n",
       "      <td>283</td>\n",
       "    </tr>\n",
       "    <tr>\n",
       "      <th>34</th>\n",
       "      <td>AK</td>\n",
       "      <td>282</td>\n",
       "    </tr>\n",
       "    <tr>\n",
       "      <th>35</th>\n",
       "      <td>ND</td>\n",
       "      <td>260</td>\n",
       "    </tr>\n",
       "    <tr>\n",
       "      <th>36</th>\n",
       "      <td>AP</td>\n",
       "      <td>81</td>\n",
       "    </tr>\n",
       "    <tr>\n",
       "      <th>37</th>\n",
       "      <td>NY</td>\n",
       "      <td>71</td>\n",
       "    </tr>\n",
       "    <tr>\n",
       "      <th>38</th>\n",
       "      <td>VA</td>\n",
       "      <td>55</td>\n",
       "    </tr>\n",
       "    <tr>\n",
       "      <th>39</th>\n",
       "      <td>OH</td>\n",
       "      <td>52</td>\n",
       "    </tr>\n",
       "    <tr>\n",
       "      <th>40</th>\n",
       "      <td>PA</td>\n",
       "      <td>38</td>\n",
       "    </tr>\n",
       "    <tr>\n",
       "      <th>41</th>\n",
       "      <td>MD</td>\n",
       "      <td>34</td>\n",
       "    </tr>\n",
       "    <tr>\n",
       "      <th>42</th>\n",
       "      <td>NJ</td>\n",
       "      <td>26</td>\n",
       "    </tr>\n",
       "    <tr>\n",
       "      <th>43</th>\n",
       "      <td>MA</td>\n",
       "      <td>25</td>\n",
       "    </tr>\n",
       "    <tr>\n",
       "      <th>44</th>\n",
       "      <td>CT</td>\n",
       "      <td>23</td>\n",
       "    </tr>\n",
       "    <tr>\n",
       "      <th>45</th>\n",
       "      <td>AA</td>\n",
       "      <td>18</td>\n",
       "    </tr>\n",
       "    <tr>\n",
       "      <th>46</th>\n",
       "      <td>AE</td>\n",
       "      <td>15</td>\n",
       "    </tr>\n",
       "    <tr>\n",
       "      <th>47</th>\n",
       "      <td>ME</td>\n",
       "      <td>11</td>\n",
       "    </tr>\n",
       "    <tr>\n",
       "      <th>48</th>\n",
       "      <td>NH</td>\n",
       "      <td>8</td>\n",
       "    </tr>\n",
       "    <tr>\n",
       "      <th>49</th>\n",
       "      <td>VT</td>\n",
       "      <td>7</td>\n",
       "    </tr>\n",
       "    <tr>\n",
       "      <th>50</th>\n",
       "      <td>RI</td>\n",
       "      <td>6</td>\n",
       "    </tr>\n",
       "    <tr>\n",
       "      <th>51</th>\n",
       "      <td>VI</td>\n",
       "      <td>5</td>\n",
       "    </tr>\n",
       "    <tr>\n",
       "      <th>52</th>\n",
       "      <td>WV</td>\n",
       "      <td>4</td>\n",
       "    </tr>\n",
       "    <tr>\n",
       "      <th>53</th>\n",
       "      <td>GU</td>\n",
       "      <td>4</td>\n",
       "    </tr>\n",
       "    <tr>\n",
       "      <th>54</th>\n",
       "      <td>DE</td>\n",
       "      <td>3</td>\n",
       "    </tr>\n",
       "    <tr>\n",
       "      <th>55</th>\n",
       "      <td>DC</td>\n",
       "      <td>1</td>\n",
       "    </tr>\n",
       "    <tr>\n",
       "      <th>56</th>\n",
       "      <td>AS</td>\n",
       "      <td>1</td>\n",
       "    </tr>\n",
       "  </tbody>\n",
       "</table>\n",
       "</div>"
      ],
      "text/plain": [
       "   index  STATE\n",
       "0     CA  17343\n",
       "1     FL   8376\n",
       "2     TX   7535\n",
       "3     IL   6420\n",
       "4     MI   5654\n",
       "5     NC   4160\n",
       "6     WA   3577\n",
       "7     GA   3403\n",
       "8     IN   2980\n",
       "9     WI   2795\n",
       "10    MO   2712\n",
       "11    TN   2492\n",
       "12    AZ   2407\n",
       "13    OR   2183\n",
       "14    MN   2175\n",
       "15    CO   2032\n",
       "16    SC   1759\n",
       "17    AL   1705\n",
       "18    KY   1620\n",
       "19    OK   1617\n",
       "20    LA   1594\n",
       "21    KS   1294\n",
       "22    IA   1271\n",
       "23    AR   1020\n",
       "24    MS    986\n",
       "25    NV    979\n",
       "26    NM    877\n",
       "27    NE    754\n",
       "28    UT    569\n",
       "29    ID    533\n",
       "30    MT    527\n",
       "31    HI    449\n",
       "32    SD    301\n",
       "33    WY    283\n",
       "34    AK    282\n",
       "35    ND    260\n",
       "36    AP     81\n",
       "37    NY     71\n",
       "38    VA     55\n",
       "39    OH     52\n",
       "40    PA     38\n",
       "41    MD     34\n",
       "42    NJ     26\n",
       "43    MA     25\n",
       "44    CT     23\n",
       "45    AA     18\n",
       "46    AE     15\n",
       "47    ME     11\n",
       "48    NH      8\n",
       "49    VT      7\n",
       "50    RI      6\n",
       "51    VI      5\n",
       "52    WV      4\n",
       "53    GU      4\n",
       "54    DE      3\n",
       "55    DC      1\n",
       "56    AS      1"
      ]
     },
     "execution_count": 94,
     "metadata": {},
     "output_type": "execute_result"
    }
   ],
   "source": [
    "pd.DataFrame(categorical['STATE'].value_counts()).reset_index()"
   ]
  },
  {
   "cell_type": "code",
   "execution_count": 95,
   "id": "c32a1f86",
   "metadata": {},
   "outputs": [],
   "source": [
    "# will group all states below a count of 2500 as other\n",
    "df = pd.DataFrame(categorical['STATE'].value_counts()).reset_index()\n",
    "\n",
    "df.columns = ['state', 'count']\n",
    "other_states = list(df[df['count']<2500]['state'])\n",
    "#other_states\n",
    "def clean_state(x):\n",
    "    if x in other_states:\n",
    "        return 'other'\n",
    "    else:\n",
    "        return x\n",
    "    \n",
    "categorical['STATE'] = list(map(clean_state, categorical['STATE']))"
   ]
  },
  {
   "cell_type": "code",
   "execution_count": 96,
   "id": "9cfc5cb6",
   "metadata": {},
   "outputs": [
    {
     "data": {
      "text/plain": [
       "other    30457\n",
       "CA       17343\n",
       "FL        8376\n",
       "TX        7535\n",
       "IL        6420\n",
       "MI        5654\n",
       "NC        4160\n",
       "WA        3577\n",
       "GA        3403\n",
       "IN        2980\n",
       "WI        2795\n",
       "MO        2712\n",
       "Name: STATE, dtype: int64"
      ]
     },
     "execution_count": 96,
     "metadata": {},
     "output_type": "execute_result"
    }
   ],
   "source": [
    "categorical['STATE'].value_counts()"
   ]
  },
  {
   "cell_type": "code",
   "execution_count": 97,
   "id": "11aea105",
   "metadata": {},
   "outputs": [
    {
     "data": {
      "text/plain": [
       "XXXX    95118\n",
       "C1CM       65\n",
       "L1CM       44\n",
       "I1CM       37\n",
       "D2CM       28\n",
       "C2CM       24\n",
       "D1CM       20\n",
       "L2CM       15\n",
       "L1LM        8\n",
       "C1LM        8\n",
       "I2CM        7\n",
       "D5CM        5\n",
       "D5MM        5\n",
       "D2MM        4\n",
       "C5CM        3\n",
       "C2MM        3\n",
       "C2LM        3\n",
       "D5TM        3\n",
       "I1LM        3\n",
       "I5CM        1\n",
       "C1MM        1\n",
       "I5MM        1\n",
       "C5MM        1\n",
       "I2MM        1\n",
       "L1MM        1\n",
       "L2LM        1\n",
       "C5TM        1\n",
       "L2TM        1\n",
       "Name: MDMAUD, dtype: int64"
      ]
     },
     "execution_count": 97,
     "metadata": {},
     "output_type": "execute_result"
    }
   ],
   "source": [
    "categorical.MDMAUD.value_counts(dropna=False)"
   ]
  },
  {
   "cell_type": "code",
   "execution_count": 98,
   "id": "752fd6dd",
   "metadata": {},
   "outputs": [],
   "source": [
    "#will drop column MDMAUD, because we already split that up in MDMAUD_R, MDMAUD_F and MDMAUD_A \n",
    "categorical = categorical.drop(columns=['MDMAUD'])"
   ]
  },
  {
   "cell_type": "code",
   "execution_count": 99,
   "id": "cab50903",
   "metadata": {},
   "outputs": [],
   "source": [
    "# The other MDMAUD columns also have much more X than actual values and will be dropped\n",
    "# and CLUSTER will be dropped, since we already have CLUSTER2 in numericals\n",
    "categorical = categorical.drop(columns=['MDMAUD_R', 'MDMAUD_F', 'MDMAUD_A'])"
   ]
  },
  {
   "cell_type": "code",
   "execution_count": 100,
   "id": "b0ec4997",
   "metadata": {},
   "outputs": [],
   "source": [
    "# and CLUSTER will be dropped, since we already have CLUSTER2 in numericals\n",
    "categorical = categorical.drop(columns=['CLUSTER'])"
   ]
  },
  {
   "cell_type": "code",
   "execution_count": 101,
   "id": "604b165a",
   "metadata": {},
   "outputs": [
    {
     "data": {
      "text/plain": [
       "STATE       0\n",
       "MAILCODE    0\n",
       "NOEXCH      0\n",
       "HOMEOWNR    0\n",
       "GENDER      0\n",
       "DATASRCE    0\n",
       "PETS        0\n",
       "LIFESRC     0\n",
       "PEPSTRFL    0\n",
       "RFA_2R      0\n",
       "RFA_2A      0\n",
       "GEOCODE2    0\n",
       "DOMAIN_A    0\n",
       "DOMAIN_B    0\n",
       "dtype: int64"
      ]
     },
     "execution_count": 101,
     "metadata": {},
     "output_type": "execute_result"
    }
   ],
   "source": [
    "categorical.isna().sum()"
   ]
  },
  {
   "cell_type": "markdown",
   "id": "357ef726",
   "metadata": {},
   "source": [
    "#### Dealing with the rest of NaNs in numerical data"
   ]
  },
  {
   "cell_type": "code",
   "execution_count": 102,
   "id": "d4b8d65f",
   "metadata": {},
   "outputs": [
    {
     "data": {
      "text/plain": [
       "(95412, 382)"
      ]
     },
     "execution_count": 102,
     "metadata": {},
     "output_type": "execute_result"
    }
   ],
   "source": [
    "numerical.shape"
   ]
  },
  {
   "cell_type": "code",
   "execution_count": 103,
   "id": "b8d8509e",
   "metadata": {},
   "outputs": [
    {
     "data": {
      "text/html": [
       "<div>\n",
       "<style scoped>\n",
       "    .dataframe tbody tr th:only-of-type {\n",
       "        vertical-align: middle;\n",
       "    }\n",
       "\n",
       "    .dataframe tbody tr th {\n",
       "        vertical-align: top;\n",
       "    }\n",
       "\n",
       "    .dataframe thead th {\n",
       "        text-align: right;\n",
       "    }\n",
       "</style>\n",
       "<table border=\"1\" class=\"dataframe\">\n",
       "  <thead>\n",
       "    <tr style=\"text-align: right;\">\n",
       "      <th></th>\n",
       "      <th>column_name</th>\n",
       "      <th>nulls</th>\n",
       "    </tr>\n",
       "  </thead>\n",
       "  <tbody>\n",
       "    <tr>\n",
       "      <th>3</th>\n",
       "      <td>AGE</td>\n",
       "      <td>23665</td>\n",
       "    </tr>\n",
       "    <tr>\n",
       "      <th>4</th>\n",
       "      <td>INCOME</td>\n",
       "      <td>21286</td>\n",
       "    </tr>\n",
       "    <tr>\n",
       "      <th>7</th>\n",
       "      <td>MBCRAFT</td>\n",
       "      <td>52854</td>\n",
       "    </tr>\n",
       "    <tr>\n",
       "      <th>8</th>\n",
       "      <td>MBGARDEN</td>\n",
       "      <td>52854</td>\n",
       "    </tr>\n",
       "    <tr>\n",
       "      <th>9</th>\n",
       "      <td>MBBOOKS</td>\n",
       "      <td>52854</td>\n",
       "    </tr>\n",
       "    <tr>\n",
       "      <th>10</th>\n",
       "      <td>MBCOLECT</td>\n",
       "      <td>52914</td>\n",
       "    </tr>\n",
       "    <tr>\n",
       "      <th>11</th>\n",
       "      <td>MAGFAML</td>\n",
       "      <td>52854</td>\n",
       "    </tr>\n",
       "    <tr>\n",
       "      <th>12</th>\n",
       "      <td>MAGFEM</td>\n",
       "      <td>52854</td>\n",
       "    </tr>\n",
       "    <tr>\n",
       "      <th>13</th>\n",
       "      <td>MAGMALE</td>\n",
       "      <td>52854</td>\n",
       "    </tr>\n",
       "    <tr>\n",
       "      <th>14</th>\n",
       "      <td>PUBGARDN</td>\n",
       "      <td>52854</td>\n",
       "    </tr>\n",
       "    <tr>\n",
       "      <th>15</th>\n",
       "      <td>PUBCULIN</td>\n",
       "      <td>52854</td>\n",
       "    </tr>\n",
       "    <tr>\n",
       "      <th>16</th>\n",
       "      <td>PUBHLTH</td>\n",
       "      <td>52854</td>\n",
       "    </tr>\n",
       "    <tr>\n",
       "      <th>17</th>\n",
       "      <td>PUBDOITY</td>\n",
       "      <td>52854</td>\n",
       "    </tr>\n",
       "    <tr>\n",
       "      <th>18</th>\n",
       "      <td>PUBNEWFN</td>\n",
       "      <td>52854</td>\n",
       "    </tr>\n",
       "    <tr>\n",
       "      <th>19</th>\n",
       "      <td>PUBPHOTO</td>\n",
       "      <td>52854</td>\n",
       "    </tr>\n",
       "    <tr>\n",
       "      <th>20</th>\n",
       "      <td>PUBOPP</td>\n",
       "      <td>52854</td>\n",
       "    </tr>\n",
       "    <tr>\n",
       "      <th>28</th>\n",
       "      <td>WEALTH2</td>\n",
       "      <td>43823</td>\n",
       "    </tr>\n",
       "    <tr>\n",
       "      <th>316</th>\n",
       "      <td>ADATE_3</td>\n",
       "      <td>1950</td>\n",
       "    </tr>\n",
       "    <tr>\n",
       "      <th>317</th>\n",
       "      <td>ADATE_4</td>\n",
       "      <td>2191</td>\n",
       "    </tr>\n",
       "    <tr>\n",
       "      <th>318</th>\n",
       "      <td>ADATE_5</td>\n",
       "      <td>33590</td>\n",
       "    </tr>\n",
       "    <tr>\n",
       "      <th>319</th>\n",
       "      <td>ADATE_6</td>\n",
       "      <td>3557</td>\n",
       "    </tr>\n",
       "    <tr>\n",
       "      <th>320</th>\n",
       "      <td>ADATE_7</td>\n",
       "      <td>8874</td>\n",
       "    </tr>\n",
       "    <tr>\n",
       "      <th>321</th>\n",
       "      <td>ADATE_8</td>\n",
       "      <td>3511</td>\n",
       "    </tr>\n",
       "    <tr>\n",
       "      <th>322</th>\n",
       "      <td>ADATE_9</td>\n",
       "      <td>11245</td>\n",
       "    </tr>\n",
       "    <tr>\n",
       "      <th>323</th>\n",
       "      <td>ADATE_10</td>\n",
       "      <td>32748</td>\n",
       "    </tr>\n",
       "    <tr>\n",
       "      <th>324</th>\n",
       "      <td>ADATE_11</td>\n",
       "      <td>10422</td>\n",
       "    </tr>\n",
       "    <tr>\n",
       "      <th>325</th>\n",
       "      <td>ADATE_12</td>\n",
       "      <td>8923</td>\n",
       "    </tr>\n",
       "    <tr>\n",
       "      <th>326</th>\n",
       "      <td>ADATE_13</td>\n",
       "      <td>40219</td>\n",
       "    </tr>\n",
       "    <tr>\n",
       "      <th>327</th>\n",
       "      <td>ADATE_14</td>\n",
       "      <td>18867</td>\n",
       "    </tr>\n",
       "    <tr>\n",
       "      <th>328</th>\n",
       "      <td>ADATE_15</td>\n",
       "      <td>65477</td>\n",
       "    </tr>\n",
       "    <tr>\n",
       "      <th>329</th>\n",
       "      <td>ADATE_16</td>\n",
       "      <td>20364</td>\n",
       "    </tr>\n",
       "    <tr>\n",
       "      <th>330</th>\n",
       "      <td>ADATE_17</td>\n",
       "      <td>27650</td>\n",
       "    </tr>\n",
       "    <tr>\n",
       "      <th>331</th>\n",
       "      <td>ADATE_18</td>\n",
       "      <td>21263</td>\n",
       "    </tr>\n",
       "    <tr>\n",
       "      <th>332</th>\n",
       "      <td>ADATE_19</td>\n",
       "      <td>24480</td>\n",
       "    </tr>\n",
       "    <tr>\n",
       "      <th>333</th>\n",
       "      <td>ADATE_20</td>\n",
       "      <td>50200</td>\n",
       "    </tr>\n",
       "    <tr>\n",
       "      <th>334</th>\n",
       "      <td>ADATE_21</td>\n",
       "      <td>35212</td>\n",
       "    </tr>\n",
       "    <tr>\n",
       "      <th>335</th>\n",
       "      <td>ADATE_22</td>\n",
       "      <td>25648</td>\n",
       "    </tr>\n",
       "    <tr>\n",
       "      <th>336</th>\n",
       "      <td>ADATE_23</td>\n",
       "      <td>56270</td>\n",
       "    </tr>\n",
       "    <tr>\n",
       "      <th>337</th>\n",
       "      <td>ADATE_24</td>\n",
       "      <td>36973</td>\n",
       "    </tr>\n",
       "    <tr>\n",
       "      <th>343</th>\n",
       "      <td>RDATE_8</td>\n",
       "      <td>73940</td>\n",
       "    </tr>\n",
       "    <tr>\n",
       "      <th>344</th>\n",
       "      <td>RDATE_9</td>\n",
       "      <td>78678</td>\n",
       "    </tr>\n",
       "    <tr>\n",
       "      <th>345</th>\n",
       "      <td>RDATE_11</td>\n",
       "      <td>80672</td>\n",
       "    </tr>\n",
       "    <tr>\n",
       "      <th>346</th>\n",
       "      <td>RDATE_12</td>\n",
       "      <td>69712</td>\n",
       "    </tr>\n",
       "    <tr>\n",
       "      <th>347</th>\n",
       "      <td>RDATE_14</td>\n",
       "      <td>72095</td>\n",
       "    </tr>\n",
       "    <tr>\n",
       "      <th>348</th>\n",
       "      <td>RDATE_16</td>\n",
       "      <td>68418</td>\n",
       "    </tr>\n",
       "    <tr>\n",
       "      <th>349</th>\n",
       "      <td>RDATE_18</td>\n",
       "      <td>75634</td>\n",
       "    </tr>\n",
       "    <tr>\n",
       "      <th>350</th>\n",
       "      <td>RDATE_19</td>\n",
       "      <td>79535</td>\n",
       "    </tr>\n",
       "    <tr>\n",
       "      <th>351</th>\n",
       "      <td>RDATE_22</td>\n",
       "      <td>74539</td>\n",
       "    </tr>\n",
       "    <tr>\n",
       "      <th>352</th>\n",
       "      <td>RDATE_24</td>\n",
       "      <td>77674</td>\n",
       "    </tr>\n",
       "    <tr>\n",
       "      <th>353</th>\n",
       "      <td>RAMNT_8</td>\n",
       "      <td>73940</td>\n",
       "    </tr>\n",
       "    <tr>\n",
       "      <th>354</th>\n",
       "      <td>RAMNT_9</td>\n",
       "      <td>78678</td>\n",
       "    </tr>\n",
       "    <tr>\n",
       "      <th>355</th>\n",
       "      <td>RAMNT_11</td>\n",
       "      <td>80672</td>\n",
       "    </tr>\n",
       "    <tr>\n",
       "      <th>356</th>\n",
       "      <td>RAMNT_12</td>\n",
       "      <td>69712</td>\n",
       "    </tr>\n",
       "    <tr>\n",
       "      <th>357</th>\n",
       "      <td>RAMNT_14</td>\n",
       "      <td>72095</td>\n",
       "    </tr>\n",
       "    <tr>\n",
       "      <th>358</th>\n",
       "      <td>RAMNT_16</td>\n",
       "      <td>68418</td>\n",
       "    </tr>\n",
       "    <tr>\n",
       "      <th>359</th>\n",
       "      <td>RAMNT_18</td>\n",
       "      <td>75634</td>\n",
       "    </tr>\n",
       "    <tr>\n",
       "      <th>360</th>\n",
       "      <td>RAMNT_19</td>\n",
       "      <td>79535</td>\n",
       "    </tr>\n",
       "    <tr>\n",
       "      <th>361</th>\n",
       "      <td>RAMNT_22</td>\n",
       "      <td>74539</td>\n",
       "    </tr>\n",
       "    <tr>\n",
       "      <th>362</th>\n",
       "      <td>RAMNT_24</td>\n",
       "      <td>77674</td>\n",
       "    </tr>\n",
       "    <tr>\n",
       "      <th>373</th>\n",
       "      <td>NEXTDATE</td>\n",
       "      <td>9973</td>\n",
       "    </tr>\n",
       "    <tr>\n",
       "      <th>374</th>\n",
       "      <td>TIMELAG</td>\n",
       "      <td>9973</td>\n",
       "    </tr>\n",
       "    <tr>\n",
       "      <th>381</th>\n",
       "      <td>CLUSTER2</td>\n",
       "      <td>132</td>\n",
       "    </tr>\n",
       "  </tbody>\n",
       "</table>\n",
       "</div>"
      ],
      "text/plain": [
       "    column_name  nulls\n",
       "3           AGE  23665\n",
       "4        INCOME  21286\n",
       "7       MBCRAFT  52854\n",
       "8      MBGARDEN  52854\n",
       "9       MBBOOKS  52854\n",
       "10     MBCOLECT  52914\n",
       "11      MAGFAML  52854\n",
       "12       MAGFEM  52854\n",
       "13      MAGMALE  52854\n",
       "14     PUBGARDN  52854\n",
       "15     PUBCULIN  52854\n",
       "16      PUBHLTH  52854\n",
       "17     PUBDOITY  52854\n",
       "18     PUBNEWFN  52854\n",
       "19     PUBPHOTO  52854\n",
       "20       PUBOPP  52854\n",
       "28      WEALTH2  43823\n",
       "316     ADATE_3   1950\n",
       "317     ADATE_4   2191\n",
       "318     ADATE_5  33590\n",
       "319     ADATE_6   3557\n",
       "320     ADATE_7   8874\n",
       "321     ADATE_8   3511\n",
       "322     ADATE_9  11245\n",
       "323    ADATE_10  32748\n",
       "324    ADATE_11  10422\n",
       "325    ADATE_12   8923\n",
       "326    ADATE_13  40219\n",
       "327    ADATE_14  18867\n",
       "328    ADATE_15  65477\n",
       "329    ADATE_16  20364\n",
       "330    ADATE_17  27650\n",
       "331    ADATE_18  21263\n",
       "332    ADATE_19  24480\n",
       "333    ADATE_20  50200\n",
       "334    ADATE_21  35212\n",
       "335    ADATE_22  25648\n",
       "336    ADATE_23  56270\n",
       "337    ADATE_24  36973\n",
       "343     RDATE_8  73940\n",
       "344     RDATE_9  78678\n",
       "345    RDATE_11  80672\n",
       "346    RDATE_12  69712\n",
       "347    RDATE_14  72095\n",
       "348    RDATE_16  68418\n",
       "349    RDATE_18  75634\n",
       "350    RDATE_19  79535\n",
       "351    RDATE_22  74539\n",
       "352    RDATE_24  77674\n",
       "353     RAMNT_8  73940\n",
       "354     RAMNT_9  78678\n",
       "355    RAMNT_11  80672\n",
       "356    RAMNT_12  69712\n",
       "357    RAMNT_14  72095\n",
       "358    RAMNT_16  68418\n",
       "359    RAMNT_18  75634\n",
       "360    RAMNT_19  79535\n",
       "361    RAMNT_22  74539\n",
       "362    RAMNT_24  77674\n",
       "373    NEXTDATE   9973\n",
       "374     TIMELAG   9973\n",
       "381    CLUSTER2    132"
      ]
     },
     "execution_count": 103,
     "metadata": {},
     "output_type": "execute_result"
    }
   ],
   "source": [
    "df = pd.DataFrame(numerical.isna().sum()).reset_index()\n",
    "df.columns = ['column_name', 'nulls']\n",
    "df[df['nulls']>0]"
   ]
  },
  {
   "cell_type": "code",
   "execution_count": 104,
   "id": "b92284a8",
   "metadata": {},
   "outputs": [],
   "source": [
    "#drop all ADATE columns\n",
    "drop_list = [] \n",
    "for col_name in numerical.columns:\n",
    "    if 'ADATE' in col_name:\n",
    "        drop_list.append(col_name)\n",
    "numerical = numerical.drop(columns=drop_list)"
   ]
  },
  {
   "cell_type": "code",
   "execution_count": 105,
   "id": "6374f5b2",
   "metadata": {},
   "outputs": [],
   "source": [
    "#drop all RDATE columns:\n",
    "drop_list = [] \n",
    "for col_name in numerical.columns:\n",
    "    if 'RDATE' in col_name:\n",
    "        drop_list.append(col_name)\n",
    "numerical = numerical.drop(columns=drop_list)"
   ]
  },
  {
   "cell_type": "code",
   "execution_count": 106,
   "id": "f601cc2b",
   "metadata": {},
   "outputs": [],
   "source": [
    "#drop all RAMNT columns:\n",
    "drop_list = [] \n",
    "for col_name in numerical.columns:\n",
    "    if 'RAMNT' in col_name:\n",
    "        drop_list.append(col_name)\n",
    "numerical = numerical.drop(columns=drop_list)"
   ]
  },
  {
   "cell_type": "code",
   "execution_count": 107,
   "id": "1dd3ca11",
   "metadata": {},
   "outputs": [
    {
     "data": {
      "text/html": [
       "<div>\n",
       "<style scoped>\n",
       "    .dataframe tbody tr th:only-of-type {\n",
       "        vertical-align: middle;\n",
       "    }\n",
       "\n",
       "    .dataframe tbody tr th {\n",
       "        vertical-align: top;\n",
       "    }\n",
       "\n",
       "    .dataframe thead th {\n",
       "        text-align: right;\n",
       "    }\n",
       "</style>\n",
       "<table border=\"1\" class=\"dataframe\">\n",
       "  <thead>\n",
       "    <tr style=\"text-align: right;\">\n",
       "      <th></th>\n",
       "      <th>column_name</th>\n",
       "      <th>nulls</th>\n",
       "    </tr>\n",
       "  </thead>\n",
       "  <tbody>\n",
       "    <tr>\n",
       "      <th>3</th>\n",
       "      <td>AGE</td>\n",
       "      <td>23665</td>\n",
       "    </tr>\n",
       "    <tr>\n",
       "      <th>4</th>\n",
       "      <td>INCOME</td>\n",
       "      <td>21286</td>\n",
       "    </tr>\n",
       "    <tr>\n",
       "      <th>7</th>\n",
       "      <td>MBCRAFT</td>\n",
       "      <td>52854</td>\n",
       "    </tr>\n",
       "    <tr>\n",
       "      <th>8</th>\n",
       "      <td>MBGARDEN</td>\n",
       "      <td>52854</td>\n",
       "    </tr>\n",
       "    <tr>\n",
       "      <th>9</th>\n",
       "      <td>MBBOOKS</td>\n",
       "      <td>52854</td>\n",
       "    </tr>\n",
       "    <tr>\n",
       "      <th>10</th>\n",
       "      <td>MBCOLECT</td>\n",
       "      <td>52914</td>\n",
       "    </tr>\n",
       "    <tr>\n",
       "      <th>11</th>\n",
       "      <td>MAGFAML</td>\n",
       "      <td>52854</td>\n",
       "    </tr>\n",
       "    <tr>\n",
       "      <th>12</th>\n",
       "      <td>MAGFEM</td>\n",
       "      <td>52854</td>\n",
       "    </tr>\n",
       "    <tr>\n",
       "      <th>13</th>\n",
       "      <td>MAGMALE</td>\n",
       "      <td>52854</td>\n",
       "    </tr>\n",
       "    <tr>\n",
       "      <th>14</th>\n",
       "      <td>PUBGARDN</td>\n",
       "      <td>52854</td>\n",
       "    </tr>\n",
       "    <tr>\n",
       "      <th>15</th>\n",
       "      <td>PUBCULIN</td>\n",
       "      <td>52854</td>\n",
       "    </tr>\n",
       "    <tr>\n",
       "      <th>16</th>\n",
       "      <td>PUBHLTH</td>\n",
       "      <td>52854</td>\n",
       "    </tr>\n",
       "    <tr>\n",
       "      <th>17</th>\n",
       "      <td>PUBDOITY</td>\n",
       "      <td>52854</td>\n",
       "    </tr>\n",
       "    <tr>\n",
       "      <th>18</th>\n",
       "      <td>PUBNEWFN</td>\n",
       "      <td>52854</td>\n",
       "    </tr>\n",
       "    <tr>\n",
       "      <th>19</th>\n",
       "      <td>PUBPHOTO</td>\n",
       "      <td>52854</td>\n",
       "    </tr>\n",
       "    <tr>\n",
       "      <th>20</th>\n",
       "      <td>PUBOPP</td>\n",
       "      <td>52854</td>\n",
       "    </tr>\n",
       "    <tr>\n",
       "      <th>28</th>\n",
       "      <td>WEALTH2</td>\n",
       "      <td>43823</td>\n",
       "    </tr>\n",
       "    <tr>\n",
       "      <th>324</th>\n",
       "      <td>NEXTDATE</td>\n",
       "      <td>9973</td>\n",
       "    </tr>\n",
       "    <tr>\n",
       "      <th>325</th>\n",
       "      <td>TIMELAG</td>\n",
       "      <td>9973</td>\n",
       "    </tr>\n",
       "    <tr>\n",
       "      <th>332</th>\n",
       "      <td>CLUSTER2</td>\n",
       "      <td>132</td>\n",
       "    </tr>\n",
       "  </tbody>\n",
       "</table>\n",
       "</div>"
      ],
      "text/plain": [
       "    column_name  nulls\n",
       "3           AGE  23665\n",
       "4        INCOME  21286\n",
       "7       MBCRAFT  52854\n",
       "8      MBGARDEN  52854\n",
       "9       MBBOOKS  52854\n",
       "10     MBCOLECT  52914\n",
       "11      MAGFAML  52854\n",
       "12       MAGFEM  52854\n",
       "13      MAGMALE  52854\n",
       "14     PUBGARDN  52854\n",
       "15     PUBCULIN  52854\n",
       "16      PUBHLTH  52854\n",
       "17     PUBDOITY  52854\n",
       "18     PUBNEWFN  52854\n",
       "19     PUBPHOTO  52854\n",
       "20       PUBOPP  52854\n",
       "28      WEALTH2  43823\n",
       "324    NEXTDATE   9973\n",
       "325     TIMELAG   9973\n",
       "332    CLUSTER2    132"
      ]
     },
     "execution_count": 107,
     "metadata": {},
     "output_type": "execute_result"
    }
   ],
   "source": [
    "df = pd.DataFrame(numerical.isna().sum()).reset_index()\n",
    "df.columns = ['column_name', 'nulls']\n",
    "df[df['nulls']>0]"
   ]
  },
  {
   "cell_type": "markdown",
   "id": "abed6bb3",
   "metadata": {},
   "source": [
    "##### column AGE"
   ]
  },
  {
   "cell_type": "code",
   "execution_count": 108,
   "id": "a163a4e4",
   "metadata": {},
   "outputs": [],
   "source": [
    "#numerical['AGE'].value_counts(dropna=False)"
   ]
  },
  {
   "cell_type": "code",
   "execution_count": 109,
   "id": "9834c3c1",
   "metadata": {},
   "outputs": [
    {
     "data": {
      "text/plain": [
       "61.61164926756519"
      ]
     },
     "execution_count": 109,
     "metadata": {},
     "output_type": "execute_result"
    }
   ],
   "source": [
    "np.mean(numerical['AGE'])"
   ]
  },
  {
   "cell_type": "code",
   "execution_count": 110,
   "id": "eb0fae3e",
   "metadata": {},
   "outputs": [],
   "source": [
    "#refill NaNs with mean\n",
    "numerical['AGE'] = numerical[\"AGE\"].fillna(np.mean(numerical['AGE']))"
   ]
  },
  {
   "cell_type": "markdown",
   "id": "f0e06958",
   "metadata": {},
   "source": [
    "##### column INCOME"
   ]
  },
  {
   "cell_type": "code",
   "execution_count": 111,
   "id": "d6ab901f",
   "metadata": {},
   "outputs": [
    {
     "data": {
      "text/plain": [
       "NaN    21286\n",
       "5.0    15451\n",
       "2.0    13114\n",
       "4.0    12732\n",
       "1.0     9022\n",
       "3.0     8558\n",
       "6.0     7778\n",
       "7.0     7471\n",
       "Name: INCOME, dtype: int64"
      ]
     },
     "execution_count": 111,
     "metadata": {},
     "output_type": "execute_result"
    }
   ],
   "source": [
    "numerical['INCOME'].value_counts(dropna=False)"
   ]
  },
  {
   "cell_type": "code",
   "execution_count": 112,
   "id": "1659a999",
   "metadata": {},
   "outputs": [],
   "source": [
    "#refill NaNs with most frequent value\n",
    "numerical['INCOME'] = numerical['INCOME'].fillna(5.0)"
   ]
  },
  {
   "cell_type": "code",
   "execution_count": 113,
   "id": "95896c7d",
   "metadata": {},
   "outputs": [
    {
     "data": {
      "text/plain": [
       "5.0    36737\n",
       "2.0    13114\n",
       "4.0    12732\n",
       "1.0     9022\n",
       "3.0     8558\n",
       "6.0     7778\n",
       "7.0     7471\n",
       "Name: INCOME, dtype: int64"
      ]
     },
     "execution_count": 113,
     "metadata": {},
     "output_type": "execute_result"
    }
   ],
   "source": [
    "numerical['INCOME'].value_counts(dropna=False)"
   ]
  },
  {
   "cell_type": "code",
   "execution_count": 114,
   "id": "7015b971",
   "metadata": {},
   "outputs": [],
   "source": [
    "#remove all columns MB, MAG and PUB, does not help in building the model\n",
    "drop_list = [] \n",
    "for col_name in numerical.columns:\n",
    "    if 'MB' in col_name:\n",
    "        drop_list.append(col_name)\n",
    "    elif 'MAG' in col_name:\n",
    "        drop_list.append(col_name)\n",
    "    elif 'PUB' in col_name:\n",
    "        drop_list.append(col_name)\n",
    "numerical = numerical.drop(columns=drop_list)"
   ]
  },
  {
   "cell_type": "code",
   "execution_count": 115,
   "id": "677f653b",
   "metadata": {},
   "outputs": [
    {
     "data": {
      "text/html": [
       "<div>\n",
       "<style scoped>\n",
       "    .dataframe tbody tr th:only-of-type {\n",
       "        vertical-align: middle;\n",
       "    }\n",
       "\n",
       "    .dataframe tbody tr th {\n",
       "        vertical-align: top;\n",
       "    }\n",
       "\n",
       "    .dataframe thead th {\n",
       "        text-align: right;\n",
       "    }\n",
       "</style>\n",
       "<table border=\"1\" class=\"dataframe\">\n",
       "  <thead>\n",
       "    <tr style=\"text-align: right;\">\n",
       "      <th></th>\n",
       "      <th>column_name</th>\n",
       "      <th>nulls</th>\n",
       "    </tr>\n",
       "  </thead>\n",
       "  <tbody>\n",
       "    <tr>\n",
       "      <th>14</th>\n",
       "      <td>WEALTH2</td>\n",
       "      <td>43823</td>\n",
       "    </tr>\n",
       "    <tr>\n",
       "      <th>310</th>\n",
       "      <td>NEXTDATE</td>\n",
       "      <td>9973</td>\n",
       "    </tr>\n",
       "    <tr>\n",
       "      <th>311</th>\n",
       "      <td>TIMELAG</td>\n",
       "      <td>9973</td>\n",
       "    </tr>\n",
       "    <tr>\n",
       "      <th>318</th>\n",
       "      <td>CLUSTER2</td>\n",
       "      <td>132</td>\n",
       "    </tr>\n",
       "  </tbody>\n",
       "</table>\n",
       "</div>"
      ],
      "text/plain": [
       "    column_name  nulls\n",
       "14      WEALTH2  43823\n",
       "310    NEXTDATE   9973\n",
       "311     TIMELAG   9973\n",
       "318    CLUSTER2    132"
      ]
     },
     "execution_count": 115,
     "metadata": {},
     "output_type": "execute_result"
    }
   ],
   "source": [
    "df = pd.DataFrame(numerical.isna().sum()).reset_index()\n",
    "df.columns = ['column_name', 'nulls']\n",
    "df[df['nulls']>0]"
   ]
  },
  {
   "cell_type": "markdown",
   "id": "dafd3b28",
   "metadata": {},
   "source": [
    "##### treating the rest of the columns"
   ]
  },
  {
   "cell_type": "code",
   "execution_count": 116,
   "id": "81611733",
   "metadata": {},
   "outputs": [
    {
     "data": {
      "text/plain": [
       "NaN    43823\n",
       "9.0     6523\n",
       "8.0     5975\n",
       "7.0     5684\n",
       "6.0     5497\n",
       "5.0     5351\n",
       "4.0     5074\n",
       "3.0     5046\n",
       "2.0     4971\n",
       "1.0     4191\n",
       "0.0     3277\n",
       "Name: WEALTH2, dtype: int64"
      ]
     },
     "execution_count": 116,
     "metadata": {},
     "output_type": "execute_result"
    }
   ],
   "source": [
    "numerical['WEALTH2'].value_counts(dropna=False)"
   ]
  },
  {
   "cell_type": "code",
   "execution_count": 117,
   "id": "4eb4c437",
   "metadata": {},
   "outputs": [],
   "source": [
    "#fill with mean\n",
    "numerical['WEALTH2'] = numerical['WEALTH2'].fillna(np.mean(numerical['WEALTH2']))"
   ]
  },
  {
   "cell_type": "code",
   "execution_count": 118,
   "id": "758b2adb",
   "metadata": {},
   "outputs": [],
   "source": [
    "#numerical['NEXTDATE'].value_counts(dropna=False)"
   ]
  },
  {
   "cell_type": "code",
   "execution_count": 119,
   "id": "4007c55c",
   "metadata": {},
   "outputs": [],
   "source": [
    "#fill with mean\n",
    "numerical['NEXTDATE'] = numerical['NEXTDATE'].fillna(np.mean(numerical['NEXTDATE']))"
   ]
  },
  {
   "cell_type": "code",
   "execution_count": 120,
   "id": "b192156f",
   "metadata": {},
   "outputs": [],
   "source": [
    "#numerical['TIMELAG'].value_counts(dropna=False)"
   ]
  },
  {
   "cell_type": "code",
   "execution_count": 121,
   "id": "5e720587",
   "metadata": {},
   "outputs": [],
   "source": [
    "#fill with mean\n",
    "numerical['TIMELAG'] = numerical['TIMELAG'].fillna(np.mean(numerical['TIMELAG']))"
   ]
  },
  {
   "cell_type": "code",
   "execution_count": 122,
   "id": "67350ccb",
   "metadata": {},
   "outputs": [],
   "source": [
    "#numerical['CLUSTER2'].value_counts(dropna=False)"
   ]
  },
  {
   "cell_type": "code",
   "execution_count": 123,
   "id": "878520d6",
   "metadata": {},
   "outputs": [
    {
     "name": "stderr",
     "output_type": "stream",
     "text": [
      "C:\\Users\\lisab\\anaconda3\\lib\\site-packages\\seaborn\\distributions.py:2619: FutureWarning: `distplot` is a deprecated function and will be removed in a future version. Please adapt your code to use either `displot` (a figure-level function with similar flexibility) or `histplot` (an axes-level function for histograms).\n",
      "  warnings.warn(msg, FutureWarning)\n"
     ]
    },
    {
     "data": {
      "image/png": "[encoded data removed]",
      "text/plain": [
       "<Figure size 640x480 with 1 Axes>"
      ]
     },
     "metadata": {},
     "output_type": "display_data"
    }
   ],
   "source": [
    "sns.distplot(numerical['CLUSTER2'])\n",
    "plt.show()"
   ]
  },
  {
   "cell_type": "code",
   "execution_count": 124,
   "id": "e249e32c",
   "metadata": {},
   "outputs": [
    {
     "data": {
      "text/plain": [
       "31.533711167086484"
      ]
     },
     "execution_count": 124,
     "metadata": {},
     "output_type": "execute_result"
    }
   ],
   "source": [
    "np.mean(numerical['CLUSTER2'])"
   ]
  },
  {
   "cell_type": "code",
   "execution_count": 125,
   "id": "aa4f2f00",
   "metadata": {},
   "outputs": [],
   "source": [
    "#fill with mean\n",
    "numerical['CLUSTER2'] = numerical['CLUSTER2'].fillna(np.mean(numerical['CLUSTER2']))"
   ]
  },
  {
   "cell_type": "code",
   "execution_count": 126,
   "id": "2e157573",
   "metadata": {},
   "outputs": [
    {
     "data": {
      "text/html": [
       "<div>\n",
       "<style scoped>\n",
       "    .dataframe tbody tr th:only-of-type {\n",
       "        vertical-align: middle;\n",
       "    }\n",
       "\n",
       "    .dataframe tbody tr th {\n",
       "        vertical-align: top;\n",
       "    }\n",
       "\n",
       "    .dataframe thead th {\n",
       "        text-align: right;\n",
       "    }\n",
       "</style>\n",
       "<table border=\"1\" class=\"dataframe\">\n",
       "  <thead>\n",
       "    <tr style=\"text-align: right;\">\n",
       "      <th></th>\n",
       "      <th>column_name</th>\n",
       "      <th>nulls</th>\n",
       "    </tr>\n",
       "  </thead>\n",
       "  <tbody>\n",
       "  </tbody>\n",
       "</table>\n",
       "</div>"
      ],
      "text/plain": [
       "Empty DataFrame\n",
       "Columns: [column_name, nulls]\n",
       "Index: []"
      ]
     },
     "execution_count": 126,
     "metadata": {},
     "output_type": "execute_result"
    }
   ],
   "source": [
    "df = pd.DataFrame(numerical.isna().sum()).reset_index()\n",
    "df.columns = ['column_name', 'nulls']\n",
    "df[df['nulls']>0]"
   ]
  },
  {
   "cell_type": "code",
   "execution_count": 127,
   "id": "a0d0829d",
   "metadata": {},
   "outputs": [
    {
     "data": {
      "text/html": [
       "<div>\n",
       "<style scoped>\n",
       "    .dataframe tbody tr th:only-of-type {\n",
       "        vertical-align: middle;\n",
       "    }\n",
       "\n",
       "    .dataframe tbody tr th {\n",
       "        vertical-align: top;\n",
       "    }\n",
       "\n",
       "    .dataframe thead th {\n",
       "        text-align: right;\n",
       "    }\n",
       "</style>\n",
       "<table border=\"1\" class=\"dataframe\">\n",
       "  <thead>\n",
       "    <tr style=\"text-align: right;\">\n",
       "      <th></th>\n",
       "      <th>STATE</th>\n",
       "      <th>MAILCODE</th>\n",
       "      <th>NOEXCH</th>\n",
       "      <th>HOMEOWNR</th>\n",
       "      <th>GENDER</th>\n",
       "      <th>DATASRCE</th>\n",
       "      <th>PETS</th>\n",
       "      <th>LIFESRC</th>\n",
       "      <th>PEPSTRFL</th>\n",
       "      <th>RFA_2R</th>\n",
       "      <th>RFA_2A</th>\n",
       "      <th>GEOCODE2</th>\n",
       "      <th>DOMAIN_A</th>\n",
       "      <th>DOMAIN_B</th>\n",
       "    </tr>\n",
       "  </thead>\n",
       "  <tbody>\n",
       "    <tr>\n",
       "      <th>0</th>\n",
       "      <td>IL</td>\n",
       "      <td>A</td>\n",
       "      <td>0</td>\n",
       "      <td>U</td>\n",
       "      <td>F</td>\n",
       "      <td>0</td>\n",
       "      <td>N</td>\n",
       "      <td>0</td>\n",
       "      <td>X</td>\n",
       "      <td>L</td>\n",
       "      <td>E</td>\n",
       "      <td>C</td>\n",
       "      <td>T</td>\n",
       "      <td>2</td>\n",
       "    </tr>\n",
       "    <tr>\n",
       "      <th>1</th>\n",
       "      <td>CA</td>\n",
       "      <td>A</td>\n",
       "      <td>0</td>\n",
       "      <td>H</td>\n",
       "      <td>M</td>\n",
       "      <td>3</td>\n",
       "      <td>N</td>\n",
       "      <td>0</td>\n",
       "      <td>No</td>\n",
       "      <td>L</td>\n",
       "      <td>G</td>\n",
       "      <td>A</td>\n",
       "      <td>S</td>\n",
       "      <td>1</td>\n",
       "    </tr>\n",
       "    <tr>\n",
       "      <th>2</th>\n",
       "      <td>NC</td>\n",
       "      <td>A</td>\n",
       "      <td>0</td>\n",
       "      <td>U</td>\n",
       "      <td>M</td>\n",
       "      <td>3</td>\n",
       "      <td>N</td>\n",
       "      <td>0</td>\n",
       "      <td>X</td>\n",
       "      <td>L</td>\n",
       "      <td>E</td>\n",
       "      <td>C</td>\n",
       "      <td>R</td>\n",
       "      <td>2</td>\n",
       "    </tr>\n",
       "    <tr>\n",
       "      <th>3</th>\n",
       "      <td>CA</td>\n",
       "      <td>A</td>\n",
       "      <td>0</td>\n",
       "      <td>U</td>\n",
       "      <td>F</td>\n",
       "      <td>3</td>\n",
       "      <td>N</td>\n",
       "      <td>0</td>\n",
       "      <td>X</td>\n",
       "      <td>L</td>\n",
       "      <td>E</td>\n",
       "      <td>C</td>\n",
       "      <td>R</td>\n",
       "      <td>2</td>\n",
       "    </tr>\n",
       "    <tr>\n",
       "      <th>4</th>\n",
       "      <td>FL</td>\n",
       "      <td>A</td>\n",
       "      <td>0</td>\n",
       "      <td>H</td>\n",
       "      <td>F</td>\n",
       "      <td>3</td>\n",
       "      <td>N</td>\n",
       "      <td>3</td>\n",
       "      <td>No</td>\n",
       "      <td>L</td>\n",
       "      <td>F</td>\n",
       "      <td>A</td>\n",
       "      <td>S</td>\n",
       "      <td>2</td>\n",
       "    </tr>\n",
       "    <tr>\n",
       "      <th>5</th>\n",
       "      <td>other</td>\n",
       "      <td>A</td>\n",
       "      <td>0</td>\n",
       "      <td>U</td>\n",
       "      <td>F</td>\n",
       "      <td>0</td>\n",
       "      <td>N</td>\n",
       "      <td>0</td>\n",
       "      <td>X</td>\n",
       "      <td>L</td>\n",
       "      <td>F</td>\n",
       "      <td>C</td>\n",
       "      <td>T</td>\n",
       "      <td>2</td>\n",
       "    </tr>\n",
       "    <tr>\n",
       "      <th>6</th>\n",
       "      <td>IN</td>\n",
       "      <td>A</td>\n",
       "      <td>0</td>\n",
       "      <td>H</td>\n",
       "      <td>F</td>\n",
       "      <td>3</td>\n",
       "      <td>Y</td>\n",
       "      <td>3</td>\n",
       "      <td>X</td>\n",
       "      <td>L</td>\n",
       "      <td>E</td>\n",
       "      <td>D</td>\n",
       "      <td>T</td>\n",
       "      <td>2</td>\n",
       "    </tr>\n",
       "    <tr>\n",
       "      <th>7</th>\n",
       "      <td>other</td>\n",
       "      <td>A</td>\n",
       "      <td>0</td>\n",
       "      <td>U</td>\n",
       "      <td>F</td>\n",
       "      <td>1</td>\n",
       "      <td>N</td>\n",
       "      <td>0</td>\n",
       "      <td>No</td>\n",
       "      <td>L</td>\n",
       "      <td>E</td>\n",
       "      <td>C</td>\n",
       "      <td>T</td>\n",
       "      <td>2</td>\n",
       "    </tr>\n",
       "    <tr>\n",
       "      <th>8</th>\n",
       "      <td>other</td>\n",
       "      <td>A</td>\n",
       "      <td>0</td>\n",
       "      <td>U</td>\n",
       "      <td>M</td>\n",
       "      <td>3</td>\n",
       "      <td>N</td>\n",
       "      <td>0</td>\n",
       "      <td>X</td>\n",
       "      <td>L</td>\n",
       "      <td>F</td>\n",
       "      <td>D</td>\n",
       "      <td>R</td>\n",
       "      <td>2</td>\n",
       "    </tr>\n",
       "    <tr>\n",
       "      <th>9</th>\n",
       "      <td>other</td>\n",
       "      <td>A</td>\n",
       "      <td>0</td>\n",
       "      <td>U</td>\n",
       "      <td>M</td>\n",
       "      <td>0</td>\n",
       "      <td>N</td>\n",
       "      <td>0</td>\n",
       "      <td>No</td>\n",
       "      <td>L</td>\n",
       "      <td>F</td>\n",
       "      <td>B</td>\n",
       "      <td>T</td>\n",
       "      <td>1</td>\n",
       "    </tr>\n",
       "  </tbody>\n",
       "</table>\n",
       "</div>"
      ],
      "text/plain": [
       "   STATE MAILCODE NOEXCH HOMEOWNR GENDER DATASRCE PETS LIFESRC PEPSTRFL  \\\n",
       "0     IL        A      0        U      F        0    N       0        X   \n",
       "1     CA        A      0        H      M        3    N       0       No   \n",
       "2     NC        A      0        U      M        3    N       0        X   \n",
       "3     CA        A      0        U      F        3    N       0        X   \n",
       "4     FL        A      0        H      F        3    N       3       No   \n",
       "5  other        A      0        U      F        0    N       0        X   \n",
       "6     IN        A      0        H      F        3    Y       3        X   \n",
       "7  other        A      0        U      F        1    N       0       No   \n",
       "8  other        A      0        U      M        3    N       0        X   \n",
       "9  other        A      0        U      M        0    N       0       No   \n",
       "\n",
       "  RFA_2R RFA_2A GEOCODE2 DOMAIN_A DOMAIN_B  \n",
       "0      L      E        C        T        2  \n",
       "1      L      G        A        S        1  \n",
       "2      L      E        C        R        2  \n",
       "3      L      E        C        R        2  \n",
       "4      L      F        A        S        2  \n",
       "5      L      F        C        T        2  \n",
       "6      L      E        D        T        2  \n",
       "7      L      E        C        T        2  \n",
       "8      L      F        D        R        2  \n",
       "9      L      F        B        T        1  "
      ]
     },
     "execution_count": 127,
     "metadata": {},
     "output_type": "execute_result"
    }
   ],
   "source": [
    "categorical.head(10)"
   ]
  },
  {
   "cell_type": "code",
   "execution_count": 128,
   "id": "b560863b",
   "metadata": {},
   "outputs": [
    {
     "data": {
      "text/html": [
       "<div>\n",
       "<style scoped>\n",
       "    .dataframe tbody tr th:only-of-type {\n",
       "        vertical-align: middle;\n",
       "    }\n",
       "\n",
       "    .dataframe tbody tr th {\n",
       "        vertical-align: top;\n",
       "    }\n",
       "\n",
       "    .dataframe thead th {\n",
       "        text-align: right;\n",
       "    }\n",
       "</style>\n",
       "<table border=\"1\" class=\"dataframe\">\n",
       "  <thead>\n",
       "    <tr style=\"text-align: right;\">\n",
       "      <th></th>\n",
       "      <th>ODATEDW</th>\n",
       "      <th>TCODE</th>\n",
       "      <th>DOB</th>\n",
       "      <th>AGE</th>\n",
       "      <th>INCOME</th>\n",
       "      <th>WEALTH1</th>\n",
       "      <th>HIT</th>\n",
       "      <th>MALEMILI</th>\n",
       "      <th>MALEVET</th>\n",
       "      <th>VIETVETS</th>\n",
       "      <th>...</th>\n",
       "      <th>FISTDATE</th>\n",
       "      <th>NEXTDATE</th>\n",
       "      <th>TIMELAG</th>\n",
       "      <th>AVGGIFT</th>\n",
       "      <th>CONTROLN</th>\n",
       "      <th>TARGET_B</th>\n",
       "      <th>TARGET_D</th>\n",
       "      <th>HPHONE_D</th>\n",
       "      <th>RFA_2F</th>\n",
       "      <th>CLUSTER2</th>\n",
       "    </tr>\n",
       "  </thead>\n",
       "  <tbody>\n",
       "    <tr>\n",
       "      <th>0</th>\n",
       "      <td>8901</td>\n",
       "      <td>0</td>\n",
       "      <td>3712</td>\n",
       "      <td>60.000000</td>\n",
       "      <td>5.0</td>\n",
       "      <td>6.0</td>\n",
       "      <td>0</td>\n",
       "      <td>0</td>\n",
       "      <td>39</td>\n",
       "      <td>34</td>\n",
       "      <td>...</td>\n",
       "      <td>8911</td>\n",
       "      <td>9003.0</td>\n",
       "      <td>4.0</td>\n",
       "      <td>7.741935</td>\n",
       "      <td>95515</td>\n",
       "      <td>0</td>\n",
       "      <td>0.0</td>\n",
       "      <td>0</td>\n",
       "      <td>4</td>\n",
       "      <td>39.0</td>\n",
       "    </tr>\n",
       "    <tr>\n",
       "      <th>1</th>\n",
       "      <td>9401</td>\n",
       "      <td>1</td>\n",
       "      <td>5202</td>\n",
       "      <td>46.000000</td>\n",
       "      <td>6.0</td>\n",
       "      <td>9.0</td>\n",
       "      <td>16</td>\n",
       "      <td>0</td>\n",
       "      <td>15</td>\n",
       "      <td>55</td>\n",
       "      <td>...</td>\n",
       "      <td>9310</td>\n",
       "      <td>9504.0</td>\n",
       "      <td>18.0</td>\n",
       "      <td>15.666667</td>\n",
       "      <td>148535</td>\n",
       "      <td>0</td>\n",
       "      <td>0.0</td>\n",
       "      <td>0</td>\n",
       "      <td>2</td>\n",
       "      <td>1.0</td>\n",
       "    </tr>\n",
       "    <tr>\n",
       "      <th>2</th>\n",
       "      <td>9001</td>\n",
       "      <td>1</td>\n",
       "      <td>0</td>\n",
       "      <td>61.611649</td>\n",
       "      <td>3.0</td>\n",
       "      <td>1.0</td>\n",
       "      <td>2</td>\n",
       "      <td>0</td>\n",
       "      <td>20</td>\n",
       "      <td>29</td>\n",
       "      <td>...</td>\n",
       "      <td>9001</td>\n",
       "      <td>9101.0</td>\n",
       "      <td>12.0</td>\n",
       "      <td>7.481481</td>\n",
       "      <td>15078</td>\n",
       "      <td>0</td>\n",
       "      <td>0.0</td>\n",
       "      <td>1</td>\n",
       "      <td>4</td>\n",
       "      <td>60.0</td>\n",
       "    </tr>\n",
       "    <tr>\n",
       "      <th>3</th>\n",
       "      <td>8701</td>\n",
       "      <td>0</td>\n",
       "      <td>2801</td>\n",
       "      <td>70.000000</td>\n",
       "      <td>1.0</td>\n",
       "      <td>4.0</td>\n",
       "      <td>2</td>\n",
       "      <td>0</td>\n",
       "      <td>23</td>\n",
       "      <td>14</td>\n",
       "      <td>...</td>\n",
       "      <td>8702</td>\n",
       "      <td>8711.0</td>\n",
       "      <td>9.0</td>\n",
       "      <td>6.812500</td>\n",
       "      <td>172556</td>\n",
       "      <td>0</td>\n",
       "      <td>0.0</td>\n",
       "      <td>1</td>\n",
       "      <td>4</td>\n",
       "      <td>41.0</td>\n",
       "    </tr>\n",
       "    <tr>\n",
       "      <th>4</th>\n",
       "      <td>8601</td>\n",
       "      <td>0</td>\n",
       "      <td>2001</td>\n",
       "      <td>78.000000</td>\n",
       "      <td>3.0</td>\n",
       "      <td>2.0</td>\n",
       "      <td>60</td>\n",
       "      <td>1</td>\n",
       "      <td>28</td>\n",
       "      <td>9</td>\n",
       "      <td>...</td>\n",
       "      <td>7903</td>\n",
       "      <td>8005.0</td>\n",
       "      <td>14.0</td>\n",
       "      <td>6.864865</td>\n",
       "      <td>7112</td>\n",
       "      <td>0</td>\n",
       "      <td>0.0</td>\n",
       "      <td>1</td>\n",
       "      <td>2</td>\n",
       "      <td>26.0</td>\n",
       "    </tr>\n",
       "  </tbody>\n",
       "</table>\n",
       "<p>5 rows × 319 columns</p>\n",
       "</div>"
      ],
      "text/plain": [
       "   ODATEDW  TCODE   DOB        AGE  INCOME  WEALTH1  HIT  MALEMILI  MALEVET  \\\n",
       "0     8901      0  3712  60.000000     5.0      6.0    0         0       39   \n",
       "1     9401      1  5202  46.000000     6.0      9.0   16         0       15   \n",
       "2     9001      1     0  61.611649     3.0      1.0    2         0       20   \n",
       "3     8701      0  2801  70.000000     1.0      4.0    2         0       23   \n",
       "4     8601      0  2001  78.000000     3.0      2.0   60         1       28   \n",
       "\n",
       "   VIETVETS  ...  FISTDATE  NEXTDATE  TIMELAG    AVGGIFT  CONTROLN  TARGET_B  \\\n",
       "0        34  ...      8911    9003.0      4.0   7.741935     95515         0   \n",
       "1        55  ...      9310    9504.0     18.0  15.666667    148535         0   \n",
       "2        29  ...      9001    9101.0     12.0   7.481481     15078         0   \n",
       "3        14  ...      8702    8711.0      9.0   6.812500    172556         0   \n",
       "4         9  ...      7903    8005.0     14.0   6.864865      7112         0   \n",
       "\n",
       "   TARGET_D  HPHONE_D  RFA_2F  CLUSTER2  \n",
       "0       0.0         0       4      39.0  \n",
       "1       0.0         0       2       1.0  \n",
       "2       0.0         1       4      60.0  \n",
       "3       0.0         1       4      41.0  \n",
       "4       0.0         1       2      26.0  \n",
       "\n",
       "[5 rows x 319 columns]"
      ]
     },
     "execution_count": 128,
     "metadata": {},
     "output_type": "execute_result"
    }
   ],
   "source": [
    "numerical.head()"
   ]
  },
  {
   "cell_type": "code",
   "execution_count": 129,
   "id": "7f6dfec2",
   "metadata": {},
   "outputs": [],
   "source": [
    "categorical.to_csv('categorical.csv', index=False)\n",
    "numerical.to_csv('numerical.csv', index=False)"
   ]
  },
  {
   "cell_type": "markdown",
   "id": "067b40b5",
   "metadata": {},
   "source": [
    "## Start of Lab Handling Data Imbalance in Classification Models"
   ]
  },
  {
   "cell_type": "code",
   "execution_count": 130,
   "id": "5c3ab528",
   "metadata": {},
   "outputs": [],
   "source": [
    "categorical = pd.read_csv('categorical.csv')\n",
    "numerical = pd.read_csv('numerical.csv')"
   ]
  },
  {
   "cell_type": "markdown",
   "id": "9a91d6de",
   "metadata": {},
   "source": [
    "#### Look critically at the dtypes of numerical and categorical columns and make changes where appropriate."
   ]
  },
  {
   "cell_type": "code",
   "execution_count": 131,
   "id": "d107d815",
   "metadata": {},
   "outputs": [
    {
     "data": {
      "text/plain": [
       "STATE       object\n",
       "MAILCODE    object\n",
       "NOEXCH      object\n",
       "HOMEOWNR    object\n",
       "GENDER      object\n",
       "DATASRCE     int64\n",
       "PETS        object\n",
       "LIFESRC      int64\n",
       "PEPSTRFL    object\n",
       "RFA_2R      object\n",
       "RFA_2A      object\n",
       "GEOCODE2    object\n",
       "DOMAIN_A    object\n",
       "DOMAIN_B     int64\n",
       "dtype: object"
      ]
     },
     "execution_count": 131,
     "metadata": {},
     "output_type": "execute_result"
    }
   ],
   "source": [
    "categorical.dtypes"
   ]
  },
  {
   "cell_type": "code",
   "execution_count": 132,
   "id": "7c5bcb32",
   "metadata": {},
   "outputs": [],
   "source": [
    "categorical['DATASRCE'] = categorical['DATASRCE'].astype('object')\n",
    "categorical['LIFESRC'] = categorical['LIFESRC'].astype('object')\n",
    "categorical['DOMAIN_B'] = categorical['DOMAIN_B'].astype('object')"
   ]
  },
  {
   "cell_type": "code",
   "execution_count": 133,
   "id": "c719d710",
   "metadata": {},
   "outputs": [
    {
     "data": {
      "text/plain": [
       "STATE       object\n",
       "MAILCODE    object\n",
       "NOEXCH      object\n",
       "HOMEOWNR    object\n",
       "GENDER      object\n",
       "DATASRCE    object\n",
       "PETS        object\n",
       "LIFESRC     object\n",
       "PEPSTRFL    object\n",
       "RFA_2R      object\n",
       "RFA_2A      object\n",
       "GEOCODE2    object\n",
       "DOMAIN_A    object\n",
       "DOMAIN_B    object\n",
       "dtype: object"
      ]
     },
     "execution_count": 133,
     "metadata": {},
     "output_type": "execute_result"
    }
   ],
   "source": [
    "categorical.dtypes"
   ]
  },
  {
   "cell_type": "code",
   "execution_count": 134,
   "id": "ea3a6f90",
   "metadata": {},
   "outputs": [],
   "source": [
    "#numerical.dtypes"
   ]
  },
  {
   "cell_type": "markdown",
   "id": "3006b3b8",
   "metadata": {},
   "source": [
    "#### Concatenate numerical and categorical back together again for your X dataframe. Designate the TargetB as y."
   ]
  },
  {
   "cell_type": "code",
   "execution_count": 135,
   "id": "a6dd7930",
   "metadata": {},
   "outputs": [],
   "source": [
    "all_data = pd.concat((numerical,categorical),axis=1)"
   ]
  },
  {
   "cell_type": "code",
   "execution_count": 136,
   "id": "722783ca",
   "metadata": {},
   "outputs": [
    {
     "data": {
      "text/html": [
       "<div>\n",
       "<style scoped>\n",
       "    .dataframe tbody tr th:only-of-type {\n",
       "        vertical-align: middle;\n",
       "    }\n",
       "\n",
       "    .dataframe tbody tr th {\n",
       "        vertical-align: top;\n",
       "    }\n",
       "\n",
       "    .dataframe thead th {\n",
       "        text-align: right;\n",
       "    }\n",
       "</style>\n",
       "<table border=\"1\" class=\"dataframe\">\n",
       "  <thead>\n",
       "    <tr style=\"text-align: right;\">\n",
       "      <th></th>\n",
       "      <th>ODATEDW</th>\n",
       "      <th>TCODE</th>\n",
       "      <th>DOB</th>\n",
       "      <th>AGE</th>\n",
       "      <th>INCOME</th>\n",
       "      <th>WEALTH1</th>\n",
       "      <th>HIT</th>\n",
       "      <th>MALEMILI</th>\n",
       "      <th>MALEVET</th>\n",
       "      <th>VIETVETS</th>\n",
       "      <th>...</th>\n",
       "      <th>GENDER</th>\n",
       "      <th>DATASRCE</th>\n",
       "      <th>PETS</th>\n",
       "      <th>LIFESRC</th>\n",
       "      <th>PEPSTRFL</th>\n",
       "      <th>RFA_2R</th>\n",
       "      <th>RFA_2A</th>\n",
       "      <th>GEOCODE2</th>\n",
       "      <th>DOMAIN_A</th>\n",
       "      <th>DOMAIN_B</th>\n",
       "    </tr>\n",
       "  </thead>\n",
       "  <tbody>\n",
       "    <tr>\n",
       "      <th>0</th>\n",
       "      <td>8901</td>\n",
       "      <td>0</td>\n",
       "      <td>3712</td>\n",
       "      <td>60.000000</td>\n",
       "      <td>5.0</td>\n",
       "      <td>6.0</td>\n",
       "      <td>0</td>\n",
       "      <td>0</td>\n",
       "      <td>39</td>\n",
       "      <td>34</td>\n",
       "      <td>...</td>\n",
       "      <td>F</td>\n",
       "      <td>0</td>\n",
       "      <td>N</td>\n",
       "      <td>0</td>\n",
       "      <td>X</td>\n",
       "      <td>L</td>\n",
       "      <td>E</td>\n",
       "      <td>C</td>\n",
       "      <td>T</td>\n",
       "      <td>2</td>\n",
       "    </tr>\n",
       "    <tr>\n",
       "      <th>1</th>\n",
       "      <td>9401</td>\n",
       "      <td>1</td>\n",
       "      <td>5202</td>\n",
       "      <td>46.000000</td>\n",
       "      <td>6.0</td>\n",
       "      <td>9.0</td>\n",
       "      <td>16</td>\n",
       "      <td>0</td>\n",
       "      <td>15</td>\n",
       "      <td>55</td>\n",
       "      <td>...</td>\n",
       "      <td>M</td>\n",
       "      <td>3</td>\n",
       "      <td>N</td>\n",
       "      <td>0</td>\n",
       "      <td>No</td>\n",
       "      <td>L</td>\n",
       "      <td>G</td>\n",
       "      <td>A</td>\n",
       "      <td>S</td>\n",
       "      <td>1</td>\n",
       "    </tr>\n",
       "    <tr>\n",
       "      <th>2</th>\n",
       "      <td>9001</td>\n",
       "      <td>1</td>\n",
       "      <td>0</td>\n",
       "      <td>61.611649</td>\n",
       "      <td>3.0</td>\n",
       "      <td>1.0</td>\n",
       "      <td>2</td>\n",
       "      <td>0</td>\n",
       "      <td>20</td>\n",
       "      <td>29</td>\n",
       "      <td>...</td>\n",
       "      <td>M</td>\n",
       "      <td>3</td>\n",
       "      <td>N</td>\n",
       "      <td>0</td>\n",
       "      <td>X</td>\n",
       "      <td>L</td>\n",
       "      <td>E</td>\n",
       "      <td>C</td>\n",
       "      <td>R</td>\n",
       "      <td>2</td>\n",
       "    </tr>\n",
       "    <tr>\n",
       "      <th>3</th>\n",
       "      <td>8701</td>\n",
       "      <td>0</td>\n",
       "      <td>2801</td>\n",
       "      <td>70.000000</td>\n",
       "      <td>1.0</td>\n",
       "      <td>4.0</td>\n",
       "      <td>2</td>\n",
       "      <td>0</td>\n",
       "      <td>23</td>\n",
       "      <td>14</td>\n",
       "      <td>...</td>\n",
       "      <td>F</td>\n",
       "      <td>3</td>\n",
       "      <td>N</td>\n",
       "      <td>0</td>\n",
       "      <td>X</td>\n",
       "      <td>L</td>\n",
       "      <td>E</td>\n",
       "      <td>C</td>\n",
       "      <td>R</td>\n",
       "      <td>2</td>\n",
       "    </tr>\n",
       "    <tr>\n",
       "      <th>4</th>\n",
       "      <td>8601</td>\n",
       "      <td>0</td>\n",
       "      <td>2001</td>\n",
       "      <td>78.000000</td>\n",
       "      <td>3.0</td>\n",
       "      <td>2.0</td>\n",
       "      <td>60</td>\n",
       "      <td>1</td>\n",
       "      <td>28</td>\n",
       "      <td>9</td>\n",
       "      <td>...</td>\n",
       "      <td>F</td>\n",
       "      <td>3</td>\n",
       "      <td>N</td>\n",
       "      <td>3</td>\n",
       "      <td>No</td>\n",
       "      <td>L</td>\n",
       "      <td>F</td>\n",
       "      <td>A</td>\n",
       "      <td>S</td>\n",
       "      <td>2</td>\n",
       "    </tr>\n",
       "    <tr>\n",
       "      <th>5</th>\n",
       "      <td>9401</td>\n",
       "      <td>0</td>\n",
       "      <td>0</td>\n",
       "      <td>61.611649</td>\n",
       "      <td>5.0</td>\n",
       "      <td>6.0</td>\n",
       "      <td>0</td>\n",
       "      <td>0</td>\n",
       "      <td>26</td>\n",
       "      <td>36</td>\n",
       "      <td>...</td>\n",
       "      <td>F</td>\n",
       "      <td>0</td>\n",
       "      <td>N</td>\n",
       "      <td>0</td>\n",
       "      <td>X</td>\n",
       "      <td>L</td>\n",
       "      <td>F</td>\n",
       "      <td>C</td>\n",
       "      <td>T</td>\n",
       "      <td>2</td>\n",
       "    </tr>\n",
       "    <tr>\n",
       "      <th>6</th>\n",
       "      <td>8701</td>\n",
       "      <td>0</td>\n",
       "      <td>6001</td>\n",
       "      <td>38.000000</td>\n",
       "      <td>4.0</td>\n",
       "      <td>6.0</td>\n",
       "      <td>0</td>\n",
       "      <td>0</td>\n",
       "      <td>33</td>\n",
       "      <td>36</td>\n",
       "      <td>...</td>\n",
       "      <td>F</td>\n",
       "      <td>3</td>\n",
       "      <td>Y</td>\n",
       "      <td>3</td>\n",
       "      <td>X</td>\n",
       "      <td>L</td>\n",
       "      <td>E</td>\n",
       "      <td>D</td>\n",
       "      <td>T</td>\n",
       "      <td>2</td>\n",
       "    </tr>\n",
       "    <tr>\n",
       "      <th>7</th>\n",
       "      <td>9401</td>\n",
       "      <td>0</td>\n",
       "      <td>0</td>\n",
       "      <td>61.611649</td>\n",
       "      <td>2.0</td>\n",
       "      <td>9.0</td>\n",
       "      <td>1</td>\n",
       "      <td>0</td>\n",
       "      <td>34</td>\n",
       "      <td>36</td>\n",
       "      <td>...</td>\n",
       "      <td>F</td>\n",
       "      <td>1</td>\n",
       "      <td>N</td>\n",
       "      <td>0</td>\n",
       "      <td>No</td>\n",
       "      <td>L</td>\n",
       "      <td>E</td>\n",
       "      <td>C</td>\n",
       "      <td>T</td>\n",
       "      <td>2</td>\n",
       "    </tr>\n",
       "    <tr>\n",
       "      <th>8</th>\n",
       "      <td>8801</td>\n",
       "      <td>1</td>\n",
       "      <td>0</td>\n",
       "      <td>61.611649</td>\n",
       "      <td>3.0</td>\n",
       "      <td>2.0</td>\n",
       "      <td>0</td>\n",
       "      <td>0</td>\n",
       "      <td>33</td>\n",
       "      <td>27</td>\n",
       "      <td>...</td>\n",
       "      <td>M</td>\n",
       "      <td>3</td>\n",
       "      <td>N</td>\n",
       "      <td>0</td>\n",
       "      <td>X</td>\n",
       "      <td>L</td>\n",
       "      <td>F</td>\n",
       "      <td>D</td>\n",
       "      <td>R</td>\n",
       "      <td>2</td>\n",
       "    </tr>\n",
       "    <tr>\n",
       "      <th>9</th>\n",
       "      <td>9401</td>\n",
       "      <td>1</td>\n",
       "      <td>3211</td>\n",
       "      <td>65.000000</td>\n",
       "      <td>5.0</td>\n",
       "      <td>6.0</td>\n",
       "      <td>0</td>\n",
       "      <td>0</td>\n",
       "      <td>28</td>\n",
       "      <td>51</td>\n",
       "      <td>...</td>\n",
       "      <td>M</td>\n",
       "      <td>0</td>\n",
       "      <td>N</td>\n",
       "      <td>0</td>\n",
       "      <td>No</td>\n",
       "      <td>L</td>\n",
       "      <td>F</td>\n",
       "      <td>B</td>\n",
       "      <td>T</td>\n",
       "      <td>1</td>\n",
       "    </tr>\n",
       "  </tbody>\n",
       "</table>\n",
       "<p>10 rows × 333 columns</p>\n",
       "</div>"
      ],
      "text/plain": [
       "   ODATEDW  TCODE   DOB        AGE  INCOME  WEALTH1  HIT  MALEMILI  MALEVET  \\\n",
       "0     8901      0  3712  60.000000     5.0      6.0    0         0       39   \n",
       "1     9401      1  5202  46.000000     6.0      9.0   16         0       15   \n",
       "2     9001      1     0  61.611649     3.0      1.0    2         0       20   \n",
       "3     8701      0  2801  70.000000     1.0      4.0    2         0       23   \n",
       "4     8601      0  2001  78.000000     3.0      2.0   60         1       28   \n",
       "5     9401      0     0  61.611649     5.0      6.0    0         0       26   \n",
       "6     8701      0  6001  38.000000     4.0      6.0    0         0       33   \n",
       "7     9401      0     0  61.611649     2.0      9.0    1         0       34   \n",
       "8     8801      1     0  61.611649     3.0      2.0    0         0       33   \n",
       "9     9401      1  3211  65.000000     5.0      6.0    0         0       28   \n",
       "\n",
       "   VIETVETS  ...  GENDER  DATASRCE  PETS  LIFESRC  PEPSTRFL  RFA_2R  RFA_2A  \\\n",
       "0        34  ...       F         0     N        0         X       L       E   \n",
       "1        55  ...       M         3     N        0        No       L       G   \n",
       "2        29  ...       M         3     N        0         X       L       E   \n",
       "3        14  ...       F         3     N        0         X       L       E   \n",
       "4         9  ...       F         3     N        3        No       L       F   \n",
       "5        36  ...       F         0     N        0         X       L       F   \n",
       "6        36  ...       F         3     Y        3         X       L       E   \n",
       "7        36  ...       F         1     N        0        No       L       E   \n",
       "8        27  ...       M         3     N        0         X       L       F   \n",
       "9        51  ...       M         0     N        0        No       L       F   \n",
       "\n",
       "   GEOCODE2  DOMAIN_A  DOMAIN_B  \n",
       "0         C         T         2  \n",
       "1         A         S         1  \n",
       "2         C         R         2  \n",
       "3         C         R         2  \n",
       "4         A         S         2  \n",
       "5         C         T         2  \n",
       "6         D         T         2  \n",
       "7         C         T         2  \n",
       "8         D         R         2  \n",
       "9         B         T         1  \n",
       "\n",
       "[10 rows x 333 columns]"
      ]
     },
     "execution_count": 136,
     "metadata": {},
     "output_type": "execute_result"
    }
   ],
   "source": [
    "all_data.head(10)"
   ]
  },
  {
   "cell_type": "code",
   "execution_count": 137,
   "id": "2a8e3339",
   "metadata": {},
   "outputs": [],
   "source": [
    "#all_data.isna().sum()"
   ]
  },
  {
   "cell_type": "code",
   "execution_count": 138,
   "id": "65521616",
   "metadata": {},
   "outputs": [],
   "source": [
    "X = all_data.drop(columns=['TARGET_B','TARGET_D'])\n",
    "y = all_data['TARGET_B']"
   ]
  },
  {
   "cell_type": "markdown",
   "id": "391a2634",
   "metadata": {},
   "source": [
    "#### Split the data into a training set and a test set."
   ]
  },
  {
   "cell_type": "code",
   "execution_count": 139,
   "id": "ce53eeb6",
   "metadata": {},
   "outputs": [],
   "source": [
    "X_train, X_test, y_train, y_test = train_test_split(X, y, test_size=0.25)"
   ]
  },
  {
   "cell_type": "markdown",
   "id": "a7f88331",
   "metadata": {},
   "source": [
    "#### Split further into train_num and train_cat. Also test_num and test_cat."
   ]
  },
  {
   "cell_type": "code",
   "execution_count": 140,
   "id": "700dae3f",
   "metadata": {},
   "outputs": [],
   "source": [
    "X_train_num = X_train.select_dtypes(np.number)\n",
    "X_test_num = X_test.select_dtypes(np.number)\n",
    "X_train_cat = X_train.select_dtypes(object)\n",
    "X_test_cat = X_test.select_dtypes(object)"
   ]
  },
  {
   "cell_type": "markdown",
   "id": "722921c5",
   "metadata": {},
   "source": [
    "#### Scale the features either by using MinMax Scaler or a Standard Scaler. (train_num, test_num)"
   ]
  },
  {
   "cell_type": "code",
   "execution_count": 141,
   "id": "51311c34",
   "metadata": {},
   "outputs": [],
   "source": [
    "#Usage of MinMax Scaler\n",
    "scaler = MinMaxScaler().fit(X_train_num)"
   ]
  },
  {
   "cell_type": "code",
   "execution_count": 142,
   "id": "9ef8c45b",
   "metadata": {},
   "outputs": [],
   "source": [
    "X_train_num_scaled = scaler.transform(X_train_num)\n",
    "X_test_num_scaled = scaler.transform(X_test_num)"
   ]
  },
  {
   "cell_type": "code",
   "execution_count": 143,
   "id": "156e8172",
   "metadata": {},
   "outputs": [],
   "source": [
    "X_train_num_scaled = pd.DataFrame(X_train_num_scaled, columns=list(X_train_num.columns))\n",
    "X_test_num_scaled = pd.DataFrame(X_test_num_scaled, columns=list(X_test_num.columns))"
   ]
  },
  {
   "cell_type": "markdown",
   "id": "bb196c51",
   "metadata": {},
   "source": [
    "#### Encode the categorical features using One-Hot Encoding or Ordinal Encoding. (train_cat, test_cat)"
   ]
  },
  {
   "cell_type": "code",
   "execution_count": 144,
   "id": "7316830f",
   "metadata": {},
   "outputs": [],
   "source": [
    "#Usage of One-Hot Encoding\n",
    "encoder = OneHotEncoder(drop='first').fit(X_train_cat)\n",
    "all_columns = encoder.get_feature_names_out(input_features=X_train_cat.columns)\n",
    "X_train_cat_encode = pd.DataFrame(encoder.transform(X_train_cat).toarray(), columns=all_columns)\n",
    "X_test_cat_encode = pd.DataFrame(encoder.transform(X_test_cat).toarray(), columns=all_columns)"
   ]
  },
  {
   "cell_type": "markdown",
   "id": "d0500010",
   "metadata": {},
   "source": [
    "#### again re-concatenate train_num and train_cat as X_train as well as test_num and test_cat as X_test"
   ]
  },
  {
   "cell_type": "code",
   "execution_count": 145,
   "id": "2c94eef9",
   "metadata": {},
   "outputs": [],
   "source": [
    "X_train = pd.concat((X_train_num_scaled,X_train_cat_encode),axis=1)\n",
    "X_test = pd.concat((X_test_num_scaled,X_test_cat_encode),axis=1)"
   ]
  },
  {
   "cell_type": "code",
   "execution_count": 146,
   "id": "d0306c72",
   "metadata": {},
   "outputs": [
    {
     "data": {
      "text/html": [
       "<div>\n",
       "<style scoped>\n",
       "    .dataframe tbody tr th:only-of-type {\n",
       "        vertical-align: middle;\n",
       "    }\n",
       "\n",
       "    .dataframe tbody tr th {\n",
       "        vertical-align: top;\n",
       "    }\n",
       "\n",
       "    .dataframe thead th {\n",
       "        text-align: right;\n",
       "    }\n",
       "</style>\n",
       "<table border=\"1\" class=\"dataframe\">\n",
       "  <thead>\n",
       "    <tr style=\"text-align: right;\">\n",
       "      <th></th>\n",
       "      <th>ODATEDW</th>\n",
       "      <th>TCODE</th>\n",
       "      <th>DOB</th>\n",
       "      <th>AGE</th>\n",
       "      <th>INCOME</th>\n",
       "      <th>WEALTH1</th>\n",
       "      <th>HIT</th>\n",
       "      <th>MALEMILI</th>\n",
       "      <th>MALEVET</th>\n",
       "      <th>VIETVETS</th>\n",
       "      <th>...</th>\n",
       "      <th>GEOCODE2_B</th>\n",
       "      <th>GEOCODE2_C</th>\n",
       "      <th>GEOCODE2_D</th>\n",
       "      <th>DOMAIN_A_R</th>\n",
       "      <th>DOMAIN_A_S</th>\n",
       "      <th>DOMAIN_A_T</th>\n",
       "      <th>DOMAIN_A_U</th>\n",
       "      <th>DOMAIN_B_2</th>\n",
       "      <th>DOMAIN_B_3</th>\n",
       "      <th>DOMAIN_B_4</th>\n",
       "    </tr>\n",
       "  </thead>\n",
       "  <tbody>\n",
       "    <tr>\n",
       "      <th>0</th>\n",
       "      <td>0.641577</td>\n",
       "      <td>0.000000</td>\n",
       "      <td>0.463543</td>\n",
       "      <td>0.536082</td>\n",
       "      <td>0.166667</td>\n",
       "      <td>0.333333</td>\n",
       "      <td>0.024896</td>\n",
       "      <td>0.000000</td>\n",
       "      <td>0.282828</td>\n",
       "      <td>0.282828</td>\n",
       "      <td>...</td>\n",
       "      <td>0.0</td>\n",
       "      <td>0.0</td>\n",
       "      <td>1.0</td>\n",
       "      <td>1.0</td>\n",
       "      <td>0.0</td>\n",
       "      <td>0.0</td>\n",
       "      <td>0.0</td>\n",
       "      <td>1.0</td>\n",
       "      <td>0.0</td>\n",
       "      <td>0.0</td>\n",
       "    </tr>\n",
       "    <tr>\n",
       "      <th>1</th>\n",
       "      <td>0.211470</td>\n",
       "      <td>0.000000</td>\n",
       "      <td>0.207106</td>\n",
       "      <td>0.783505</td>\n",
       "      <td>0.166667</td>\n",
       "      <td>0.666667</td>\n",
       "      <td>0.000000</td>\n",
       "      <td>0.010204</td>\n",
       "      <td>0.363636</td>\n",
       "      <td>0.444444</td>\n",
       "      <td>...</td>\n",
       "      <td>0.0</td>\n",
       "      <td>1.0</td>\n",
       "      <td>0.0</td>\n",
       "      <td>0.0</td>\n",
       "      <td>0.0</td>\n",
       "      <td>1.0</td>\n",
       "      <td>0.0</td>\n",
       "      <td>1.0</td>\n",
       "      <td>0.0</td>\n",
       "      <td>0.0</td>\n",
       "    </tr>\n",
       "    <tr>\n",
       "      <th>2</th>\n",
       "      <td>0.856631</td>\n",
       "      <td>0.000026</td>\n",
       "      <td>0.195778</td>\n",
       "      <td>0.804124</td>\n",
       "      <td>0.666667</td>\n",
       "      <td>0.666667</td>\n",
       "      <td>0.000000</td>\n",
       "      <td>0.000000</td>\n",
       "      <td>0.343434</td>\n",
       "      <td>1.000000</td>\n",
       "      <td>...</td>\n",
       "      <td>0.0</td>\n",
       "      <td>0.0</td>\n",
       "      <td>0.0</td>\n",
       "      <td>0.0</td>\n",
       "      <td>0.0</td>\n",
       "      <td>0.0</td>\n",
       "      <td>0.0</td>\n",
       "      <td>0.0</td>\n",
       "      <td>1.0</td>\n",
       "      <td>0.0</td>\n",
       "    </tr>\n",
       "    <tr>\n",
       "      <th>3</th>\n",
       "      <td>0.856631</td>\n",
       "      <td>0.000051</td>\n",
       "      <td>0.638620</td>\n",
       "      <td>0.360825</td>\n",
       "      <td>0.666667</td>\n",
       "      <td>0.666667</td>\n",
       "      <td>0.000000</td>\n",
       "      <td>0.000000</td>\n",
       "      <td>0.121212</td>\n",
       "      <td>0.262626</td>\n",
       "      <td>...</td>\n",
       "      <td>0.0</td>\n",
       "      <td>1.0</td>\n",
       "      <td>0.0</td>\n",
       "      <td>1.0</td>\n",
       "      <td>0.0</td>\n",
       "      <td>0.0</td>\n",
       "      <td>0.0</td>\n",
       "      <td>0.0</td>\n",
       "      <td>1.0</td>\n",
       "      <td>0.0</td>\n",
       "    </tr>\n",
       "    <tr>\n",
       "      <th>4</th>\n",
       "      <td>0.856631</td>\n",
       "      <td>0.000000</td>\n",
       "      <td>0.370855</td>\n",
       "      <td>0.628866</td>\n",
       "      <td>0.333333</td>\n",
       "      <td>0.666667</td>\n",
       "      <td>0.000000</td>\n",
       "      <td>0.000000</td>\n",
       "      <td>0.272727</td>\n",
       "      <td>0.303030</td>\n",
       "      <td>...</td>\n",
       "      <td>0.0</td>\n",
       "      <td>0.0</td>\n",
       "      <td>1.0</td>\n",
       "      <td>1.0</td>\n",
       "      <td>0.0</td>\n",
       "      <td>0.0</td>\n",
       "      <td>0.0</td>\n",
       "      <td>1.0</td>\n",
       "      <td>0.0</td>\n",
       "      <td>0.0</td>\n",
       "    </tr>\n",
       "    <tr>\n",
       "      <th>5</th>\n",
       "      <td>0.569892</td>\n",
       "      <td>0.000000</td>\n",
       "      <td>0.618023</td>\n",
       "      <td>0.381443</td>\n",
       "      <td>0.666667</td>\n",
       "      <td>0.888889</td>\n",
       "      <td>0.016598</td>\n",
       "      <td>0.183673</td>\n",
       "      <td>0.262626</td>\n",
       "      <td>0.505051</td>\n",
       "      <td>...</td>\n",
       "      <td>1.0</td>\n",
       "      <td>0.0</td>\n",
       "      <td>0.0</td>\n",
       "      <td>0.0</td>\n",
       "      <td>1.0</td>\n",
       "      <td>0.0</td>\n",
       "      <td>0.0</td>\n",
       "      <td>0.0</td>\n",
       "      <td>0.0</td>\n",
       "      <td>0.0</td>\n",
       "    </tr>\n",
       "    <tr>\n",
       "      <th>6</th>\n",
       "      <td>0.784946</td>\n",
       "      <td>0.000000</td>\n",
       "      <td>0.000000</td>\n",
       "      <td>0.624862</td>\n",
       "      <td>0.166667</td>\n",
       "      <td>0.666667</td>\n",
       "      <td>0.000000</td>\n",
       "      <td>0.020408</td>\n",
       "      <td>0.242424</td>\n",
       "      <td>0.676768</td>\n",
       "      <td>...</td>\n",
       "      <td>1.0</td>\n",
       "      <td>0.0</td>\n",
       "      <td>0.0</td>\n",
       "      <td>1.0</td>\n",
       "      <td>0.0</td>\n",
       "      <td>0.0</td>\n",
       "      <td>0.0</td>\n",
       "      <td>0.0</td>\n",
       "      <td>1.0</td>\n",
       "      <td>0.0</td>\n",
       "    </tr>\n",
       "    <tr>\n",
       "      <th>7</th>\n",
       "      <td>0.856631</td>\n",
       "      <td>0.000026</td>\n",
       "      <td>0.226674</td>\n",
       "      <td>0.773196</td>\n",
       "      <td>1.000000</td>\n",
       "      <td>0.444444</td>\n",
       "      <td>0.066390</td>\n",
       "      <td>0.000000</td>\n",
       "      <td>0.444444</td>\n",
       "      <td>0.272727</td>\n",
       "      <td>...</td>\n",
       "      <td>0.0</td>\n",
       "      <td>1.0</td>\n",
       "      <td>0.0</td>\n",
       "      <td>0.0</td>\n",
       "      <td>0.0</td>\n",
       "      <td>0.0</td>\n",
       "      <td>0.0</td>\n",
       "      <td>1.0</td>\n",
       "      <td>0.0</td>\n",
       "      <td>0.0</td>\n",
       "    </tr>\n",
       "    <tr>\n",
       "      <th>8</th>\n",
       "      <td>0.569892</td>\n",
       "      <td>0.000000</td>\n",
       "      <td>0.567456</td>\n",
       "      <td>0.422680</td>\n",
       "      <td>0.666667</td>\n",
       "      <td>0.666667</td>\n",
       "      <td>0.004149</td>\n",
       "      <td>0.000000</td>\n",
       "      <td>0.404040</td>\n",
       "      <td>0.232323</td>\n",
       "      <td>...</td>\n",
       "      <td>1.0</td>\n",
       "      <td>0.0</td>\n",
       "      <td>0.0</td>\n",
       "      <td>0.0</td>\n",
       "      <td>1.0</td>\n",
       "      <td>0.0</td>\n",
       "      <td>0.0</td>\n",
       "      <td>0.0</td>\n",
       "      <td>1.0</td>\n",
       "      <td>0.0</td>\n",
       "    </tr>\n",
       "    <tr>\n",
       "      <th>9</th>\n",
       "      <td>0.928315</td>\n",
       "      <td>0.000026</td>\n",
       "      <td>0.545932</td>\n",
       "      <td>0.453608</td>\n",
       "      <td>0.833333</td>\n",
       "      <td>0.111111</td>\n",
       "      <td>0.004149</td>\n",
       "      <td>0.000000</td>\n",
       "      <td>0.222222</td>\n",
       "      <td>0.272727</td>\n",
       "      <td>...</td>\n",
       "      <td>0.0</td>\n",
       "      <td>0.0</td>\n",
       "      <td>1.0</td>\n",
       "      <td>1.0</td>\n",
       "      <td>0.0</td>\n",
       "      <td>0.0</td>\n",
       "      <td>0.0</td>\n",
       "      <td>0.0</td>\n",
       "      <td>1.0</td>\n",
       "      <td>0.0</td>\n",
       "    </tr>\n",
       "  </tbody>\n",
       "</table>\n",
       "<p>10 rows × 355 columns</p>\n",
       "</div>"
      ],
      "text/plain": [
       "    ODATEDW     TCODE       DOB       AGE    INCOME   WEALTH1       HIT  \\\n",
       "0  0.641577  0.000000  0.463543  0.536082  0.166667  0.333333  0.024896   \n",
       "1  0.211470  0.000000  0.207106  0.783505  0.166667  0.666667  0.000000   \n",
       "2  0.856631  0.000026  0.195778  0.804124  0.666667  0.666667  0.000000   \n",
       "3  0.856631  0.000051  0.638620  0.360825  0.666667  0.666667  0.000000   \n",
       "4  0.856631  0.000000  0.370855  0.628866  0.333333  0.666667  0.000000   \n",
       "5  0.569892  0.000000  0.618023  0.381443  0.666667  0.888889  0.016598   \n",
       "6  0.784946  0.000000  0.000000  0.624862  0.166667  0.666667  0.000000   \n",
       "7  0.856631  0.000026  0.226674  0.773196  1.000000  0.444444  0.066390   \n",
       "8  0.569892  0.000000  0.567456  0.422680  0.666667  0.666667  0.004149   \n",
       "9  0.928315  0.000026  0.545932  0.453608  0.833333  0.111111  0.004149   \n",
       "\n",
       "   MALEMILI   MALEVET  VIETVETS  ...  GEOCODE2_B  GEOCODE2_C  GEOCODE2_D  \\\n",
       "0  0.000000  0.282828  0.282828  ...         0.0         0.0         1.0   \n",
       "1  0.010204  0.363636  0.444444  ...         0.0         1.0         0.0   \n",
       "2  0.000000  0.343434  1.000000  ...         0.0         0.0         0.0   \n",
       "3  0.000000  0.121212  0.262626  ...         0.0         1.0         0.0   \n",
       "4  0.000000  0.272727  0.303030  ...         0.0         0.0         1.0   \n",
       "5  0.183673  0.262626  0.505051  ...         1.0         0.0         0.0   \n",
       "6  0.020408  0.242424  0.676768  ...         1.0         0.0         0.0   \n",
       "7  0.000000  0.444444  0.272727  ...         0.0         1.0         0.0   \n",
       "8  0.000000  0.404040  0.232323  ...         1.0         0.0         0.0   \n",
       "9  0.000000  0.222222  0.272727  ...         0.0         0.0         1.0   \n",
       "\n",
       "   DOMAIN_A_R  DOMAIN_A_S  DOMAIN_A_T  DOMAIN_A_U  DOMAIN_B_2  DOMAIN_B_3  \\\n",
       "0         1.0         0.0         0.0         0.0         1.0         0.0   \n",
       "1         0.0         0.0         1.0         0.0         1.0         0.0   \n",
       "2         0.0         0.0         0.0         0.0         0.0         1.0   \n",
       "3         1.0         0.0         0.0         0.0         0.0         1.0   \n",
       "4         1.0         0.0         0.0         0.0         1.0         0.0   \n",
       "5         0.0         1.0         0.0         0.0         0.0         0.0   \n",
       "6         1.0         0.0         0.0         0.0         0.0         1.0   \n",
       "7         0.0         0.0         0.0         0.0         1.0         0.0   \n",
       "8         0.0         1.0         0.0         0.0         0.0         1.0   \n",
       "9         1.0         0.0         0.0         0.0         0.0         1.0   \n",
       "\n",
       "   DOMAIN_B_4  \n",
       "0         0.0  \n",
       "1         0.0  \n",
       "2         0.0  \n",
       "3         0.0  \n",
       "4         0.0  \n",
       "5         0.0  \n",
       "6         0.0  \n",
       "7         0.0  \n",
       "8         0.0  \n",
       "9         0.0  \n",
       "\n",
       "[10 rows x 355 columns]"
      ]
     },
     "execution_count": 146,
     "metadata": {},
     "output_type": "execute_result"
    }
   ],
   "source": [
    "X_train.head(10)"
   ]
  },
  {
   "cell_type": "markdown",
   "id": "8bc5870c",
   "metadata": {},
   "source": [
    "#### Fit a logistic regression model on the training data."
   ]
  },
  {
   "cell_type": "code",
   "execution_count": 147,
   "id": "d585432f",
   "metadata": {},
   "outputs": [],
   "source": [
    "y_train = y_train.reset_index(drop=True) \n",
    "y_test = y_test.reset_index(drop=True) "
   ]
  },
  {
   "cell_type": "code",
   "execution_count": 148,
   "id": "9c626461",
   "metadata": {},
   "outputs": [],
   "source": [
    "model = LogisticRegression(solver='lbfgs',\n",
    "                  multi_class='auto', max_iter = 1000).fit(X_train, y_train)"
   ]
  },
  {
   "cell_type": "markdown",
   "id": "1b55343a",
   "metadata": {},
   "source": [
    "#### Check the accuracy on the test data."
   ]
  },
  {
   "cell_type": "code",
   "execution_count": 149,
   "id": "d934d65a",
   "metadata": {},
   "outputs": [],
   "source": [
    "predictions = model.predict(X_test)"
   ]
  },
  {
   "cell_type": "code",
   "execution_count": 150,
   "id": "28339d87",
   "metadata": {},
   "outputs": [
    {
     "data": {
      "text/plain": [
       "array([0, 0, 0, ..., 0, 0, 0], dtype=int64)"
      ]
     },
     "execution_count": 150,
     "metadata": {},
     "output_type": "execute_result"
    }
   ],
   "source": [
    "predictions"
   ]
  },
  {
   "cell_type": "code",
   "execution_count": 151,
   "id": "b96770d9",
   "metadata": {},
   "outputs": [
    {
     "data": {
      "text/plain": [
       "array([[22649,     0],\n",
       "       [ 1204,     0]], dtype=int64)"
      ]
     },
     "execution_count": 151,
     "metadata": {},
     "output_type": "execute_result"
    }
   ],
   "source": [
    "from sklearn.metrics import confusion_matrix\n",
    "confusion_matrix(y_test, predictions)"
   ]
  },
  {
   "cell_type": "code",
   "execution_count": 152,
   "id": "ca2803d8",
   "metadata": {},
   "outputs": [
    {
     "data": {
      "text/plain": [
       "0.9491468578375886"
      ]
     },
     "metadata": {},
     "output_type": "display_data"
    },
    {
     "data": {
      "text/plain": [
       "0.9495241688676477"
      ]
     },
     "metadata": {},
     "output_type": "display_data"
    }
   ],
   "source": [
    "display(model.score(X_train, y_train))\n",
    "display(model.score(X_test, y_test))"
   ]
  },
  {
   "cell_type": "code",
   "execution_count": 153,
   "id": "b75ae468",
   "metadata": {},
   "outputs": [
    {
     "name": "stdout",
     "output_type": "stream",
     "text": [
      "precision:  0.0\n",
      "recall:  0.0\n",
      "f1:  0.0\n"
     ]
    },
    {
     "name": "stderr",
     "output_type": "stream",
     "text": [
      "C:\\Users\\lisab\\anaconda3\\lib\\site-packages\\sklearn\\metrics\\_classification.py:1318: UndefinedMetricWarning: Precision is ill-defined and being set to 0.0 due to no predicted samples. Use `zero_division` parameter to control this behavior.\n",
      "  _warn_prf(average, modifier, msg_start, len(result))\n"
     ]
    }
   ],
   "source": [
    "print(\"precision: \",precision_score(y_test,predictions, average='binary', pos_label = 1, labels=[1, 0]))\n",
    "print(\"recall: \",recall_score(y_test,predictions, average='binary', pos_label = 1, labels=[1, 0]))\n",
    "print(\"f1: \",f1_score(y_test,predictions, average='binary', pos_label = 1, labels=[1, 0]))"
   ]
  },
  {
   "cell_type": "markdown",
   "id": "a0e8635a",
   "metadata": {},
   "source": [
    "##### The model predicted all data which have been a 1 (1183) with a 0 and all 0 correctly as 0 (22670). This is due to the huge imbalance of the data, there are much more 0 than 1:"
   ]
  },
  {
   "cell_type": "markdown",
   "id": "c5617235",
   "metadata": {},
   "source": [
    "#### Check for the imbalance."
   ]
  },
  {
   "cell_type": "code",
   "execution_count": 154,
   "id": "2d5bc61a",
   "metadata": {},
   "outputs": [
    {
     "data": {
      "text/plain": [
       "0    90569\n",
       "1     4843\n",
       "Name: TARGET_B, dtype: int64"
      ]
     },
     "execution_count": 154,
     "metadata": {},
     "output_type": "execute_result"
    }
   ],
   "source": [
    "all_data['TARGET_B'].value_counts()"
   ]
  },
  {
   "cell_type": "markdown",
   "id": "c22f9990",
   "metadata": {},
   "source": [
    "#### Use the resampling strategies used in class for upsampling and downsampling to create a balance between the two classes."
   ]
  },
  {
   "cell_type": "code",
   "execution_count": 155,
   "id": "918493cc",
   "metadata": {},
   "outputs": [
    {
     "data": {
      "text/html": [
       "<div>\n",
       "<style scoped>\n",
       "    .dataframe tbody tr th:only-of-type {\n",
       "        vertical-align: middle;\n",
       "    }\n",
       "\n",
       "    .dataframe tbody tr th {\n",
       "        vertical-align: top;\n",
       "    }\n",
       "\n",
       "    .dataframe thead th {\n",
       "        text-align: right;\n",
       "    }\n",
       "</style>\n",
       "<table border=\"1\" class=\"dataframe\">\n",
       "  <thead>\n",
       "    <tr style=\"text-align: right;\">\n",
       "      <th></th>\n",
       "      <th>ODATEDW</th>\n",
       "      <th>TCODE</th>\n",
       "      <th>DOB</th>\n",
       "      <th>AGE</th>\n",
       "      <th>INCOME</th>\n",
       "      <th>WEALTH1</th>\n",
       "      <th>HIT</th>\n",
       "      <th>MALEMILI</th>\n",
       "      <th>MALEVET</th>\n",
       "      <th>VIETVETS</th>\n",
       "      <th>...</th>\n",
       "      <th>GEOCODE2_C</th>\n",
       "      <th>GEOCODE2_D</th>\n",
       "      <th>DOMAIN_A_R</th>\n",
       "      <th>DOMAIN_A_S</th>\n",
       "      <th>DOMAIN_A_T</th>\n",
       "      <th>DOMAIN_A_U</th>\n",
       "      <th>DOMAIN_B_2</th>\n",
       "      <th>DOMAIN_B_3</th>\n",
       "      <th>DOMAIN_B_4</th>\n",
       "      <th>TARGET_B</th>\n",
       "    </tr>\n",
       "  </thead>\n",
       "  <tbody>\n",
       "    <tr>\n",
       "      <th>0</th>\n",
       "      <td>0.641577</td>\n",
       "      <td>0.000000</td>\n",
       "      <td>0.463543</td>\n",
       "      <td>0.536082</td>\n",
       "      <td>0.166667</td>\n",
       "      <td>0.333333</td>\n",
       "      <td>0.024896</td>\n",
       "      <td>0.000000</td>\n",
       "      <td>0.282828</td>\n",
       "      <td>0.282828</td>\n",
       "      <td>...</td>\n",
       "      <td>0.0</td>\n",
       "      <td>1.0</td>\n",
       "      <td>1.0</td>\n",
       "      <td>0.0</td>\n",
       "      <td>0.0</td>\n",
       "      <td>0.0</td>\n",
       "      <td>1.0</td>\n",
       "      <td>0.0</td>\n",
       "      <td>0.0</td>\n",
       "      <td>0</td>\n",
       "    </tr>\n",
       "    <tr>\n",
       "      <th>1</th>\n",
       "      <td>0.211470</td>\n",
       "      <td>0.000000</td>\n",
       "      <td>0.207106</td>\n",
       "      <td>0.783505</td>\n",
       "      <td>0.166667</td>\n",
       "      <td>0.666667</td>\n",
       "      <td>0.000000</td>\n",
       "      <td>0.010204</td>\n",
       "      <td>0.363636</td>\n",
       "      <td>0.444444</td>\n",
       "      <td>...</td>\n",
       "      <td>1.0</td>\n",
       "      <td>0.0</td>\n",
       "      <td>0.0</td>\n",
       "      <td>0.0</td>\n",
       "      <td>1.0</td>\n",
       "      <td>0.0</td>\n",
       "      <td>1.0</td>\n",
       "      <td>0.0</td>\n",
       "      <td>0.0</td>\n",
       "      <td>0</td>\n",
       "    </tr>\n",
       "    <tr>\n",
       "      <th>2</th>\n",
       "      <td>0.856631</td>\n",
       "      <td>0.000026</td>\n",
       "      <td>0.195778</td>\n",
       "      <td>0.804124</td>\n",
       "      <td>0.666667</td>\n",
       "      <td>0.666667</td>\n",
       "      <td>0.000000</td>\n",
       "      <td>0.000000</td>\n",
       "      <td>0.343434</td>\n",
       "      <td>1.000000</td>\n",
       "      <td>...</td>\n",
       "      <td>0.0</td>\n",
       "      <td>0.0</td>\n",
       "      <td>0.0</td>\n",
       "      <td>0.0</td>\n",
       "      <td>0.0</td>\n",
       "      <td>0.0</td>\n",
       "      <td>0.0</td>\n",
       "      <td>1.0</td>\n",
       "      <td>0.0</td>\n",
       "      <td>0</td>\n",
       "    </tr>\n",
       "    <tr>\n",
       "      <th>3</th>\n",
       "      <td>0.856631</td>\n",
       "      <td>0.000051</td>\n",
       "      <td>0.638620</td>\n",
       "      <td>0.360825</td>\n",
       "      <td>0.666667</td>\n",
       "      <td>0.666667</td>\n",
       "      <td>0.000000</td>\n",
       "      <td>0.000000</td>\n",
       "      <td>0.121212</td>\n",
       "      <td>0.262626</td>\n",
       "      <td>...</td>\n",
       "      <td>1.0</td>\n",
       "      <td>0.0</td>\n",
       "      <td>1.0</td>\n",
       "      <td>0.0</td>\n",
       "      <td>0.0</td>\n",
       "      <td>0.0</td>\n",
       "      <td>0.0</td>\n",
       "      <td>1.0</td>\n",
       "      <td>0.0</td>\n",
       "      <td>0</td>\n",
       "    </tr>\n",
       "    <tr>\n",
       "      <th>4</th>\n",
       "      <td>0.856631</td>\n",
       "      <td>0.000000</td>\n",
       "      <td>0.370855</td>\n",
       "      <td>0.628866</td>\n",
       "      <td>0.333333</td>\n",
       "      <td>0.666667</td>\n",
       "      <td>0.000000</td>\n",
       "      <td>0.000000</td>\n",
       "      <td>0.272727</td>\n",
       "      <td>0.303030</td>\n",
       "      <td>...</td>\n",
       "      <td>0.0</td>\n",
       "      <td>1.0</td>\n",
       "      <td>1.0</td>\n",
       "      <td>0.0</td>\n",
       "      <td>0.0</td>\n",
       "      <td>0.0</td>\n",
       "      <td>1.0</td>\n",
       "      <td>0.0</td>\n",
       "      <td>0.0</td>\n",
       "      <td>0</td>\n",
       "    </tr>\n",
       "    <tr>\n",
       "      <th>5</th>\n",
       "      <td>0.569892</td>\n",
       "      <td>0.000000</td>\n",
       "      <td>0.618023</td>\n",
       "      <td>0.381443</td>\n",
       "      <td>0.666667</td>\n",
       "      <td>0.888889</td>\n",
       "      <td>0.016598</td>\n",
       "      <td>0.183673</td>\n",
       "      <td>0.262626</td>\n",
       "      <td>0.505051</td>\n",
       "      <td>...</td>\n",
       "      <td>0.0</td>\n",
       "      <td>0.0</td>\n",
       "      <td>0.0</td>\n",
       "      <td>1.0</td>\n",
       "      <td>0.0</td>\n",
       "      <td>0.0</td>\n",
       "      <td>0.0</td>\n",
       "      <td>0.0</td>\n",
       "      <td>0.0</td>\n",
       "      <td>0</td>\n",
       "    </tr>\n",
       "    <tr>\n",
       "      <th>6</th>\n",
       "      <td>0.784946</td>\n",
       "      <td>0.000000</td>\n",
       "      <td>0.000000</td>\n",
       "      <td>0.624862</td>\n",
       "      <td>0.166667</td>\n",
       "      <td>0.666667</td>\n",
       "      <td>0.000000</td>\n",
       "      <td>0.020408</td>\n",
       "      <td>0.242424</td>\n",
       "      <td>0.676768</td>\n",
       "      <td>...</td>\n",
       "      <td>0.0</td>\n",
       "      <td>0.0</td>\n",
       "      <td>1.0</td>\n",
       "      <td>0.0</td>\n",
       "      <td>0.0</td>\n",
       "      <td>0.0</td>\n",
       "      <td>0.0</td>\n",
       "      <td>1.0</td>\n",
       "      <td>0.0</td>\n",
       "      <td>0</td>\n",
       "    </tr>\n",
       "    <tr>\n",
       "      <th>7</th>\n",
       "      <td>0.856631</td>\n",
       "      <td>0.000026</td>\n",
       "      <td>0.226674</td>\n",
       "      <td>0.773196</td>\n",
       "      <td>1.000000</td>\n",
       "      <td>0.444444</td>\n",
       "      <td>0.066390</td>\n",
       "      <td>0.000000</td>\n",
       "      <td>0.444444</td>\n",
       "      <td>0.272727</td>\n",
       "      <td>...</td>\n",
       "      <td>1.0</td>\n",
       "      <td>0.0</td>\n",
       "      <td>0.0</td>\n",
       "      <td>0.0</td>\n",
       "      <td>0.0</td>\n",
       "      <td>0.0</td>\n",
       "      <td>1.0</td>\n",
       "      <td>0.0</td>\n",
       "      <td>0.0</td>\n",
       "      <td>1</td>\n",
       "    </tr>\n",
       "    <tr>\n",
       "      <th>8</th>\n",
       "      <td>0.569892</td>\n",
       "      <td>0.000000</td>\n",
       "      <td>0.567456</td>\n",
       "      <td>0.422680</td>\n",
       "      <td>0.666667</td>\n",
       "      <td>0.666667</td>\n",
       "      <td>0.004149</td>\n",
       "      <td>0.000000</td>\n",
       "      <td>0.404040</td>\n",
       "      <td>0.232323</td>\n",
       "      <td>...</td>\n",
       "      <td>0.0</td>\n",
       "      <td>0.0</td>\n",
       "      <td>0.0</td>\n",
       "      <td>1.0</td>\n",
       "      <td>0.0</td>\n",
       "      <td>0.0</td>\n",
       "      <td>0.0</td>\n",
       "      <td>1.0</td>\n",
       "      <td>0.0</td>\n",
       "      <td>0</td>\n",
       "    </tr>\n",
       "    <tr>\n",
       "      <th>9</th>\n",
       "      <td>0.928315</td>\n",
       "      <td>0.000026</td>\n",
       "      <td>0.545932</td>\n",
       "      <td>0.453608</td>\n",
       "      <td>0.833333</td>\n",
       "      <td>0.111111</td>\n",
       "      <td>0.004149</td>\n",
       "      <td>0.000000</td>\n",
       "      <td>0.222222</td>\n",
       "      <td>0.272727</td>\n",
       "      <td>...</td>\n",
       "      <td>0.0</td>\n",
       "      <td>1.0</td>\n",
       "      <td>1.0</td>\n",
       "      <td>0.0</td>\n",
       "      <td>0.0</td>\n",
       "      <td>0.0</td>\n",
       "      <td>0.0</td>\n",
       "      <td>1.0</td>\n",
       "      <td>0.0</td>\n",
       "      <td>0</td>\n",
       "    </tr>\n",
       "  </tbody>\n",
       "</table>\n",
       "<p>10 rows × 356 columns</p>\n",
       "</div>"
      ],
      "text/plain": [
       "    ODATEDW     TCODE       DOB       AGE    INCOME   WEALTH1       HIT  \\\n",
       "0  0.641577  0.000000  0.463543  0.536082  0.166667  0.333333  0.024896   \n",
       "1  0.211470  0.000000  0.207106  0.783505  0.166667  0.666667  0.000000   \n",
       "2  0.856631  0.000026  0.195778  0.804124  0.666667  0.666667  0.000000   \n",
       "3  0.856631  0.000051  0.638620  0.360825  0.666667  0.666667  0.000000   \n",
       "4  0.856631  0.000000  0.370855  0.628866  0.333333  0.666667  0.000000   \n",
       "5  0.569892  0.000000  0.618023  0.381443  0.666667  0.888889  0.016598   \n",
       "6  0.784946  0.000000  0.000000  0.624862  0.166667  0.666667  0.000000   \n",
       "7  0.856631  0.000026  0.226674  0.773196  1.000000  0.444444  0.066390   \n",
       "8  0.569892  0.000000  0.567456  0.422680  0.666667  0.666667  0.004149   \n",
       "9  0.928315  0.000026  0.545932  0.453608  0.833333  0.111111  0.004149   \n",
       "\n",
       "   MALEMILI   MALEVET  VIETVETS  ...  GEOCODE2_C  GEOCODE2_D  DOMAIN_A_R  \\\n",
       "0  0.000000  0.282828  0.282828  ...         0.0         1.0         1.0   \n",
       "1  0.010204  0.363636  0.444444  ...         1.0         0.0         0.0   \n",
       "2  0.000000  0.343434  1.000000  ...         0.0         0.0         0.0   \n",
       "3  0.000000  0.121212  0.262626  ...         1.0         0.0         1.0   \n",
       "4  0.000000  0.272727  0.303030  ...         0.0         1.0         1.0   \n",
       "5  0.183673  0.262626  0.505051  ...         0.0         0.0         0.0   \n",
       "6  0.020408  0.242424  0.676768  ...         0.0         0.0         1.0   \n",
       "7  0.000000  0.444444  0.272727  ...         1.0         0.0         0.0   \n",
       "8  0.000000  0.404040  0.232323  ...         0.0         0.0         0.0   \n",
       "9  0.000000  0.222222  0.272727  ...         0.0         1.0         1.0   \n",
       "\n",
       "   DOMAIN_A_S  DOMAIN_A_T  DOMAIN_A_U  DOMAIN_B_2  DOMAIN_B_3  DOMAIN_B_4  \\\n",
       "0         0.0         0.0         0.0         1.0         0.0         0.0   \n",
       "1         0.0         1.0         0.0         1.0         0.0         0.0   \n",
       "2         0.0         0.0         0.0         0.0         1.0         0.0   \n",
       "3         0.0         0.0         0.0         0.0         1.0         0.0   \n",
       "4         0.0         0.0         0.0         1.0         0.0         0.0   \n",
       "5         1.0         0.0         0.0         0.0         0.0         0.0   \n",
       "6         0.0         0.0         0.0         0.0         1.0         0.0   \n",
       "7         0.0         0.0         0.0         1.0         0.0         0.0   \n",
       "8         1.0         0.0         0.0         0.0         1.0         0.0   \n",
       "9         0.0         0.0         0.0         0.0         1.0         0.0   \n",
       "\n",
       "   TARGET_B  \n",
       "0         0  \n",
       "1         0  \n",
       "2         0  \n",
       "3         0  \n",
       "4         0  \n",
       "5         0  \n",
       "6         0  \n",
       "7         1  \n",
       "8         0  \n",
       "9         0  \n",
       "\n",
       "[10 rows x 356 columns]"
      ]
     },
     "execution_count": 155,
     "metadata": {},
     "output_type": "execute_result"
    }
   ],
   "source": [
    "# oversampling / undersampling is only to be done on the TRAINING set\n",
    "train_set = pd.concat([X_train, y_train],axis=1)\n",
    "train_set.head(10)"
   ]
  },
  {
   "cell_type": "code",
   "execution_count": 166,
   "id": "c87a6f7b",
   "metadata": {},
   "outputs": [],
   "source": [
    "#train_set.isna().sum()"
   ]
  },
  {
   "cell_type": "code",
   "execution_count": 157,
   "id": "6ca77177",
   "metadata": {},
   "outputs": [],
   "source": [
    "# separate majority/minority classes\n",
    "category_0 = train_set[train_set['TARGET_B'] == 0]\n",
    "category_1 = train_set[train_set['TARGET_B'] == 1]"
   ]
  },
  {
   "cell_type": "markdown",
   "id": "c76aba10",
   "metadata": {},
   "source": [
    "#### Downsampling (undersampling)"
   ]
  },
  {
   "cell_type": "code",
   "execution_count": 158,
   "id": "35d2c5e1",
   "metadata": {},
   "outputs": [],
   "source": [
    "from sklearn.utils import resample"
   ]
  },
  {
   "cell_type": "code",
   "execution_count": 159,
   "id": "6af47e35",
   "metadata": {},
   "outputs": [],
   "source": [
    "category_0_undersampled = resample(category_0, \n",
    "                                   replace=True, \n",
    "                                   n_samples = len(category_1))"
   ]
  },
  {
   "cell_type": "code",
   "execution_count": 160,
   "id": "0608d93d",
   "metadata": {},
   "outputs": [
    {
     "name": "stdout",
     "output_type": "stream",
     "text": [
      "(3639, 356)\n",
      "(3639, 356)\n"
     ]
    }
   ],
   "source": [
    "print(category_0_undersampled.shape)\n",
    "print(category_1.shape)"
   ]
  },
  {
   "cell_type": "code",
   "execution_count": 161,
   "id": "55ce4067",
   "metadata": {},
   "outputs": [],
   "source": [
    "data_downsampled = pd.concat([category_0_undersampled, category_1], axis=0)"
   ]
  },
  {
   "cell_type": "code",
   "execution_count": 162,
   "id": "e54acc36",
   "metadata": {},
   "outputs": [
    {
     "data": {
      "text/plain": [
       "0    3639\n",
       "1    3639\n",
       "Name: TARGET_B, dtype: int64"
      ]
     },
     "execution_count": 162,
     "metadata": {},
     "output_type": "execute_result"
    }
   ],
   "source": [
    "data_downsampled['TARGET_B'].value_counts()"
   ]
  },
  {
   "cell_type": "markdown",
   "id": "23c541df",
   "metadata": {},
   "source": [
    "#### Each time fit the model and see how the accuracy of the model has changed."
   ]
  },
  {
   "cell_type": "code",
   "execution_count": 163,
   "id": "e42557a3",
   "metadata": {},
   "outputs": [],
   "source": [
    "X_train_under = data_downsampled.drop(['TARGET_B'], axis=1)\n",
    "y_train_under = data_downsampled['TARGET_B']"
   ]
  },
  {
   "cell_type": "code",
   "execution_count": 164,
   "id": "89b9f83a",
   "metadata": {},
   "outputs": [
    {
     "data": {
      "text/html": [
       "<div>\n",
       "<style scoped>\n",
       "    .dataframe tbody tr th:only-of-type {\n",
       "        vertical-align: middle;\n",
       "    }\n",
       "\n",
       "    .dataframe tbody tr th {\n",
       "        vertical-align: top;\n",
       "    }\n",
       "\n",
       "    .dataframe thead th {\n",
       "        text-align: right;\n",
       "    }\n",
       "</style>\n",
       "<table border=\"1\" class=\"dataframe\">\n",
       "  <thead>\n",
       "    <tr style=\"text-align: right;\">\n",
       "      <th></th>\n",
       "      <th>ODATEDW</th>\n",
       "      <th>TCODE</th>\n",
       "      <th>DOB</th>\n",
       "      <th>AGE</th>\n",
       "      <th>INCOME</th>\n",
       "      <th>WEALTH1</th>\n",
       "      <th>HIT</th>\n",
       "      <th>MALEMILI</th>\n",
       "      <th>MALEVET</th>\n",
       "      <th>VIETVETS</th>\n",
       "      <th>...</th>\n",
       "      <th>GEOCODE2_B</th>\n",
       "      <th>GEOCODE2_C</th>\n",
       "      <th>GEOCODE2_D</th>\n",
       "      <th>DOMAIN_A_R</th>\n",
       "      <th>DOMAIN_A_S</th>\n",
       "      <th>DOMAIN_A_T</th>\n",
       "      <th>DOMAIN_A_U</th>\n",
       "      <th>DOMAIN_B_2</th>\n",
       "      <th>DOMAIN_B_3</th>\n",
       "      <th>DOMAIN_B_4</th>\n",
       "    </tr>\n",
       "  </thead>\n",
       "  <tbody>\n",
       "    <tr>\n",
       "      <th>59324</th>\n",
       "      <td>0.498208</td>\n",
       "      <td>0.000000</td>\n",
       "      <td>0.267868</td>\n",
       "      <td>0.731959</td>\n",
       "      <td>0.000000</td>\n",
       "      <td>1.000000</td>\n",
       "      <td>0.012448</td>\n",
       "      <td>0.000000</td>\n",
       "      <td>0.303030</td>\n",
       "      <td>0.313131</td>\n",
       "      <td>...</td>\n",
       "      <td>1.0</td>\n",
       "      <td>0.0</td>\n",
       "      <td>0.0</td>\n",
       "      <td>0.0</td>\n",
       "      <td>1.0</td>\n",
       "      <td>0.0</td>\n",
       "      <td>0.0</td>\n",
       "      <td>0.0</td>\n",
       "      <td>0.0</td>\n",
       "      <td>0.0</td>\n",
       "    </tr>\n",
       "    <tr>\n",
       "      <th>3814</th>\n",
       "      <td>0.426523</td>\n",
       "      <td>0.000051</td>\n",
       "      <td>0.041298</td>\n",
       "      <td>0.958763</td>\n",
       "      <td>0.666667</td>\n",
       "      <td>0.333333</td>\n",
       "      <td>0.000000</td>\n",
       "      <td>0.000000</td>\n",
       "      <td>0.353535</td>\n",
       "      <td>0.141414</td>\n",
       "      <td>...</td>\n",
       "      <td>0.0</td>\n",
       "      <td>1.0</td>\n",
       "      <td>0.0</td>\n",
       "      <td>1.0</td>\n",
       "      <td>0.0</td>\n",
       "      <td>0.0</td>\n",
       "      <td>0.0</td>\n",
       "      <td>0.0</td>\n",
       "      <td>1.0</td>\n",
       "      <td>0.0</td>\n",
       "    </tr>\n",
       "    <tr>\n",
       "      <th>32251</th>\n",
       "      <td>0.211470</td>\n",
       "      <td>0.000000</td>\n",
       "      <td>0.000000</td>\n",
       "      <td>0.624862</td>\n",
       "      <td>0.666667</td>\n",
       "      <td>0.666667</td>\n",
       "      <td>0.000000</td>\n",
       "      <td>0.010204</td>\n",
       "      <td>0.373737</td>\n",
       "      <td>0.373737</td>\n",
       "      <td>...</td>\n",
       "      <td>0.0</td>\n",
       "      <td>0.0</td>\n",
       "      <td>0.0</td>\n",
       "      <td>1.0</td>\n",
       "      <td>0.0</td>\n",
       "      <td>0.0</td>\n",
       "      <td>0.0</td>\n",
       "      <td>0.0</td>\n",
       "      <td>0.0</td>\n",
       "      <td>0.0</td>\n",
       "    </tr>\n",
       "    <tr>\n",
       "      <th>15933</th>\n",
       "      <td>0.498208</td>\n",
       "      <td>0.025127</td>\n",
       "      <td>0.000000</td>\n",
       "      <td>0.624862</td>\n",
       "      <td>0.666667</td>\n",
       "      <td>0.666667</td>\n",
       "      <td>0.000000</td>\n",
       "      <td>0.000000</td>\n",
       "      <td>0.181818</td>\n",
       "      <td>0.141414</td>\n",
       "      <td>...</td>\n",
       "      <td>0.0</td>\n",
       "      <td>0.0</td>\n",
       "      <td>0.0</td>\n",
       "      <td>1.0</td>\n",
       "      <td>0.0</td>\n",
       "      <td>0.0</td>\n",
       "      <td>0.0</td>\n",
       "      <td>0.0</td>\n",
       "      <td>1.0</td>\n",
       "      <td>0.0</td>\n",
       "    </tr>\n",
       "    <tr>\n",
       "      <th>10754</th>\n",
       "      <td>0.856631</td>\n",
       "      <td>0.000051</td>\n",
       "      <td>0.257570</td>\n",
       "      <td>0.742268</td>\n",
       "      <td>0.166667</td>\n",
       "      <td>0.888889</td>\n",
       "      <td>0.033195</td>\n",
       "      <td>0.000000</td>\n",
       "      <td>0.414141</td>\n",
       "      <td>0.606061</td>\n",
       "      <td>...</td>\n",
       "      <td>1.0</td>\n",
       "      <td>0.0</td>\n",
       "      <td>0.0</td>\n",
       "      <td>1.0</td>\n",
       "      <td>0.0</td>\n",
       "      <td>0.0</td>\n",
       "      <td>0.0</td>\n",
       "      <td>1.0</td>\n",
       "      <td>0.0</td>\n",
       "      <td>0.0</td>\n",
       "    </tr>\n",
       "    <tr>\n",
       "      <th>39674</th>\n",
       "      <td>0.211470</td>\n",
       "      <td>0.000026</td>\n",
       "      <td>0.484140</td>\n",
       "      <td>0.515464</td>\n",
       "      <td>0.833333</td>\n",
       "      <td>0.666667</td>\n",
       "      <td>0.000000</td>\n",
       "      <td>0.000000</td>\n",
       "      <td>0.343434</td>\n",
       "      <td>0.303030</td>\n",
       "      <td>...</td>\n",
       "      <td>1.0</td>\n",
       "      <td>0.0</td>\n",
       "      <td>0.0</td>\n",
       "      <td>0.0</td>\n",
       "      <td>1.0</td>\n",
       "      <td>0.0</td>\n",
       "      <td>0.0</td>\n",
       "      <td>0.0</td>\n",
       "      <td>0.0</td>\n",
       "      <td>0.0</td>\n",
       "    </tr>\n",
       "    <tr>\n",
       "      <th>4512</th>\n",
       "      <td>0.928315</td>\n",
       "      <td>0.000026</td>\n",
       "      <td>0.679815</td>\n",
       "      <td>0.319588</td>\n",
       "      <td>0.166667</td>\n",
       "      <td>0.222222</td>\n",
       "      <td>0.000000</td>\n",
       "      <td>0.000000</td>\n",
       "      <td>0.212121</td>\n",
       "      <td>0.404040</td>\n",
       "      <td>...</td>\n",
       "      <td>0.0</td>\n",
       "      <td>0.0</td>\n",
       "      <td>0.0</td>\n",
       "      <td>0.0</td>\n",
       "      <td>0.0</td>\n",
       "      <td>0.0</td>\n",
       "      <td>1.0</td>\n",
       "      <td>1.0</td>\n",
       "      <td>0.0</td>\n",
       "      <td>0.0</td>\n",
       "    </tr>\n",
       "    <tr>\n",
       "      <th>62627</th>\n",
       "      <td>0.856631</td>\n",
       "      <td>0.000000</td>\n",
       "      <td>0.000000</td>\n",
       "      <td>0.624862</td>\n",
       "      <td>0.666667</td>\n",
       "      <td>0.666667</td>\n",
       "      <td>0.000000</td>\n",
       "      <td>0.000000</td>\n",
       "      <td>0.242424</td>\n",
       "      <td>0.333333</td>\n",
       "      <td>...</td>\n",
       "      <td>0.0</td>\n",
       "      <td>1.0</td>\n",
       "      <td>0.0</td>\n",
       "      <td>0.0</td>\n",
       "      <td>0.0</td>\n",
       "      <td>1.0</td>\n",
       "      <td>0.0</td>\n",
       "      <td>1.0</td>\n",
       "      <td>0.0</td>\n",
       "      <td>0.0</td>\n",
       "    </tr>\n",
       "    <tr>\n",
       "      <th>21681</th>\n",
       "      <td>0.354839</td>\n",
       "      <td>0.000000</td>\n",
       "      <td>0.165602</td>\n",
       "      <td>0.824742</td>\n",
       "      <td>0.500000</td>\n",
       "      <td>0.777778</td>\n",
       "      <td>0.074689</td>\n",
       "      <td>0.000000</td>\n",
       "      <td>0.444444</td>\n",
       "      <td>0.101010</td>\n",
       "      <td>...</td>\n",
       "      <td>0.0</td>\n",
       "      <td>0.0</td>\n",
       "      <td>1.0</td>\n",
       "      <td>1.0</td>\n",
       "      <td>0.0</td>\n",
       "      <td>0.0</td>\n",
       "      <td>0.0</td>\n",
       "      <td>1.0</td>\n",
       "      <td>0.0</td>\n",
       "      <td>0.0</td>\n",
       "    </tr>\n",
       "    <tr>\n",
       "      <th>57423</th>\n",
       "      <td>0.641577</td>\n",
       "      <td>0.000000</td>\n",
       "      <td>0.000000</td>\n",
       "      <td>0.624862</td>\n",
       "      <td>0.666667</td>\n",
       "      <td>0.666667</td>\n",
       "      <td>0.000000</td>\n",
       "      <td>0.000000</td>\n",
       "      <td>0.333333</td>\n",
       "      <td>0.373737</td>\n",
       "      <td>...</td>\n",
       "      <td>0.0</td>\n",
       "      <td>0.0</td>\n",
       "      <td>1.0</td>\n",
       "      <td>1.0</td>\n",
       "      <td>0.0</td>\n",
       "      <td>0.0</td>\n",
       "      <td>0.0</td>\n",
       "      <td>1.0</td>\n",
       "      <td>0.0</td>\n",
       "      <td>0.0</td>\n",
       "    </tr>\n",
       "  </tbody>\n",
       "</table>\n",
       "<p>10 rows × 355 columns</p>\n",
       "</div>"
      ],
      "text/plain": [
       "        ODATEDW     TCODE       DOB       AGE    INCOME   WEALTH1       HIT  \\\n",
       "59324  0.498208  0.000000  0.267868  0.731959  0.000000  1.000000  0.012448   \n",
       "3814   0.426523  0.000051  0.041298  0.958763  0.666667  0.333333  0.000000   \n",
       "32251  0.211470  0.000000  0.000000  0.624862  0.666667  0.666667  0.000000   \n",
       "15933  0.498208  0.025127  0.000000  0.624862  0.666667  0.666667  0.000000   \n",
       "10754  0.856631  0.000051  0.257570  0.742268  0.166667  0.888889  0.033195   \n",
       "39674  0.211470  0.000026  0.484140  0.515464  0.833333  0.666667  0.000000   \n",
       "4512   0.928315  0.000026  0.679815  0.319588  0.166667  0.222222  0.000000   \n",
       "62627  0.856631  0.000000  0.000000  0.624862  0.666667  0.666667  0.000000   \n",
       "21681  0.354839  0.000000  0.165602  0.824742  0.500000  0.777778  0.074689   \n",
       "57423  0.641577  0.000000  0.000000  0.624862  0.666667  0.666667  0.000000   \n",
       "\n",
       "       MALEMILI   MALEVET  VIETVETS  ...  GEOCODE2_B  GEOCODE2_C  GEOCODE2_D  \\\n",
       "59324  0.000000  0.303030  0.313131  ...         1.0         0.0         0.0   \n",
       "3814   0.000000  0.353535  0.141414  ...         0.0         1.0         0.0   \n",
       "32251  0.010204  0.373737  0.373737  ...         0.0         0.0         0.0   \n",
       "15933  0.000000  0.181818  0.141414  ...         0.0         0.0         0.0   \n",
       "10754  0.000000  0.414141  0.606061  ...         1.0         0.0         0.0   \n",
       "39674  0.000000  0.343434  0.303030  ...         1.0         0.0         0.0   \n",
       "4512   0.000000  0.212121  0.404040  ...         0.0         0.0         0.0   \n",
       "62627  0.000000  0.242424  0.333333  ...         0.0         1.0         0.0   \n",
       "21681  0.000000  0.444444  0.101010  ...         0.0         0.0         1.0   \n",
       "57423  0.000000  0.333333  0.373737  ...         0.0         0.0         1.0   \n",
       "\n",
       "       DOMAIN_A_R  DOMAIN_A_S  DOMAIN_A_T  DOMAIN_A_U  DOMAIN_B_2  DOMAIN_B_3  \\\n",
       "59324         0.0         1.0         0.0         0.0         0.0         0.0   \n",
       "3814          1.0         0.0         0.0         0.0         0.0         1.0   \n",
       "32251         1.0         0.0         0.0         0.0         0.0         0.0   \n",
       "15933         1.0         0.0         0.0         0.0         0.0         1.0   \n",
       "10754         1.0         0.0         0.0         0.0         1.0         0.0   \n",
       "39674         0.0         1.0         0.0         0.0         0.0         0.0   \n",
       "4512          0.0         0.0         0.0         1.0         1.0         0.0   \n",
       "62627         0.0         0.0         1.0         0.0         1.0         0.0   \n",
       "21681         1.0         0.0         0.0         0.0         1.0         0.0   \n",
       "57423         1.0         0.0         0.0         0.0         1.0         0.0   \n",
       "\n",
       "       DOMAIN_B_4  \n",
       "59324         0.0  \n",
       "3814          0.0  \n",
       "32251         0.0  \n",
       "15933         0.0  \n",
       "10754         0.0  \n",
       "39674         0.0  \n",
       "4512          0.0  \n",
       "62627         0.0  \n",
       "21681         0.0  \n",
       "57423         0.0  \n",
       "\n",
       "[10 rows x 355 columns]"
      ]
     },
     "execution_count": 164,
     "metadata": {},
     "output_type": "execute_result"
    }
   ],
   "source": [
    "X_train_under.head(10)"
   ]
  },
  {
   "cell_type": "code",
   "execution_count": 167,
   "id": "7524adbd",
   "metadata": {},
   "outputs": [],
   "source": [
    "model_under = LogisticRegression(solver='lbfgs',\n",
    "                  multi_class='auto', max_iter = 1000).fit(X_train_under, y_train_under)"
   ]
  },
  {
   "cell_type": "code",
   "execution_count": 168,
   "id": "5840926f",
   "metadata": {},
   "outputs": [],
   "source": [
    "predictions_under = model_under.predict(X_test)"
   ]
  },
  {
   "cell_type": "code",
   "execution_count": 169,
   "id": "892115e8",
   "metadata": {},
   "outputs": [
    {
     "data": {
      "text/plain": [
       "array([[13269,  9380],\n",
       "       [  520,   684]], dtype=int64)"
      ]
     },
     "execution_count": 169,
     "metadata": {},
     "output_type": "execute_result"
    }
   ],
   "source": [
    "confusion_matrix(y_test, predictions_under)"
   ]
  },
  {
   "cell_type": "code",
   "execution_count": 170,
   "id": "6aa2adbb",
   "metadata": {},
   "outputs": [
    {
     "data": {
      "text/plain": [
       "0.5"
      ]
     },
     "metadata": {},
     "output_type": "display_data"
    },
    {
     "data": {
      "text/plain": [
       "0.9495241688676477"
      ]
     },
     "metadata": {},
     "output_type": "display_data"
    }
   ],
   "source": [
    "display(model.score(X_train_under, y_train_under))\n",
    "display(model.score(X_test, y_test))"
   ]
  },
  {
   "cell_type": "code",
   "execution_count": 171,
   "id": "046861dc",
   "metadata": {},
   "outputs": [
    {
     "name": "stdout",
     "output_type": "stream",
     "text": [
      "precision:  0.0679650238473768\n",
      "recall:  0.5681063122923588\n",
      "f1:  0.12140575079872204\n"
     ]
    }
   ],
   "source": [
    "print(\"precision: \",precision_score(y_test,predictions_under, average='binary', pos_label = 1, labels=[1, 0]))\n",
    "print(\"recall: \",recall_score(y_test,predictions_under, average='binary', pos_label = 1, labels=[1, 0]))\n",
    "print(\"f1: \",f1_score(y_test,predictions_under, average='binary', pos_label = 1, labels=[1, 0]))"
   ]
  },
  {
   "cell_type": "markdown",
   "id": "dc019fd4",
   "metadata": {},
   "source": [
    "##### Score of train data got worse (before was approx. 95%), score for test data remains the same, but there were correct predictions now for 1 (can be seen at confusion matrix and that we got scores for precision, recall and f1 higher than 0). Undersampling the 0 seems to be not a good idea, because now more than half of the 0 were falsely predicted as 1 (false positive)"
   ]
  },
  {
   "cell_type": "markdown",
   "id": "01528f0a",
   "metadata": {},
   "source": [
    "#### Oversampling"
   ]
  },
  {
   "cell_type": "code",
   "execution_count": 172,
   "id": "06d22d74",
   "metadata": {},
   "outputs": [],
   "source": [
    "# oversample minority\n",
    "category_1_oversampled = resample(category_1, \n",
    "                                    replace=True,            \n",
    "                                    n_samples = len(category_0))  "
   ]
  },
  {
   "cell_type": "code",
   "execution_count": 173,
   "id": "bcf900fe",
   "metadata": {},
   "outputs": [
    {
     "name": "stdout",
     "output_type": "stream",
     "text": [
      "(67920, 356)\n",
      "(67920, 356)\n"
     ]
    }
   ],
   "source": [
    "print(category_1_oversampled.shape)\n",
    "print(category_0.shape)"
   ]
  },
  {
   "cell_type": "code",
   "execution_count": 174,
   "id": "f75b1ecf",
   "metadata": {},
   "outputs": [],
   "source": [
    "data_oversampled = pd.concat([category_1_oversampled, category_0], axis=0)"
   ]
  },
  {
   "cell_type": "code",
   "execution_count": 175,
   "id": "824ed06c",
   "metadata": {},
   "outputs": [],
   "source": [
    "X_train_over = data_oversampled.drop(['TARGET_B'], axis=1)\n",
    "y_train_over = data_oversampled['TARGET_B']"
   ]
  },
  {
   "cell_type": "code",
   "execution_count": 176,
   "id": "1137f968",
   "metadata": {},
   "outputs": [
    {
     "data": {
      "text/html": [
       "<div>\n",
       "<style scoped>\n",
       "    .dataframe tbody tr th:only-of-type {\n",
       "        vertical-align: middle;\n",
       "    }\n",
       "\n",
       "    .dataframe tbody tr th {\n",
       "        vertical-align: top;\n",
       "    }\n",
       "\n",
       "    .dataframe thead th {\n",
       "        text-align: right;\n",
       "    }\n",
       "</style>\n",
       "<table border=\"1\" class=\"dataframe\">\n",
       "  <thead>\n",
       "    <tr style=\"text-align: right;\">\n",
       "      <th></th>\n",
       "      <th>ODATEDW</th>\n",
       "      <th>TCODE</th>\n",
       "      <th>DOB</th>\n",
       "      <th>AGE</th>\n",
       "      <th>INCOME</th>\n",
       "      <th>WEALTH1</th>\n",
       "      <th>HIT</th>\n",
       "      <th>MALEMILI</th>\n",
       "      <th>MALEVET</th>\n",
       "      <th>VIETVETS</th>\n",
       "      <th>...</th>\n",
       "      <th>GEOCODE2_B</th>\n",
       "      <th>GEOCODE2_C</th>\n",
       "      <th>GEOCODE2_D</th>\n",
       "      <th>DOMAIN_A_R</th>\n",
       "      <th>DOMAIN_A_S</th>\n",
       "      <th>DOMAIN_A_T</th>\n",
       "      <th>DOMAIN_A_U</th>\n",
       "      <th>DOMAIN_B_2</th>\n",
       "      <th>DOMAIN_B_3</th>\n",
       "      <th>DOMAIN_B_4</th>\n",
       "    </tr>\n",
       "  </thead>\n",
       "  <tbody>\n",
       "    <tr>\n",
       "      <th>42551</th>\n",
       "      <td>0.211470</td>\n",
       "      <td>0.000026</td>\n",
       "      <td>0.144284</td>\n",
       "      <td>0.855670</td>\n",
       "      <td>0.500000</td>\n",
       "      <td>0.777778</td>\n",
       "      <td>0.161826</td>\n",
       "      <td>0.000000</td>\n",
       "      <td>0.373737</td>\n",
       "      <td>0.303030</td>\n",
       "      <td>...</td>\n",
       "      <td>0.0</td>\n",
       "      <td>0.0</td>\n",
       "      <td>0.0</td>\n",
       "      <td>0.0</td>\n",
       "      <td>0.0</td>\n",
       "      <td>0.0</td>\n",
       "      <td>0.0</td>\n",
       "      <td>0.0</td>\n",
       "      <td>0.0</td>\n",
       "      <td>0.0</td>\n",
       "    </tr>\n",
       "    <tr>\n",
       "      <th>62126</th>\n",
       "      <td>0.211470</td>\n",
       "      <td>0.000000</td>\n",
       "      <td>0.278579</td>\n",
       "      <td>0.721649</td>\n",
       "      <td>0.666667</td>\n",
       "      <td>0.666667</td>\n",
       "      <td>0.000000</td>\n",
       "      <td>0.000000</td>\n",
       "      <td>0.343434</td>\n",
       "      <td>0.222222</td>\n",
       "      <td>...</td>\n",
       "      <td>0.0</td>\n",
       "      <td>0.0</td>\n",
       "      <td>1.0</td>\n",
       "      <td>0.0</td>\n",
       "      <td>0.0</td>\n",
       "      <td>1.0</td>\n",
       "      <td>0.0</td>\n",
       "      <td>1.0</td>\n",
       "      <td>0.0</td>\n",
       "      <td>0.0</td>\n",
       "    </tr>\n",
       "    <tr>\n",
       "      <th>9510</th>\n",
       "      <td>0.498208</td>\n",
       "      <td>0.000000</td>\n",
       "      <td>0.000000</td>\n",
       "      <td>0.624862</td>\n",
       "      <td>0.666667</td>\n",
       "      <td>0.666667</td>\n",
       "      <td>0.000000</td>\n",
       "      <td>0.000000</td>\n",
       "      <td>0.515152</td>\n",
       "      <td>0.313131</td>\n",
       "      <td>...</td>\n",
       "      <td>0.0</td>\n",
       "      <td>0.0</td>\n",
       "      <td>0.0</td>\n",
       "      <td>0.0</td>\n",
       "      <td>0.0</td>\n",
       "      <td>0.0</td>\n",
       "      <td>0.0</td>\n",
       "      <td>1.0</td>\n",
       "      <td>0.0</td>\n",
       "      <td>0.0</td>\n",
       "    </tr>\n",
       "    <tr>\n",
       "      <th>42820</th>\n",
       "      <td>0.928315</td>\n",
       "      <td>0.000000</td>\n",
       "      <td>0.000000</td>\n",
       "      <td>0.624862</td>\n",
       "      <td>0.000000</td>\n",
       "      <td>0.666667</td>\n",
       "      <td>0.000000</td>\n",
       "      <td>0.000000</td>\n",
       "      <td>0.404040</td>\n",
       "      <td>0.303030</td>\n",
       "      <td>...</td>\n",
       "      <td>0.0</td>\n",
       "      <td>0.0</td>\n",
       "      <td>1.0</td>\n",
       "      <td>1.0</td>\n",
       "      <td>0.0</td>\n",
       "      <td>0.0</td>\n",
       "      <td>0.0</td>\n",
       "      <td>1.0</td>\n",
       "      <td>0.0</td>\n",
       "      <td>0.0</td>\n",
       "    </tr>\n",
       "    <tr>\n",
       "      <th>68191</th>\n",
       "      <td>0.784946</td>\n",
       "      <td>0.000718</td>\n",
       "      <td>0.000000</td>\n",
       "      <td>0.624862</td>\n",
       "      <td>0.666667</td>\n",
       "      <td>0.666667</td>\n",
       "      <td>0.000000</td>\n",
       "      <td>0.000000</td>\n",
       "      <td>0.191919</td>\n",
       "      <td>0.535354</td>\n",
       "      <td>...</td>\n",
       "      <td>0.0</td>\n",
       "      <td>0.0</td>\n",
       "      <td>0.0</td>\n",
       "      <td>0.0</td>\n",
       "      <td>0.0</td>\n",
       "      <td>0.0</td>\n",
       "      <td>1.0</td>\n",
       "      <td>0.0</td>\n",
       "      <td>0.0</td>\n",
       "      <td>0.0</td>\n",
       "    </tr>\n",
       "    <tr>\n",
       "      <th>8000</th>\n",
       "      <td>0.211470</td>\n",
       "      <td>0.000103</td>\n",
       "      <td>0.196292</td>\n",
       "      <td>0.804124</td>\n",
       "      <td>0.666667</td>\n",
       "      <td>0.777778</td>\n",
       "      <td>0.024896</td>\n",
       "      <td>0.000000</td>\n",
       "      <td>0.464646</td>\n",
       "      <td>0.292929</td>\n",
       "      <td>...</td>\n",
       "      <td>0.0</td>\n",
       "      <td>0.0</td>\n",
       "      <td>1.0</td>\n",
       "      <td>1.0</td>\n",
       "      <td>0.0</td>\n",
       "      <td>0.0</td>\n",
       "      <td>0.0</td>\n",
       "      <td>0.0</td>\n",
       "      <td>0.0</td>\n",
       "      <td>0.0</td>\n",
       "    </tr>\n",
       "    <tr>\n",
       "      <th>64976</th>\n",
       "      <td>0.211470</td>\n",
       "      <td>0.000077</td>\n",
       "      <td>0.000000</td>\n",
       "      <td>0.624862</td>\n",
       "      <td>0.666667</td>\n",
       "      <td>0.666667</td>\n",
       "      <td>0.000000</td>\n",
       "      <td>0.000000</td>\n",
       "      <td>0.171717</td>\n",
       "      <td>0.121212</td>\n",
       "      <td>...</td>\n",
       "      <td>0.0</td>\n",
       "      <td>0.0</td>\n",
       "      <td>0.0</td>\n",
       "      <td>0.0</td>\n",
       "      <td>0.0</td>\n",
       "      <td>0.0</td>\n",
       "      <td>1.0</td>\n",
       "      <td>1.0</td>\n",
       "      <td>0.0</td>\n",
       "      <td>0.0</td>\n",
       "    </tr>\n",
       "    <tr>\n",
       "      <th>44875</th>\n",
       "      <td>0.641577</td>\n",
       "      <td>0.000026</td>\n",
       "      <td>0.464264</td>\n",
       "      <td>0.525773</td>\n",
       "      <td>0.666667</td>\n",
       "      <td>0.666667</td>\n",
       "      <td>0.000000</td>\n",
       "      <td>0.020408</td>\n",
       "      <td>0.232323</td>\n",
       "      <td>0.414141</td>\n",
       "      <td>...</td>\n",
       "      <td>1.0</td>\n",
       "      <td>0.0</td>\n",
       "      <td>0.0</td>\n",
       "      <td>0.0</td>\n",
       "      <td>0.0</td>\n",
       "      <td>0.0</td>\n",
       "      <td>0.0</td>\n",
       "      <td>1.0</td>\n",
       "      <td>0.0</td>\n",
       "      <td>0.0</td>\n",
       "    </tr>\n",
       "    <tr>\n",
       "      <th>38151</th>\n",
       "      <td>0.784946</td>\n",
       "      <td>0.000000</td>\n",
       "      <td>0.309063</td>\n",
       "      <td>0.690722</td>\n",
       "      <td>0.333333</td>\n",
       "      <td>1.000000</td>\n",
       "      <td>0.062241</td>\n",
       "      <td>0.000000</td>\n",
       "      <td>0.383838</td>\n",
       "      <td>0.363636</td>\n",
       "      <td>...</td>\n",
       "      <td>1.0</td>\n",
       "      <td>0.0</td>\n",
       "      <td>0.0</td>\n",
       "      <td>0.0</td>\n",
       "      <td>0.0</td>\n",
       "      <td>1.0</td>\n",
       "      <td>0.0</td>\n",
       "      <td>0.0</td>\n",
       "      <td>0.0</td>\n",
       "      <td>0.0</td>\n",
       "    </tr>\n",
       "    <tr>\n",
       "      <th>71032</th>\n",
       "      <td>0.354839</td>\n",
       "      <td>0.000026</td>\n",
       "      <td>0.247786</td>\n",
       "      <td>0.752577</td>\n",
       "      <td>0.166667</td>\n",
       "      <td>0.666667</td>\n",
       "      <td>0.000000</td>\n",
       "      <td>0.040816</td>\n",
       "      <td>0.313131</td>\n",
       "      <td>0.272727</td>\n",
       "      <td>...</td>\n",
       "      <td>1.0</td>\n",
       "      <td>0.0</td>\n",
       "      <td>0.0</td>\n",
       "      <td>0.0</td>\n",
       "      <td>1.0</td>\n",
       "      <td>0.0</td>\n",
       "      <td>0.0</td>\n",
       "      <td>1.0</td>\n",
       "      <td>0.0</td>\n",
       "      <td>0.0</td>\n",
       "    </tr>\n",
       "  </tbody>\n",
       "</table>\n",
       "<p>10 rows × 355 columns</p>\n",
       "</div>"
      ],
      "text/plain": [
       "        ODATEDW     TCODE       DOB       AGE    INCOME   WEALTH1       HIT  \\\n",
       "42551  0.211470  0.000026  0.144284  0.855670  0.500000  0.777778  0.161826   \n",
       "62126  0.211470  0.000000  0.278579  0.721649  0.666667  0.666667  0.000000   \n",
       "9510   0.498208  0.000000  0.000000  0.624862  0.666667  0.666667  0.000000   \n",
       "42820  0.928315  0.000000  0.000000  0.624862  0.000000  0.666667  0.000000   \n",
       "68191  0.784946  0.000718  0.000000  0.624862  0.666667  0.666667  0.000000   \n",
       "8000   0.211470  0.000103  0.196292  0.804124  0.666667  0.777778  0.024896   \n",
       "64976  0.211470  0.000077  0.000000  0.624862  0.666667  0.666667  0.000000   \n",
       "44875  0.641577  0.000026  0.464264  0.525773  0.666667  0.666667  0.000000   \n",
       "38151  0.784946  0.000000  0.309063  0.690722  0.333333  1.000000  0.062241   \n",
       "71032  0.354839  0.000026  0.247786  0.752577  0.166667  0.666667  0.000000   \n",
       "\n",
       "       MALEMILI   MALEVET  VIETVETS  ...  GEOCODE2_B  GEOCODE2_C  GEOCODE2_D  \\\n",
       "42551  0.000000  0.373737  0.303030  ...         0.0         0.0         0.0   \n",
       "62126  0.000000  0.343434  0.222222  ...         0.0         0.0         1.0   \n",
       "9510   0.000000  0.515152  0.313131  ...         0.0         0.0         0.0   \n",
       "42820  0.000000  0.404040  0.303030  ...         0.0         0.0         1.0   \n",
       "68191  0.000000  0.191919  0.535354  ...         0.0         0.0         0.0   \n",
       "8000   0.000000  0.464646  0.292929  ...         0.0         0.0         1.0   \n",
       "64976  0.000000  0.171717  0.121212  ...         0.0         0.0         0.0   \n",
       "44875  0.020408  0.232323  0.414141  ...         1.0         0.0         0.0   \n",
       "38151  0.000000  0.383838  0.363636  ...         1.0         0.0         0.0   \n",
       "71032  0.040816  0.313131  0.272727  ...         1.0         0.0         0.0   \n",
       "\n",
       "       DOMAIN_A_R  DOMAIN_A_S  DOMAIN_A_T  DOMAIN_A_U  DOMAIN_B_2  DOMAIN_B_3  \\\n",
       "42551         0.0         0.0         0.0         0.0         0.0         0.0   \n",
       "62126         0.0         0.0         1.0         0.0         1.0         0.0   \n",
       "9510          0.0         0.0         0.0         0.0         1.0         0.0   \n",
       "42820         1.0         0.0         0.0         0.0         1.0         0.0   \n",
       "68191         0.0         0.0         0.0         1.0         0.0         0.0   \n",
       "8000          1.0         0.0         0.0         0.0         0.0         0.0   \n",
       "64976         0.0         0.0         0.0         1.0         1.0         0.0   \n",
       "44875         0.0         0.0         0.0         0.0         1.0         0.0   \n",
       "38151         0.0         0.0         1.0         0.0         0.0         0.0   \n",
       "71032         0.0         1.0         0.0         0.0         1.0         0.0   \n",
       "\n",
       "       DOMAIN_B_4  \n",
       "42551         0.0  \n",
       "62126         0.0  \n",
       "9510          0.0  \n",
       "42820         0.0  \n",
       "68191         0.0  \n",
       "8000          0.0  \n",
       "64976         0.0  \n",
       "44875         0.0  \n",
       "38151         0.0  \n",
       "71032         0.0  \n",
       "\n",
       "[10 rows x 355 columns]"
      ]
     },
     "execution_count": 176,
     "metadata": {},
     "output_type": "execute_result"
    }
   ],
   "source": [
    "X_train_over.head(10)"
   ]
  },
  {
   "cell_type": "code",
   "execution_count": 178,
   "id": "b9b85c85",
   "metadata": {},
   "outputs": [],
   "source": [
    "model_over = LogisticRegression(solver='lbfgs',\n",
    "                  multi_class='auto', max_iter = 10000).fit(X_train_over, y_train_over)"
   ]
  },
  {
   "cell_type": "code",
   "execution_count": 179,
   "id": "16e8642e",
   "metadata": {},
   "outputs": [],
   "source": [
    "predictions_over = model_over.predict(X_test)"
   ]
  },
  {
   "cell_type": "code",
   "execution_count": 180,
   "id": "53aabccf",
   "metadata": {},
   "outputs": [
    {
     "data": {
      "text/plain": [
       "array([[14126,  8523],\n",
       "       [  564,   640]], dtype=int64)"
      ]
     },
     "execution_count": 180,
     "metadata": {},
     "output_type": "execute_result"
    }
   ],
   "source": [
    "confusion_matrix(y_test, predictions_over)"
   ]
  },
  {
   "cell_type": "code",
   "execution_count": 181,
   "id": "6f0e1e1e",
   "metadata": {},
   "outputs": [
    {
     "data": {
      "text/plain": [
       "0.5"
      ]
     },
     "metadata": {},
     "output_type": "display_data"
    },
    {
     "data": {
      "text/plain": [
       "0.9495241688676477"
      ]
     },
     "metadata": {},
     "output_type": "display_data"
    }
   ],
   "source": [
    "display(model.score(X_train_over, y_train_over))\n",
    "display(model.score(X_test, y_test))"
   ]
  },
  {
   "cell_type": "code",
   "execution_count": 182,
   "id": "54af33ea",
   "metadata": {},
   "outputs": [
    {
     "name": "stdout",
     "output_type": "stream",
     "text": [
      "precision:  0.06984612026628834\n",
      "recall:  0.53156146179402\n",
      "f1:  0.12346869875566702\n"
     ]
    }
   ],
   "source": [
    "print(\"precision: \",precision_score(y_test,predictions_over, average='binary', pos_label = 1, labels=[1, 0]))\n",
    "print(\"recall: \",recall_score(y_test,predictions_over, average='binary', pos_label = 1, labels=[1, 0]))\n",
    "print(\"f1: \",f1_score(y_test,predictions_over, average='binary', pos_label = 1, labels=[1, 0]))"
   ]
  },
  {
   "cell_type": "markdown",
   "id": "05653c25",
   "metadata": {},
   "source": [
    "##### Not quite better than undersampling"
   ]
  },
  {
   "cell_type": "markdown",
   "id": "b40b19de",
   "metadata": {},
   "source": [
    "#### SMOTE"
   ]
  },
  {
   "cell_type": "code",
   "execution_count": 184,
   "id": "74bba724",
   "metadata": {},
   "outputs": [],
   "source": [
    "sm = SMOTE(k_neighbors=5)\n",
    "X_train_SMOTE,y_train_SMOTE = sm.fit_resample(X_train,y_train)"
   ]
  },
  {
   "cell_type": "code",
   "execution_count": 185,
   "id": "eeb4abce",
   "metadata": {},
   "outputs": [
    {
     "name": "stdout",
     "output_type": "stream",
     "text": [
      "0.6170712279377856\n",
      "0.6137592755628223\n",
      "precision:  0.06899149714777741\n",
      "recall:  0.532392026578073\n",
      "f1:  0.12215340638399236\n"
     ]
    }
   ],
   "source": [
    "model_smote = LogisticRegression(solver='lbfgs', multi_class='auto', max_iter = 10000)\n",
    "model_smote.fit(X_train_SMOTE, y_train_SMOTE)\n",
    "pred = model_smote.predict(X_test)\n",
    "\n",
    "print(model_smote.score(X_train, y_train))\n",
    "print(model_smote.score(X_test, y_test))\n",
    "print(\"precision: \",precision_score(y_test,pred, average='binary', pos_label = 1))\n",
    "print(\"recall: \",recall_score(y_test,pred, average='binary', pos_label = 1))\n",
    "print(\"f1: \",f1_score(y_test,pred, average='binary', pos_label = 1))"
   ]
  },
  {
   "cell_type": "code",
   "execution_count": 186,
   "id": "40633df6",
   "metadata": {},
   "outputs": [
    {
     "data": {
      "text/plain": [
       "array([[13999,  8650],\n",
       "       [  563,   641]], dtype=int64)"
      ]
     },
     "execution_count": 186,
     "metadata": {},
     "output_type": "execute_result"
    }
   ],
   "source": [
    "confusion_matrix(y_test, pred)"
   ]
  },
  {
   "cell_type": "markdown",
   "id": "c18f6baf",
   "metadata": {},
   "source": [
    "##### Now for 0 and 1 over 50% of cases false predictions were made (either false postive or false negative). \n",
    "Reasons could be:\n",
    " - multicollinearity between the features (was not checked)"
   ]
  },
  {
   "cell_type": "code",
   "execution_count": null,
   "id": "ffaae5dc",
   "metadata": {},
   "outputs": [],
   "source": []
  }
 ],
 "metadata": {
  "kernelspec": {
   "display_name": "Python 3 (ipykernel)",
   "language": "python",
   "name": "python3"
  },
  "language_info": {
   "codemirror_mode": {
    "name": "ipython",
    "version": 3
   },
   "file_extension": ".py",
   "mimetype": "text/x-python",
   "name": "python",
   "nbconvert_exporter": "python",
   "pygments_lexer": "ipython3",
   "version": "3.9.13"
  }
 },
 "nbformat": 4,
 "nbformat_minor": 5
}
